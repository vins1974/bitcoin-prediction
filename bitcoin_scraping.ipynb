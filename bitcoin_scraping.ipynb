{
 "cells": [
  {
   "cell_type": "code",
   "execution_count": 25,
   "id": "individual-visitor",
   "metadata": {},
   "outputs": [],
   "source": [
    "import bitfinex"
   ]
  },
  {
   "cell_type": "code",
   "execution_count": 26,
   "id": "portable-feelings",
   "metadata": {},
   "outputs": [
    {
     "name": "stdout",
     "output_type": "stream",
     "text": [
      "No keys, only access to public API functions\n"
     ]
    }
   ],
   "source": [
    "# Create api instance of the v2 API\n",
    "api_v2 = bitfinex.bitfinex_v2.api_v2()"
   ]
  },
  {
   "cell_type": "code",
   "execution_count": 27,
   "id": "northern-leisure",
   "metadata": {},
   "outputs": [],
   "source": [
    "result = api_v2.candles()"
   ]
  },
  {
   "cell_type": "code",
   "execution_count": 28,
   "id": "indian-minneapolis",
   "metadata": {},
   "outputs": [],
   "source": [
    "import datetime\n",
    "import time\n",
    "# Define query parameters\n",
    "pair = 'btcusd' # Currency pair of interest\n",
    "bin_size = '1m' # This will return minute data\n",
    "limit = 10000    # We want the maximum of 1000 data points \n",
    "# Define the start date\n",
    "t_start = datetime.datetime(2021,4,12, 0, 0)\n",
    "t_start = time.mktime(t_start.timetuple()) * 1000\n",
    "# Define the end date\n",
    "t_stop = datetime.datetime(2021, 4, 20, 0, 0)\n",
    "t_stop = time.mktime(t_stop.timetuple()) * 1000\n",
    "result = api_v2.candles(symbol=pair, interval=bin_size,  \n",
    "                     limit=limit, start=t_start, end=t_stop)"
   ]
  },
  {
   "cell_type": "code",
   "execution_count": 30,
   "id": "invalid-activity",
   "metadata": {},
   "outputs": [],
   "source": [
    "import pandas as pd"
   ]
  },
  {
   "cell_type": "code",
   "execution_count": 31,
   "id": "little-warrant",
   "metadata": {},
   "outputs": [],
   "source": [
    "names = ['time', 'open', 'close', 'high', 'low', 'volume']"
   ]
  },
  {
   "cell_type": "code",
   "execution_count": 32,
   "id": "absolute-national",
   "metadata": {},
   "outputs": [],
   "source": [
    "df = pd.DataFrame(result, columns=names)"
   ]
  },
  {
   "cell_type": "code",
   "execution_count": 33,
   "id": "impossible-district",
   "metadata": {},
   "outputs": [
    {
     "data": {
      "text/html": [
       "<div>\n",
       "<style scoped>\n",
       "    .dataframe tbody tr th:only-of-type {\n",
       "        vertical-align: middle;\n",
       "    }\n",
       "\n",
       "    .dataframe tbody tr th {\n",
       "        vertical-align: top;\n",
       "    }\n",
       "\n",
       "    .dataframe thead th {\n",
       "        text-align: right;\n",
       "    }\n",
       "</style>\n",
       "<table border=\"1\" class=\"dataframe\">\n",
       "  <thead>\n",
       "    <tr style=\"text-align: right;\">\n",
       "      <th></th>\n",
       "      <th>time</th>\n",
       "      <th>open</th>\n",
       "      <th>close</th>\n",
       "      <th>high</th>\n",
       "      <th>low</th>\n",
       "      <th>volume</th>\n",
       "    </tr>\n",
       "  </thead>\n",
       "  <tbody>\n",
       "    <tr>\n",
       "      <th>0</th>\n",
       "      <td>1618826640000</td>\n",
       "      <td>56572.0</td>\n",
       "      <td>56553.000000</td>\n",
       "      <td>56628.000000</td>\n",
       "      <td>56552.000000</td>\n",
       "      <td>4.975340</td>\n",
       "    </tr>\n",
       "    <tr>\n",
       "      <th>1</th>\n",
       "      <td>1618826580000</td>\n",
       "      <td>56666.0</td>\n",
       "      <td>56574.000000</td>\n",
       "      <td>56666.000000</td>\n",
       "      <td>56551.649294</td>\n",
       "      <td>11.875513</td>\n",
       "    </tr>\n",
       "    <tr>\n",
       "      <th>2</th>\n",
       "      <td>1618826520000</td>\n",
       "      <td>56694.0</td>\n",
       "      <td>56666.636456</td>\n",
       "      <td>56701.000000</td>\n",
       "      <td>56666.000000</td>\n",
       "      <td>1.559669</td>\n",
       "    </tr>\n",
       "    <tr>\n",
       "      <th>3</th>\n",
       "      <td>1618826460000</td>\n",
       "      <td>56778.0</td>\n",
       "      <td>56694.000000</td>\n",
       "      <td>56778.000000</td>\n",
       "      <td>56694.000000</td>\n",
       "      <td>2.271022</td>\n",
       "    </tr>\n",
       "    <tr>\n",
       "      <th>4</th>\n",
       "      <td>1618826400000</td>\n",
       "      <td>56719.0</td>\n",
       "      <td>56779.155929</td>\n",
       "      <td>56808.657034</td>\n",
       "      <td>56719.000000</td>\n",
       "      <td>1.862801</td>\n",
       "    </tr>\n",
       "  </tbody>\n",
       "</table>\n",
       "</div>"
      ],
      "text/plain": [
       "            time     open         close          high           low     volume\n",
       "0  1618826640000  56572.0  56553.000000  56628.000000  56552.000000   4.975340\n",
       "1  1618826580000  56666.0  56574.000000  56666.000000  56551.649294  11.875513\n",
       "2  1618826520000  56694.0  56666.636456  56701.000000  56666.000000   1.559669\n",
       "3  1618826460000  56778.0  56694.000000  56778.000000  56694.000000   2.271022\n",
       "4  1618826400000  56719.0  56779.155929  56808.657034  56719.000000   1.862801"
      ]
     },
     "execution_count": 33,
     "metadata": {},
     "output_type": "execute_result"
    }
   ],
   "source": [
    "df.head()"
   ]
  },
  {
   "cell_type": "code",
   "execution_count": 34,
   "id": "addressed-deadline",
   "metadata": {},
   "outputs": [],
   "source": [
    "df['time'] = pd.to_datetime(df['time'], unit='ms')"
   ]
  },
  {
   "cell_type": "code",
   "execution_count": 35,
   "id": "faced-maker",
   "metadata": {},
   "outputs": [
    {
     "data": {
      "text/html": [
       "<div>\n",
       "<style scoped>\n",
       "    .dataframe tbody tr th:only-of-type {\n",
       "        vertical-align: middle;\n",
       "    }\n",
       "\n",
       "    .dataframe tbody tr th {\n",
       "        vertical-align: top;\n",
       "    }\n",
       "\n",
       "    .dataframe thead th {\n",
       "        text-align: right;\n",
       "    }\n",
       "</style>\n",
       "<table border=\"1\" class=\"dataframe\">\n",
       "  <thead>\n",
       "    <tr style=\"text-align: right;\">\n",
       "      <th></th>\n",
       "      <th>time</th>\n",
       "      <th>open</th>\n",
       "      <th>close</th>\n",
       "      <th>high</th>\n",
       "      <th>low</th>\n",
       "      <th>volume</th>\n",
       "    </tr>\n",
       "  </thead>\n",
       "  <tbody>\n",
       "    <tr>\n",
       "      <th>0</th>\n",
       "      <td>2021-04-19 10:04:00</td>\n",
       "      <td>56572.0</td>\n",
       "      <td>56553.000000</td>\n",
       "      <td>56628.000000</td>\n",
       "      <td>56552.000000</td>\n",
       "      <td>4.975340</td>\n",
       "    </tr>\n",
       "    <tr>\n",
       "      <th>1</th>\n",
       "      <td>2021-04-19 10:03:00</td>\n",
       "      <td>56666.0</td>\n",
       "      <td>56574.000000</td>\n",
       "      <td>56666.000000</td>\n",
       "      <td>56551.649294</td>\n",
       "      <td>11.875513</td>\n",
       "    </tr>\n",
       "    <tr>\n",
       "      <th>2</th>\n",
       "      <td>2021-04-19 10:02:00</td>\n",
       "      <td>56694.0</td>\n",
       "      <td>56666.636456</td>\n",
       "      <td>56701.000000</td>\n",
       "      <td>56666.000000</td>\n",
       "      <td>1.559669</td>\n",
       "    </tr>\n",
       "    <tr>\n",
       "      <th>3</th>\n",
       "      <td>2021-04-19 10:01:00</td>\n",
       "      <td>56778.0</td>\n",
       "      <td>56694.000000</td>\n",
       "      <td>56778.000000</td>\n",
       "      <td>56694.000000</td>\n",
       "      <td>2.271022</td>\n",
       "    </tr>\n",
       "    <tr>\n",
       "      <th>4</th>\n",
       "      <td>2021-04-19 10:00:00</td>\n",
       "      <td>56719.0</td>\n",
       "      <td>56779.155929</td>\n",
       "      <td>56808.657034</td>\n",
       "      <td>56719.000000</td>\n",
       "      <td>1.862801</td>\n",
       "    </tr>\n",
       "  </tbody>\n",
       "</table>\n",
       "</div>"
      ],
      "text/plain": [
       "                 time     open         close          high           low  \\\n",
       "0 2021-04-19 10:04:00  56572.0  56553.000000  56628.000000  56552.000000   \n",
       "1 2021-04-19 10:03:00  56666.0  56574.000000  56666.000000  56551.649294   \n",
       "2 2021-04-19 10:02:00  56694.0  56666.636456  56701.000000  56666.000000   \n",
       "3 2021-04-19 10:01:00  56778.0  56694.000000  56778.000000  56694.000000   \n",
       "4 2021-04-19 10:00:00  56719.0  56779.155929  56808.657034  56719.000000   \n",
       "\n",
       "      volume  \n",
       "0   4.975340  \n",
       "1  11.875513  \n",
       "2   1.559669  \n",
       "3   2.271022  \n",
       "4   1.862801  "
      ]
     },
     "execution_count": 35,
     "metadata": {},
     "output_type": "execute_result"
    }
   ],
   "source": [
    "df.head()"
   ]
  },
  {
   "cell_type": "code",
   "execution_count": 36,
   "id": "coated-watson",
   "metadata": {},
   "outputs": [
    {
     "data": {
      "text/html": [
       "<div>\n",
       "<style scoped>\n",
       "    .dataframe tbody tr th:only-of-type {\n",
       "        vertical-align: middle;\n",
       "    }\n",
       "\n",
       "    .dataframe tbody tr th {\n",
       "        vertical-align: top;\n",
       "    }\n",
       "\n",
       "    .dataframe thead th {\n",
       "        text-align: right;\n",
       "    }\n",
       "</style>\n",
       "<table border=\"1\" class=\"dataframe\">\n",
       "  <thead>\n",
       "    <tr style=\"text-align: right;\">\n",
       "      <th></th>\n",
       "      <th>time</th>\n",
       "      <th>open</th>\n",
       "      <th>close</th>\n",
       "      <th>high</th>\n",
       "      <th>low</th>\n",
       "      <th>volume</th>\n",
       "    </tr>\n",
       "  </thead>\n",
       "  <tbody>\n",
       "    <tr>\n",
       "      <th>9995</th>\n",
       "      <td>2021-04-12 11:26:00</td>\n",
       "      <td>60000.0</td>\n",
       "      <td>60000.000000</td>\n",
       "      <td>60000.482297</td>\n",
       "      <td>60000.0</td>\n",
       "      <td>2.269179</td>\n",
       "    </tr>\n",
       "    <tr>\n",
       "      <th>9996</th>\n",
       "      <td>2021-04-12 11:25:00</td>\n",
       "      <td>60013.0</td>\n",
       "      <td>60000.000000</td>\n",
       "      <td>60014.000000</td>\n",
       "      <td>60000.0</td>\n",
       "      <td>1.960719</td>\n",
       "    </tr>\n",
       "    <tr>\n",
       "      <th>9997</th>\n",
       "      <td>2021-04-12 11:24:00</td>\n",
       "      <td>60013.0</td>\n",
       "      <td>60013.000000</td>\n",
       "      <td>60013.934448</td>\n",
       "      <td>60013.0</td>\n",
       "      <td>0.390078</td>\n",
       "    </tr>\n",
       "    <tr>\n",
       "      <th>9998</th>\n",
       "      <td>2021-04-12 11:23:00</td>\n",
       "      <td>60031.0</td>\n",
       "      <td>60012.000000</td>\n",
       "      <td>60031.000000</td>\n",
       "      <td>60012.0</td>\n",
       "      <td>0.909728</td>\n",
       "    </tr>\n",
       "    <tr>\n",
       "      <th>9999</th>\n",
       "      <td>2021-04-12 11:22:00</td>\n",
       "      <td>60025.0</td>\n",
       "      <td>60030.669608</td>\n",
       "      <td>60031.000000</td>\n",
       "      <td>60025.0</td>\n",
       "      <td>0.060630</td>\n",
       "    </tr>\n",
       "  </tbody>\n",
       "</table>\n",
       "</div>"
      ],
      "text/plain": [
       "                    time     open         close          high      low  \\\n",
       "9995 2021-04-12 11:26:00  60000.0  60000.000000  60000.482297  60000.0   \n",
       "9996 2021-04-12 11:25:00  60013.0  60000.000000  60014.000000  60000.0   \n",
       "9997 2021-04-12 11:24:00  60013.0  60013.000000  60013.934448  60013.0   \n",
       "9998 2021-04-12 11:23:00  60031.0  60012.000000  60031.000000  60012.0   \n",
       "9999 2021-04-12 11:22:00  60025.0  60030.669608  60031.000000  60025.0   \n",
       "\n",
       "        volume  \n",
       "9995  2.269179  \n",
       "9996  1.960719  \n",
       "9997  0.390078  \n",
       "9998  0.909728  \n",
       "9999  0.060630  "
      ]
     },
     "execution_count": 36,
     "metadata": {},
     "output_type": "execute_result"
    }
   ],
   "source": [
    "df.tail()"
   ]
  },
  {
   "cell_type": "code",
   "execution_count": 37,
   "id": "pacific-procedure",
   "metadata": {},
   "outputs": [],
   "source": [
    "df.drop_duplicates(inplace=True)"
   ]
  },
  {
   "cell_type": "code",
   "execution_count": 38,
   "id": "amateur-evening",
   "metadata": {},
   "outputs": [
    {
     "data": {
      "text/plain": [
       "(10000, 6)"
      ]
     },
     "execution_count": 38,
     "metadata": {},
     "output_type": "execute_result"
    }
   ],
   "source": [
    "df.shape"
   ]
  },
  {
   "cell_type": "code",
   "execution_count": 39,
   "id": "false-romantic",
   "metadata": {},
   "outputs": [],
   "source": [
    "df.to_csv(\"bitcoin.csv\")"
   ]
  },
  {
   "cell_type": "code",
   "execution_count": null,
   "id": "biological-soundtrack",
   "metadata": {},
   "outputs": [],
   "source": []
  }
 ],
 "metadata": {
  "kernelspec": {
   "display_name": "Python 3",
   "language": "python",
   "name": "python3"
  },
  "language_info": {
   "codemirror_mode": {
    "name": "ipython",
    "version": 3
   },
   "file_extension": ".py",
   "mimetype": "text/x-python",
   "name": "python",
   "nbconvert_exporter": "python",
   "pygments_lexer": "ipython3",
   "version": "3.8.6"
  }
 },
 "nbformat": 4,
 "nbformat_minor": 5
}
