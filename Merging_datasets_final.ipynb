{
  "nbformat": 4,
  "nbformat_minor": 0,
  "metadata": {
    "kernelspec": {
      "display_name": "Python 3",
      "language": "python",
      "name": "python3"
    },
    "language_info": {
      "codemirror_mode": {
        "name": "ipython",
        "version": 3
      },
      "file_extension": ".py",
      "mimetype": "text/x-python",
      "name": "python",
      "nbconvert_exporter": "python",
      "pygments_lexer": "ipython3",
      "version": "3.8.6"
    },
    "colab": {
      "name": "Merging datasets_final.ipynb",
      "provenance": [],
      "toc_visible": true
    },
    "accelerator": "GPU"
  },
  "cells": [
    {
      "cell_type": "code",
      "metadata": {
        "id": "eq152zNu0nJj"
      },
      "source": [
        "import pandas as pd\n",
        "import numpy as np\n",
        "import matplotlib.pyplot as plt\n",
        "import plotly.offline as py\n",
        "import plotly.graph_objs as go\n",
        "import warnings\n",
        "warnings.filterwarnings(\"ignore\")\n",
        "from sklearn.preprocessing import MinMaxScaler\n",
        "import numpy as np\n",
        "from sklearn.impute import KNNImputer\n",
        "from sklearn.experimental import enable_iterative_imputer\n",
        "from sklearn.impute import IterativeImputer"
      ],
      "execution_count": 7,
      "outputs": []
    },
    {
      "cell_type": "code",
      "metadata": {
        "id": "_US9mOeE0nJl"
      },
      "source": [
        "bitcoin = pd.read_csv('/content/btc_eda.csv')\n",
        "twitter = pd.read_csv(\"/content/twitter_eda.csv\")"
      ],
      "execution_count": 8,
      "outputs": []
    },
    {
      "cell_type": "markdown",
      "metadata": {
        "id": "tDiPz5YD0nJm"
      },
      "source": [
        "## Bitcoin dataset"
      ]
    },
    {
      "cell_type": "code",
      "metadata": {
        "colab": {
          "base_uri": "https://localhost:8080/",
          "height": 359
        },
        "id": "4o3YJMlb0nJm",
        "outputId": "a7b731b8-de39-4203-adf5-8785e7b1785e"
      },
      "source": [
        "bitcoin.tail(10)"
      ],
      "execution_count": 9,
      "outputs": [
        {
          "output_type": "execute_result",
          "data": {
            "text/html": [
              "<div>\n",
              "<style scoped>\n",
              "    .dataframe tbody tr th:only-of-type {\n",
              "        vertical-align: middle;\n",
              "    }\n",
              "\n",
              "    .dataframe tbody tr th {\n",
              "        vertical-align: top;\n",
              "    }\n",
              "\n",
              "    .dataframe thead th {\n",
              "        text-align: right;\n",
              "    }\n",
              "</style>\n",
              "<table border=\"1\" class=\"dataframe\">\n",
              "  <thead>\n",
              "    <tr style=\"text-align: right;\">\n",
              "      <th></th>\n",
              "      <th>Unnamed: 0</th>\n",
              "      <th>time</th>\n",
              "      <th>close</th>\n",
              "      <th>volume</th>\n",
              "    </tr>\n",
              "  </thead>\n",
              "  <tbody>\n",
              "    <tr>\n",
              "      <th>9990</th>\n",
              "      <td>9990</td>\n",
              "      <td>2021-04-12, 11:31</td>\n",
              "      <td>59903.000000</td>\n",
              "      <td>3.147370</td>\n",
              "    </tr>\n",
              "    <tr>\n",
              "      <th>9991</th>\n",
              "      <td>9991</td>\n",
              "      <td>2021-04-12, 11:30</td>\n",
              "      <td>59939.443000</td>\n",
              "      <td>0.536182</td>\n",
              "    </tr>\n",
              "    <tr>\n",
              "      <th>9992</th>\n",
              "      <td>9992</td>\n",
              "      <td>2021-04-12, 11:29</td>\n",
              "      <td>59963.000000</td>\n",
              "      <td>0.633691</td>\n",
              "    </tr>\n",
              "    <tr>\n",
              "      <th>9993</th>\n",
              "      <td>9993</td>\n",
              "      <td>2021-04-12, 11:28</td>\n",
              "      <td>59946.000000</td>\n",
              "      <td>1.013063</td>\n",
              "    </tr>\n",
              "    <tr>\n",
              "      <th>9994</th>\n",
              "      <td>9994</td>\n",
              "      <td>2021-04-12, 11:27</td>\n",
              "      <td>59974.000000</td>\n",
              "      <td>1.806383</td>\n",
              "    </tr>\n",
              "    <tr>\n",
              "      <th>9995</th>\n",
              "      <td>9995</td>\n",
              "      <td>2021-04-12, 11:26</td>\n",
              "      <td>60000.000000</td>\n",
              "      <td>2.269179</td>\n",
              "    </tr>\n",
              "    <tr>\n",
              "      <th>9996</th>\n",
              "      <td>9996</td>\n",
              "      <td>2021-04-12, 11:25</td>\n",
              "      <td>60000.000000</td>\n",
              "      <td>1.960719</td>\n",
              "    </tr>\n",
              "    <tr>\n",
              "      <th>9997</th>\n",
              "      <td>9997</td>\n",
              "      <td>2021-04-12, 11:24</td>\n",
              "      <td>60013.000000</td>\n",
              "      <td>0.390078</td>\n",
              "    </tr>\n",
              "    <tr>\n",
              "      <th>9998</th>\n",
              "      <td>9998</td>\n",
              "      <td>2021-04-12, 11:23</td>\n",
              "      <td>60012.000000</td>\n",
              "      <td>0.909728</td>\n",
              "    </tr>\n",
              "    <tr>\n",
              "      <th>9999</th>\n",
              "      <td>9999</td>\n",
              "      <td>2021-04-12, 11:22</td>\n",
              "      <td>60030.669608</td>\n",
              "      <td>0.060630</td>\n",
              "    </tr>\n",
              "  </tbody>\n",
              "</table>\n",
              "</div>"
            ],
            "text/plain": [
              "      Unnamed: 0               time         close    volume\n",
              "9990        9990  2021-04-12, 11:31  59903.000000  3.147370\n",
              "9991        9991  2021-04-12, 11:30  59939.443000  0.536182\n",
              "9992        9992  2021-04-12, 11:29  59963.000000  0.633691\n",
              "9993        9993  2021-04-12, 11:28  59946.000000  1.013063\n",
              "9994        9994  2021-04-12, 11:27  59974.000000  1.806383\n",
              "9995        9995  2021-04-12, 11:26  60000.000000  2.269179\n",
              "9996        9996  2021-04-12, 11:25  60000.000000  1.960719\n",
              "9997        9997  2021-04-12, 11:24  60013.000000  0.390078\n",
              "9998        9998  2021-04-12, 11:23  60012.000000  0.909728\n",
              "9999        9999  2021-04-12, 11:22  60030.669608  0.060630"
            ]
          },
          "metadata": {
            "tags": []
          },
          "execution_count": 9
        }
      ]
    },
    {
      "cell_type": "code",
      "metadata": {
        "colab": {
          "base_uri": "https://localhost:8080/"
        },
        "id": "DjkWySSG0nJn",
        "outputId": "1ecac5a0-7cf7-4575-f2fe-3fbdb496fdf8"
      },
      "source": [
        "bitcoin.shape"
      ],
      "execution_count": 10,
      "outputs": [
        {
          "output_type": "execute_result",
          "data": {
            "text/plain": [
              "(10000, 4)"
            ]
          },
          "metadata": {
            "tags": []
          },
          "execution_count": 10
        }
      ]
    },
    {
      "cell_type": "code",
      "metadata": {
        "colab": {
          "base_uri": "https://localhost:8080/"
        },
        "id": "DuDnO5cp0nJn",
        "outputId": "765554b8-a93b-433e-d06d-2bd3a38d4bb8"
      },
      "source": [
        "bitcoin.info()"
      ],
      "execution_count": 11,
      "outputs": [
        {
          "output_type": "stream",
          "text": [
            "<class 'pandas.core.frame.DataFrame'>\n",
            "RangeIndex: 10000 entries, 0 to 9999\n",
            "Data columns (total 4 columns):\n",
            " #   Column      Non-Null Count  Dtype  \n",
            "---  ------      --------------  -----  \n",
            " 0   Unnamed: 0  10000 non-null  int64  \n",
            " 1   time        10000 non-null  object \n",
            " 2   close       10000 non-null  float64\n",
            " 3   volume      10000 non-null  float64\n",
            "dtypes: float64(2), int64(1), object(1)\n",
            "memory usage: 312.6+ KB\n"
          ],
          "name": "stdout"
        }
      ]
    },
    {
      "cell_type": "code",
      "metadata": {
        "id": "-StBAE7J0nJn"
      },
      "source": [
        "bitcoin[['date', 'time']] = bitcoin.time.str.split(', ', expand = True)\n",
        "bitcoin['time'] = bitcoin[['date', 'time']].apply(lambda x: ' '.join(x), axis = 1)\n",
        "bitcoin['time'] = pd.to_datetime(bitcoin['time'])"
      ],
      "execution_count": 12,
      "outputs": []
    },
    {
      "cell_type": "code",
      "metadata": {
        "scrolled": true,
        "colab": {
          "base_uri": "https://localhost:8080/",
          "height": 204
        },
        "id": "JU2bSDx70nJo",
        "outputId": "40aee589-421c-46b7-9011-21faa836999d"
      },
      "source": [
        "bitcoin.head()"
      ],
      "execution_count": 13,
      "outputs": [
        {
          "output_type": "execute_result",
          "data": {
            "text/html": [
              "<div>\n",
              "<style scoped>\n",
              "    .dataframe tbody tr th:only-of-type {\n",
              "        vertical-align: middle;\n",
              "    }\n",
              "\n",
              "    .dataframe tbody tr th {\n",
              "        vertical-align: top;\n",
              "    }\n",
              "\n",
              "    .dataframe thead th {\n",
              "        text-align: right;\n",
              "    }\n",
              "</style>\n",
              "<table border=\"1\" class=\"dataframe\">\n",
              "  <thead>\n",
              "    <tr style=\"text-align: right;\">\n",
              "      <th></th>\n",
              "      <th>Unnamed: 0</th>\n",
              "      <th>time</th>\n",
              "      <th>close</th>\n",
              "      <th>volume</th>\n",
              "      <th>date</th>\n",
              "    </tr>\n",
              "  </thead>\n",
              "  <tbody>\n",
              "    <tr>\n",
              "      <th>0</th>\n",
              "      <td>0</td>\n",
              "      <td>2021-04-19 10:04:00</td>\n",
              "      <td>56553.000000</td>\n",
              "      <td>4.975340</td>\n",
              "      <td>2021-04-19</td>\n",
              "    </tr>\n",
              "    <tr>\n",
              "      <th>1</th>\n",
              "      <td>1</td>\n",
              "      <td>2021-04-19 10:03:00</td>\n",
              "      <td>56574.000000</td>\n",
              "      <td>11.875513</td>\n",
              "      <td>2021-04-19</td>\n",
              "    </tr>\n",
              "    <tr>\n",
              "      <th>2</th>\n",
              "      <td>2</td>\n",
              "      <td>2021-04-19 10:02:00</td>\n",
              "      <td>56666.636456</td>\n",
              "      <td>1.559669</td>\n",
              "      <td>2021-04-19</td>\n",
              "    </tr>\n",
              "    <tr>\n",
              "      <th>3</th>\n",
              "      <td>3</td>\n",
              "      <td>2021-04-19 10:01:00</td>\n",
              "      <td>56694.000000</td>\n",
              "      <td>2.271022</td>\n",
              "      <td>2021-04-19</td>\n",
              "    </tr>\n",
              "    <tr>\n",
              "      <th>4</th>\n",
              "      <td>4</td>\n",
              "      <td>2021-04-19 10:00:00</td>\n",
              "      <td>56779.155929</td>\n",
              "      <td>1.862801</td>\n",
              "      <td>2021-04-19</td>\n",
              "    </tr>\n",
              "  </tbody>\n",
              "</table>\n",
              "</div>"
            ],
            "text/plain": [
              "   Unnamed: 0                time         close     volume        date\n",
              "0           0 2021-04-19 10:04:00  56553.000000   4.975340  2021-04-19\n",
              "1           1 2021-04-19 10:03:00  56574.000000  11.875513  2021-04-19\n",
              "2           2 2021-04-19 10:02:00  56666.636456   1.559669  2021-04-19\n",
              "3           3 2021-04-19 10:01:00  56694.000000   2.271022  2021-04-19\n",
              "4           4 2021-04-19 10:00:00  56779.155929   1.862801  2021-04-19"
            ]
          },
          "metadata": {
            "tags": []
          },
          "execution_count": 13
        }
      ]
    },
    {
      "cell_type": "code",
      "metadata": {
        "id": "cfzgK_RT0nJo"
      },
      "source": [
        "#Reversing the dataset to match the time series of twitter data\n",
        "bitcoin = bitcoin.loc[::-1].reset_index(drop = True)"
      ],
      "execution_count": 14,
      "outputs": []
    },
    {
      "cell_type": "markdown",
      "metadata": {
        "id": "ptPknHWv0nJo"
      },
      "source": [
        "## Twitter dataset"
      ]
    },
    {
      "cell_type": "code",
      "metadata": {
        "colab": {
          "base_uri": "https://localhost:8080/",
          "height": 359
        },
        "id": "Oqw0KeIW0nJo",
        "outputId": "e22706dc-6ace-49cf-ecea-819db657e89d"
      },
      "source": [
        "twitter.head(10)"
      ],
      "execution_count": 15,
      "outputs": [
        {
          "output_type": "execute_result",
          "data": {
            "text/html": [
              "<div>\n",
              "<style scoped>\n",
              "    .dataframe tbody tr th:only-of-type {\n",
              "        vertical-align: middle;\n",
              "    }\n",
              "\n",
              "    .dataframe tbody tr th {\n",
              "        vertical-align: top;\n",
              "    }\n",
              "\n",
              "    .dataframe thead th {\n",
              "        text-align: right;\n",
              "    }\n",
              "</style>\n",
              "<table border=\"1\" class=\"dataframe\">\n",
              "  <thead>\n",
              "    <tr style=\"text-align: right;\">\n",
              "      <th></th>\n",
              "      <th>Unnamed: 0</th>\n",
              "      <th>time</th>\n",
              "      <th>likes</th>\n",
              "      <th>no:rt</th>\n",
              "      <th>clean_tweet</th>\n",
              "      <th>sentiment</th>\n",
              "      <th>polarity</th>\n",
              "      <th>subjectivity</th>\n",
              "    </tr>\n",
              "  </thead>\n",
              "  <tbody>\n",
              "    <tr>\n",
              "      <th>0</th>\n",
              "      <td>0</td>\n",
              "      <td>2021-04-12, 21:00</td>\n",
              "      <td>0</td>\n",
              "      <td>0</td>\n",
              "      <td>Biggest Losers 1 hr Bitcoin Standard Hashrate ...</td>\n",
              "      <td>negative</td>\n",
              "      <td>-0.100000</td>\n",
              "      <td>0.100000</td>\n",
              "    </tr>\n",
              "    <tr>\n",
              "      <th>1</th>\n",
              "      <td>1</td>\n",
              "      <td>2021-04-12, 21:00</td>\n",
              "      <td>1</td>\n",
              "      <td>0</td>\n",
              "      <td>Top 5 Cryptocurrencies Current Prices Bitcoin ...</td>\n",
              "      <td>positive</td>\n",
              "      <td>0.250000</td>\n",
              "      <td>0.450000</td>\n",
              "    </tr>\n",
              "    <tr>\n",
              "      <th>2</th>\n",
              "      <td>2</td>\n",
              "      <td>2021-04-12, 21:00</td>\n",
              "      <td>0</td>\n",
              "      <td>0</td>\n",
              "      <td>on the 04 12 2021 at 09 00 1BTC was worth 6006...</td>\n",
              "      <td>positive</td>\n",
              "      <td>0.300000</td>\n",
              "      <td>0.100000</td>\n",
              "    </tr>\n",
              "    <tr>\n",
              "      <th>3</th>\n",
              "      <td>3</td>\n",
              "      <td>2021-04-12, 21:01</td>\n",
              "      <td>0</td>\n",
              "      <td>1</td>\n",
              "      <td>New Bitcoin block 00 840be452159338efb634b29c6...</td>\n",
              "      <td>positive</td>\n",
              "      <td>0.068182</td>\n",
              "      <td>0.602273</td>\n",
              "    </tr>\n",
              "    <tr>\n",
              "      <th>4</th>\n",
              "      <td>4</td>\n",
              "      <td>2021-04-12, 21:03</td>\n",
              "      <td>0</td>\n",
              "      <td>0</td>\n",
              "      <td>The current price of bitcoin is 60 105 00 It h...</td>\n",
              "      <td>neutral</td>\n",
              "      <td>0.000000</td>\n",
              "      <td>0.233333</td>\n",
              "    </tr>\n",
              "    <tr>\n",
              "      <th>5</th>\n",
              "      <td>5</td>\n",
              "      <td>2021-04-12, 21:08</td>\n",
              "      <td>0</td>\n",
              "      <td>8</td>\n",
              "      <td>RT How to Use the BZ Telegram Bot to Trade Bit...</td>\n",
              "      <td>positive</td>\n",
              "      <td>0.500000</td>\n",
              "      <td>0.625000</td>\n",
              "    </tr>\n",
              "    <tr>\n",
              "      <th>6</th>\n",
              "      <td>6</td>\n",
              "      <td>2021-04-12, 21:09</td>\n",
              "      <td>0</td>\n",
              "      <td>624</td>\n",
              "      <td>RT If Chainlink Hits 50 00 This Week Giving aw...</td>\n",
              "      <td>neutral</td>\n",
              "      <td>0.000000</td>\n",
              "      <td>0.000000</td>\n",
              "    </tr>\n",
              "    <tr>\n",
              "      <th>7</th>\n",
              "      <td>7</td>\n",
              "      <td>2021-04-12, 21:15</td>\n",
              "      <td>1</td>\n",
              "      <td>0</td>\n",
              "      <td>The current price of Bitcoin is 60038 00 The c...</td>\n",
              "      <td>neutral</td>\n",
              "      <td>0.000000</td>\n",
              "      <td>0.400000</td>\n",
              "    </tr>\n",
              "    <tr>\n",
              "      <th>8</th>\n",
              "      <td>8</td>\n",
              "      <td>2021-04-12, 21:15</td>\n",
              "      <td>0</td>\n",
              "      <td>624</td>\n",
              "      <td>RT If Chainlink Hits 50 00 This Week Giving aw...</td>\n",
              "      <td>neutral</td>\n",
              "      <td>0.000000</td>\n",
              "      <td>0.000000</td>\n",
              "    </tr>\n",
              "    <tr>\n",
              "      <th>9</th>\n",
              "      <td>9</td>\n",
              "      <td>2021-04-12, 21:20</td>\n",
              "      <td>0</td>\n",
              "      <td>0</td>\n",
              "      <td>1 Bitcoin price is 59971 16 0 14 1h 2 Ethereum...</td>\n",
              "      <td>neutral</td>\n",
              "      <td>0.000000</td>\n",
              "      <td>0.000000</td>\n",
              "    </tr>\n",
              "  </tbody>\n",
              "</table>\n",
              "</div>"
            ],
            "text/plain": [
              "   Unnamed: 0               time  likes  ...  sentiment  polarity subjectivity\n",
              "0           0  2021-04-12, 21:00      0  ...   negative -0.100000     0.100000\n",
              "1           1  2021-04-12, 21:00      1  ...   positive  0.250000     0.450000\n",
              "2           2  2021-04-12, 21:00      0  ...   positive  0.300000     0.100000\n",
              "3           3  2021-04-12, 21:01      0  ...   positive  0.068182     0.602273\n",
              "4           4  2021-04-12, 21:03      0  ...    neutral  0.000000     0.233333\n",
              "5           5  2021-04-12, 21:08      0  ...   positive  0.500000     0.625000\n",
              "6           6  2021-04-12, 21:09      0  ...    neutral  0.000000     0.000000\n",
              "7           7  2021-04-12, 21:15      1  ...    neutral  0.000000     0.400000\n",
              "8           8  2021-04-12, 21:15      0  ...    neutral  0.000000     0.000000\n",
              "9           9  2021-04-12, 21:20      0  ...    neutral  0.000000     0.000000\n",
              "\n",
              "[10 rows x 8 columns]"
            ]
          },
          "metadata": {
            "tags": []
          },
          "execution_count": 15
        }
      ]
    },
    {
      "cell_type": "code",
      "metadata": {
        "colab": {
          "base_uri": "https://localhost:8080/"
        },
        "id": "RoDQDqz50nJp",
        "outputId": "2d0e3a7a-71c7-469c-e508-fb3c735af26c"
      },
      "source": [
        "twitter.shape"
      ],
      "execution_count": 16,
      "outputs": [
        {
          "output_type": "execute_result",
          "data": {
            "text/plain": [
              "(10000, 8)"
            ]
          },
          "metadata": {
            "tags": []
          },
          "execution_count": 16
        }
      ]
    },
    {
      "cell_type": "code",
      "metadata": {
        "colab": {
          "base_uri": "https://localhost:8080/"
        },
        "id": "64VK9GUV0nJp",
        "outputId": "f3ae66d8-6a49-487e-da04-3c65cd7bee0c"
      },
      "source": [
        "twitter.info()"
      ],
      "execution_count": 17,
      "outputs": [
        {
          "output_type": "stream",
          "text": [
            "<class 'pandas.core.frame.DataFrame'>\n",
            "RangeIndex: 10000 entries, 0 to 9999\n",
            "Data columns (total 8 columns):\n",
            " #   Column        Non-Null Count  Dtype  \n",
            "---  ------        --------------  -----  \n",
            " 0   Unnamed: 0    10000 non-null  int64  \n",
            " 1   time          10000 non-null  object \n",
            " 2   likes         10000 non-null  int64  \n",
            " 3   no:rt         10000 non-null  int64  \n",
            " 4   clean_tweet   9999 non-null   object \n",
            " 5   sentiment     10000 non-null  object \n",
            " 6   polarity      10000 non-null  float64\n",
            " 7   subjectivity  10000 non-null  float64\n",
            "dtypes: float64(2), int64(3), object(3)\n",
            "memory usage: 625.1+ KB\n"
          ],
          "name": "stdout"
        }
      ]
    },
    {
      "cell_type": "code",
      "metadata": {
        "id": "QmzhdPhn0nJp"
      },
      "source": [
        "twitter[\"polarity\"]=twitter[\"polarity\"].astype(str)"
      ],
      "execution_count": 18,
      "outputs": []
    },
    {
      "cell_type": "code",
      "metadata": {
        "colab": {
          "base_uri": "https://localhost:8080/"
        },
        "id": "sl1UwNsK0nJp",
        "outputId": "ebd6aa67-7df4-42ca-f7ef-ba40f59d772d"
      },
      "source": [
        "twitter.info()"
      ],
      "execution_count": 19,
      "outputs": [
        {
          "output_type": "stream",
          "text": [
            "<class 'pandas.core.frame.DataFrame'>\n",
            "RangeIndex: 10000 entries, 0 to 9999\n",
            "Data columns (total 8 columns):\n",
            " #   Column        Non-Null Count  Dtype  \n",
            "---  ------        --------------  -----  \n",
            " 0   Unnamed: 0    10000 non-null  int64  \n",
            " 1   time          10000 non-null  object \n",
            " 2   likes         10000 non-null  int64  \n",
            " 3   no:rt         10000 non-null  int64  \n",
            " 4   clean_tweet   9999 non-null   object \n",
            " 5   sentiment     10000 non-null  object \n",
            " 6   polarity      10000 non-null  object \n",
            " 7   subjectivity  10000 non-null  float64\n",
            "dtypes: float64(1), int64(3), object(4)\n",
            "memory usage: 625.1+ KB\n"
          ],
          "name": "stdout"
        }
      ]
    },
    {
      "cell_type": "code",
      "metadata": {
        "id": "0-cqoPeE0nJp"
      },
      "source": [
        "twitter[['date', 'time']] = twitter.time.str.split(', ', expand = True)\n",
        "twitter['time'] = twitter[['date', 'time']].apply(lambda x: ' '.join(x), axis = 1)\n",
        "twitter['time'] = pd.to_datetime(twitter['time'])"
      ],
      "execution_count": 20,
      "outputs": []
    },
    {
      "cell_type": "code",
      "metadata": {
        "colab": {
          "base_uri": "https://localhost:8080/",
          "height": 306
        },
        "id": "hE2rrVz-0nJq",
        "outputId": "90a02455-1b1d-45df-e925-581901fd6d48"
      },
      "source": [
        "twitter.head()"
      ],
      "execution_count": 21,
      "outputs": [
        {
          "output_type": "execute_result",
          "data": {
            "text/html": [
              "<div>\n",
              "<style scoped>\n",
              "    .dataframe tbody tr th:only-of-type {\n",
              "        vertical-align: middle;\n",
              "    }\n",
              "\n",
              "    .dataframe tbody tr th {\n",
              "        vertical-align: top;\n",
              "    }\n",
              "\n",
              "    .dataframe thead th {\n",
              "        text-align: right;\n",
              "    }\n",
              "</style>\n",
              "<table border=\"1\" class=\"dataframe\">\n",
              "  <thead>\n",
              "    <tr style=\"text-align: right;\">\n",
              "      <th></th>\n",
              "      <th>Unnamed: 0</th>\n",
              "      <th>time</th>\n",
              "      <th>likes</th>\n",
              "      <th>no:rt</th>\n",
              "      <th>clean_tweet</th>\n",
              "      <th>sentiment</th>\n",
              "      <th>polarity</th>\n",
              "      <th>subjectivity</th>\n",
              "      <th>date</th>\n",
              "    </tr>\n",
              "  </thead>\n",
              "  <tbody>\n",
              "    <tr>\n",
              "      <th>0</th>\n",
              "      <td>0</td>\n",
              "      <td>2021-04-12 21:00:00</td>\n",
              "      <td>0</td>\n",
              "      <td>0</td>\n",
              "      <td>Biggest Losers 1 hr Bitcoin Standard Hashrate ...</td>\n",
              "      <td>negative</td>\n",
              "      <td>-0.1</td>\n",
              "      <td>0.100000</td>\n",
              "      <td>2021-04-12</td>\n",
              "    </tr>\n",
              "    <tr>\n",
              "      <th>1</th>\n",
              "      <td>1</td>\n",
              "      <td>2021-04-12 21:00:00</td>\n",
              "      <td>1</td>\n",
              "      <td>0</td>\n",
              "      <td>Top 5 Cryptocurrencies Current Prices Bitcoin ...</td>\n",
              "      <td>positive</td>\n",
              "      <td>0.25</td>\n",
              "      <td>0.450000</td>\n",
              "      <td>2021-04-12</td>\n",
              "    </tr>\n",
              "    <tr>\n",
              "      <th>2</th>\n",
              "      <td>2</td>\n",
              "      <td>2021-04-12 21:00:00</td>\n",
              "      <td>0</td>\n",
              "      <td>0</td>\n",
              "      <td>on the 04 12 2021 at 09 00 1BTC was worth 6006...</td>\n",
              "      <td>positive</td>\n",
              "      <td>0.3</td>\n",
              "      <td>0.100000</td>\n",
              "      <td>2021-04-12</td>\n",
              "    </tr>\n",
              "    <tr>\n",
              "      <th>3</th>\n",
              "      <td>3</td>\n",
              "      <td>2021-04-12 21:01:00</td>\n",
              "      <td>0</td>\n",
              "      <td>1</td>\n",
              "      <td>New Bitcoin block 00 840be452159338efb634b29c6...</td>\n",
              "      <td>positive</td>\n",
              "      <td>0.06818181818181818</td>\n",
              "      <td>0.602273</td>\n",
              "      <td>2021-04-12</td>\n",
              "    </tr>\n",
              "    <tr>\n",
              "      <th>4</th>\n",
              "      <td>4</td>\n",
              "      <td>2021-04-12 21:03:00</td>\n",
              "      <td>0</td>\n",
              "      <td>0</td>\n",
              "      <td>The current price of bitcoin is 60 105 00 It h...</td>\n",
              "      <td>neutral</td>\n",
              "      <td>0.0</td>\n",
              "      <td>0.233333</td>\n",
              "      <td>2021-04-12</td>\n",
              "    </tr>\n",
              "  </tbody>\n",
              "</table>\n",
              "</div>"
            ],
            "text/plain": [
              "   Unnamed: 0                time  ...  subjectivity        date\n",
              "0           0 2021-04-12 21:00:00  ...      0.100000  2021-04-12\n",
              "1           1 2021-04-12 21:00:00  ...      0.450000  2021-04-12\n",
              "2           2 2021-04-12 21:00:00  ...      0.100000  2021-04-12\n",
              "3           3 2021-04-12 21:01:00  ...      0.602273  2021-04-12\n",
              "4           4 2021-04-12 21:03:00  ...      0.233333  2021-04-12\n",
              "\n",
              "[5 rows x 9 columns]"
            ]
          },
          "metadata": {
            "tags": []
          },
          "execution_count": 21
        }
      ]
    },
    {
      "cell_type": "code",
      "metadata": {
        "colab": {
          "base_uri": "https://localhost:8080/"
        },
        "id": "PGBRvqeQ0nJq",
        "outputId": "18c63666-ead4-47c7-d0bb-6b4626211e36"
      },
      "source": [
        "twitter.info()"
      ],
      "execution_count": 22,
      "outputs": [
        {
          "output_type": "stream",
          "text": [
            "<class 'pandas.core.frame.DataFrame'>\n",
            "RangeIndex: 10000 entries, 0 to 9999\n",
            "Data columns (total 9 columns):\n",
            " #   Column        Non-Null Count  Dtype         \n",
            "---  ------        --------------  -----         \n",
            " 0   Unnamed: 0    10000 non-null  int64         \n",
            " 1   time          10000 non-null  datetime64[ns]\n",
            " 2   likes         10000 non-null  int64         \n",
            " 3   no:rt         10000 non-null  int64         \n",
            " 4   clean_tweet   9999 non-null   object        \n",
            " 5   sentiment     10000 non-null  object        \n",
            " 6   polarity      10000 non-null  object        \n",
            " 7   subjectivity  10000 non-null  float64       \n",
            " 8   date          10000 non-null  object        \n",
            "dtypes: datetime64[ns](1), float64(1), int64(3), object(4)\n",
            "memory usage: 703.2+ KB\n"
          ],
          "name": "stdout"
        }
      ]
    },
    {
      "cell_type": "code",
      "metadata": {
        "id": "PglK5Gca0nJq"
      },
      "source": [
        "twitter.drop(columns=\"Unnamed: 0\",inplace=True)\n",
        "bitcoin.drop(columns=\"Unnamed: 0\",inplace=True)"
      ],
      "execution_count": 23,
      "outputs": []
    },
    {
      "cell_type": "markdown",
      "metadata": {
        "id": "Db9psU_I0nJq"
      },
      "source": [
        "- Bitcoin data starts at 11:22 am on 12/apr\n",
        "- twitter data starts at 21:00 pm on 12/apr\n",
        "- bitcoin data is moroe immportant for prediction\n",
        "- therefore we want even data from 11am to 9pm\n"
      ]
    },
    {
      "cell_type": "code",
      "metadata": {
        "id": "feeoaBzp0nJq"
      },
      "source": [
        "merged = pd.merge_asof(bitcoin, twitter, on = 'time', by = 'date', tolerance = pd.Timedelta('4m'))"
      ],
      "execution_count": 24,
      "outputs": []
    },
    {
      "cell_type": "code",
      "metadata": {
        "colab": {
          "base_uri": "https://localhost:8080/"
        },
        "id": "qXq3OAfO0nJq",
        "outputId": "20b58214-34a9-4790-af6c-a42adafa3c07"
      },
      "source": [
        "merged.isna().sum()"
      ],
      "execution_count": 25,
      "outputs": [
        {
          "output_type": "execute_result",
          "data": {
            "text/plain": [
              "time               0\n",
              "close              0\n",
              "volume             0\n",
              "date               0\n",
              "likes           1406\n",
              "no:rt           1406\n",
              "clean_tweet     1410\n",
              "sentiment       1406\n",
              "polarity        1406\n",
              "subjectivity    1406\n",
              "dtype: int64"
            ]
          },
          "metadata": {
            "tags": []
          },
          "execution_count": 25
        }
      ]
    },
    {
      "cell_type": "code",
      "metadata": {
        "colab": {
          "base_uri": "https://localhost:8080/",
          "height": 204
        },
        "id": "_T4O_tqa0nJr",
        "outputId": "7379dcd9-fc1a-4ae0-9b09-69055efb6d24"
      },
      "source": [
        "merged.head()"
      ],
      "execution_count": 26,
      "outputs": [
        {
          "output_type": "execute_result",
          "data": {
            "text/html": [
              "<div>\n",
              "<style scoped>\n",
              "    .dataframe tbody tr th:only-of-type {\n",
              "        vertical-align: middle;\n",
              "    }\n",
              "\n",
              "    .dataframe tbody tr th {\n",
              "        vertical-align: top;\n",
              "    }\n",
              "\n",
              "    .dataframe thead th {\n",
              "        text-align: right;\n",
              "    }\n",
              "</style>\n",
              "<table border=\"1\" class=\"dataframe\">\n",
              "  <thead>\n",
              "    <tr style=\"text-align: right;\">\n",
              "      <th></th>\n",
              "      <th>time</th>\n",
              "      <th>close</th>\n",
              "      <th>volume</th>\n",
              "      <th>date</th>\n",
              "      <th>likes</th>\n",
              "      <th>no:rt</th>\n",
              "      <th>clean_tweet</th>\n",
              "      <th>sentiment</th>\n",
              "      <th>polarity</th>\n",
              "      <th>subjectivity</th>\n",
              "    </tr>\n",
              "  </thead>\n",
              "  <tbody>\n",
              "    <tr>\n",
              "      <th>0</th>\n",
              "      <td>2021-04-12 11:22:00</td>\n",
              "      <td>60030.669608</td>\n",
              "      <td>0.060630</td>\n",
              "      <td>2021-04-12</td>\n",
              "      <td>NaN</td>\n",
              "      <td>NaN</td>\n",
              "      <td>NaN</td>\n",
              "      <td>NaN</td>\n",
              "      <td>NaN</td>\n",
              "      <td>NaN</td>\n",
              "    </tr>\n",
              "    <tr>\n",
              "      <th>1</th>\n",
              "      <td>2021-04-12 11:23:00</td>\n",
              "      <td>60012.000000</td>\n",
              "      <td>0.909728</td>\n",
              "      <td>2021-04-12</td>\n",
              "      <td>NaN</td>\n",
              "      <td>NaN</td>\n",
              "      <td>NaN</td>\n",
              "      <td>NaN</td>\n",
              "      <td>NaN</td>\n",
              "      <td>NaN</td>\n",
              "    </tr>\n",
              "    <tr>\n",
              "      <th>2</th>\n",
              "      <td>2021-04-12 11:24:00</td>\n",
              "      <td>60013.000000</td>\n",
              "      <td>0.390078</td>\n",
              "      <td>2021-04-12</td>\n",
              "      <td>NaN</td>\n",
              "      <td>NaN</td>\n",
              "      <td>NaN</td>\n",
              "      <td>NaN</td>\n",
              "      <td>NaN</td>\n",
              "      <td>NaN</td>\n",
              "    </tr>\n",
              "    <tr>\n",
              "      <th>3</th>\n",
              "      <td>2021-04-12 11:25:00</td>\n",
              "      <td>60000.000000</td>\n",
              "      <td>1.960719</td>\n",
              "      <td>2021-04-12</td>\n",
              "      <td>NaN</td>\n",
              "      <td>NaN</td>\n",
              "      <td>NaN</td>\n",
              "      <td>NaN</td>\n",
              "      <td>NaN</td>\n",
              "      <td>NaN</td>\n",
              "    </tr>\n",
              "    <tr>\n",
              "      <th>4</th>\n",
              "      <td>2021-04-12 11:26:00</td>\n",
              "      <td>60000.000000</td>\n",
              "      <td>2.269179</td>\n",
              "      <td>2021-04-12</td>\n",
              "      <td>NaN</td>\n",
              "      <td>NaN</td>\n",
              "      <td>NaN</td>\n",
              "      <td>NaN</td>\n",
              "      <td>NaN</td>\n",
              "      <td>NaN</td>\n",
              "    </tr>\n",
              "  </tbody>\n",
              "</table>\n",
              "</div>"
            ],
            "text/plain": [
              "                 time         close    volume  ... sentiment  polarity  subjectivity\n",
              "0 2021-04-12 11:22:00  60030.669608  0.060630  ...       NaN       NaN           NaN\n",
              "1 2021-04-12 11:23:00  60012.000000  0.909728  ...       NaN       NaN           NaN\n",
              "2 2021-04-12 11:24:00  60013.000000  0.390078  ...       NaN       NaN           NaN\n",
              "3 2021-04-12 11:25:00  60000.000000  1.960719  ...       NaN       NaN           NaN\n",
              "4 2021-04-12 11:26:00  60000.000000  2.269179  ...       NaN       NaN           NaN\n",
              "\n",
              "[5 rows x 10 columns]"
            ]
          },
          "metadata": {
            "tags": []
          },
          "execution_count": 26
        }
      ]
    },
    {
      "cell_type": "code",
      "metadata": {
        "colab": {
          "base_uri": "https://localhost:8080/"
        },
        "id": "CK_uFxnx0nJr",
        "outputId": "7b9e8749-aab1-4136-9cdb-f8a5788372fa"
      },
      "source": [
        "merged.dtypes"
      ],
      "execution_count": 27,
      "outputs": [
        {
          "output_type": "execute_result",
          "data": {
            "text/plain": [
              "time            datetime64[ns]\n",
              "close                  float64\n",
              "volume                 float64\n",
              "date                    object\n",
              "likes                  float64\n",
              "no:rt                  float64\n",
              "clean_tweet             object\n",
              "sentiment               object\n",
              "polarity                object\n",
              "subjectivity           float64\n",
              "dtype: object"
            ]
          },
          "metadata": {
            "tags": []
          },
          "execution_count": 27
        }
      ]
    },
    {
      "cell_type": "code",
      "metadata": {
        "colab": {
          "base_uri": "https://localhost:8080/",
          "height": 204
        },
        "id": "1aeCXRgZ0nJr",
        "outputId": "e5157a40-a888-42f8-b640-a88c15e0f168"
      },
      "source": [
        "merged['likes'].fillna(0, inplace = True)\n",
        "merged['no:rt'].fillna(0, inplace = True)\n",
        "merged['clean_tweet'].fillna('Empty', inplace = True)\n",
        "merged['sentiment'].fillna('neutral', inplace = True)\n",
        "merged.head()"
      ],
      "execution_count": 28,
      "outputs": [
        {
          "output_type": "execute_result",
          "data": {
            "text/html": [
              "<div>\n",
              "<style scoped>\n",
              "    .dataframe tbody tr th:only-of-type {\n",
              "        vertical-align: middle;\n",
              "    }\n",
              "\n",
              "    .dataframe tbody tr th {\n",
              "        vertical-align: top;\n",
              "    }\n",
              "\n",
              "    .dataframe thead th {\n",
              "        text-align: right;\n",
              "    }\n",
              "</style>\n",
              "<table border=\"1\" class=\"dataframe\">\n",
              "  <thead>\n",
              "    <tr style=\"text-align: right;\">\n",
              "      <th></th>\n",
              "      <th>time</th>\n",
              "      <th>close</th>\n",
              "      <th>volume</th>\n",
              "      <th>date</th>\n",
              "      <th>likes</th>\n",
              "      <th>no:rt</th>\n",
              "      <th>clean_tweet</th>\n",
              "      <th>sentiment</th>\n",
              "      <th>polarity</th>\n",
              "      <th>subjectivity</th>\n",
              "    </tr>\n",
              "  </thead>\n",
              "  <tbody>\n",
              "    <tr>\n",
              "      <th>0</th>\n",
              "      <td>2021-04-12 11:22:00</td>\n",
              "      <td>60030.669608</td>\n",
              "      <td>0.060630</td>\n",
              "      <td>2021-04-12</td>\n",
              "      <td>0.0</td>\n",
              "      <td>0.0</td>\n",
              "      <td>Empty</td>\n",
              "      <td>neutral</td>\n",
              "      <td>NaN</td>\n",
              "      <td>NaN</td>\n",
              "    </tr>\n",
              "    <tr>\n",
              "      <th>1</th>\n",
              "      <td>2021-04-12 11:23:00</td>\n",
              "      <td>60012.000000</td>\n",
              "      <td>0.909728</td>\n",
              "      <td>2021-04-12</td>\n",
              "      <td>0.0</td>\n",
              "      <td>0.0</td>\n",
              "      <td>Empty</td>\n",
              "      <td>neutral</td>\n",
              "      <td>NaN</td>\n",
              "      <td>NaN</td>\n",
              "    </tr>\n",
              "    <tr>\n",
              "      <th>2</th>\n",
              "      <td>2021-04-12 11:24:00</td>\n",
              "      <td>60013.000000</td>\n",
              "      <td>0.390078</td>\n",
              "      <td>2021-04-12</td>\n",
              "      <td>0.0</td>\n",
              "      <td>0.0</td>\n",
              "      <td>Empty</td>\n",
              "      <td>neutral</td>\n",
              "      <td>NaN</td>\n",
              "      <td>NaN</td>\n",
              "    </tr>\n",
              "    <tr>\n",
              "      <th>3</th>\n",
              "      <td>2021-04-12 11:25:00</td>\n",
              "      <td>60000.000000</td>\n",
              "      <td>1.960719</td>\n",
              "      <td>2021-04-12</td>\n",
              "      <td>0.0</td>\n",
              "      <td>0.0</td>\n",
              "      <td>Empty</td>\n",
              "      <td>neutral</td>\n",
              "      <td>NaN</td>\n",
              "      <td>NaN</td>\n",
              "    </tr>\n",
              "    <tr>\n",
              "      <th>4</th>\n",
              "      <td>2021-04-12 11:26:00</td>\n",
              "      <td>60000.000000</td>\n",
              "      <td>2.269179</td>\n",
              "      <td>2021-04-12</td>\n",
              "      <td>0.0</td>\n",
              "      <td>0.0</td>\n",
              "      <td>Empty</td>\n",
              "      <td>neutral</td>\n",
              "      <td>NaN</td>\n",
              "      <td>NaN</td>\n",
              "    </tr>\n",
              "  </tbody>\n",
              "</table>\n",
              "</div>"
            ],
            "text/plain": [
              "                 time         close    volume  ... sentiment  polarity  subjectivity\n",
              "0 2021-04-12 11:22:00  60030.669608  0.060630  ...   neutral       NaN           NaN\n",
              "1 2021-04-12 11:23:00  60012.000000  0.909728  ...   neutral       NaN           NaN\n",
              "2 2021-04-12 11:24:00  60013.000000  0.390078  ...   neutral       NaN           NaN\n",
              "3 2021-04-12 11:25:00  60000.000000  1.960719  ...   neutral       NaN           NaN\n",
              "4 2021-04-12 11:26:00  60000.000000  2.269179  ...   neutral       NaN           NaN\n",
              "\n",
              "[5 rows x 10 columns]"
            ]
          },
          "metadata": {
            "tags": []
          },
          "execution_count": 28
        }
      ]
    },
    {
      "cell_type": "code",
      "metadata": {
        "colab": {
          "base_uri": "https://localhost:8080/"
        },
        "id": "U-rLMkRf0nJr",
        "outputId": "999ac586-7378-448d-b6f0-3616e18d10b6"
      },
      "source": [
        "merged.shape"
      ],
      "execution_count": 29,
      "outputs": [
        {
          "output_type": "execute_result",
          "data": {
            "text/plain": [
              "(10000, 10)"
            ]
          },
          "metadata": {
            "tags": []
          },
          "execution_count": 29
        }
      ]
    },
    {
      "cell_type": "code",
      "metadata": {
        "id": "tV0mfmc20nJr"
      },
      "source": [
        "newdf=merged.drop(columns=[\"date\",\"likes\",\"clean_tweet\",\"sentiment\",\"subjectivity\",\"no:rt\"])"
      ],
      "execution_count": 30,
      "outputs": []
    },
    {
      "cell_type": "code",
      "metadata": {
        "colab": {
          "base_uri": "https://localhost:8080/",
          "height": 204
        },
        "id": "jfSsoti40nJr",
        "outputId": "2aff21ac-13f1-4af5-ace3-3e8983e56630"
      },
      "source": [
        "newdf.head()"
      ],
      "execution_count": 31,
      "outputs": [
        {
          "output_type": "execute_result",
          "data": {
            "text/html": [
              "<div>\n",
              "<style scoped>\n",
              "    .dataframe tbody tr th:only-of-type {\n",
              "        vertical-align: middle;\n",
              "    }\n",
              "\n",
              "    .dataframe tbody tr th {\n",
              "        vertical-align: top;\n",
              "    }\n",
              "\n",
              "    .dataframe thead th {\n",
              "        text-align: right;\n",
              "    }\n",
              "</style>\n",
              "<table border=\"1\" class=\"dataframe\">\n",
              "  <thead>\n",
              "    <tr style=\"text-align: right;\">\n",
              "      <th></th>\n",
              "      <th>time</th>\n",
              "      <th>close</th>\n",
              "      <th>volume</th>\n",
              "      <th>polarity</th>\n",
              "    </tr>\n",
              "  </thead>\n",
              "  <tbody>\n",
              "    <tr>\n",
              "      <th>0</th>\n",
              "      <td>2021-04-12 11:22:00</td>\n",
              "      <td>60030.669608</td>\n",
              "      <td>0.060630</td>\n",
              "      <td>NaN</td>\n",
              "    </tr>\n",
              "    <tr>\n",
              "      <th>1</th>\n",
              "      <td>2021-04-12 11:23:00</td>\n",
              "      <td>60012.000000</td>\n",
              "      <td>0.909728</td>\n",
              "      <td>NaN</td>\n",
              "    </tr>\n",
              "    <tr>\n",
              "      <th>2</th>\n",
              "      <td>2021-04-12 11:24:00</td>\n",
              "      <td>60013.000000</td>\n",
              "      <td>0.390078</td>\n",
              "      <td>NaN</td>\n",
              "    </tr>\n",
              "    <tr>\n",
              "      <th>3</th>\n",
              "      <td>2021-04-12 11:25:00</td>\n",
              "      <td>60000.000000</td>\n",
              "      <td>1.960719</td>\n",
              "      <td>NaN</td>\n",
              "    </tr>\n",
              "    <tr>\n",
              "      <th>4</th>\n",
              "      <td>2021-04-12 11:26:00</td>\n",
              "      <td>60000.000000</td>\n",
              "      <td>2.269179</td>\n",
              "      <td>NaN</td>\n",
              "    </tr>\n",
              "  </tbody>\n",
              "</table>\n",
              "</div>"
            ],
            "text/plain": [
              "                 time         close    volume polarity\n",
              "0 2021-04-12 11:22:00  60030.669608  0.060630      NaN\n",
              "1 2021-04-12 11:23:00  60012.000000  0.909728      NaN\n",
              "2 2021-04-12 11:24:00  60013.000000  0.390078      NaN\n",
              "3 2021-04-12 11:25:00  60000.000000  1.960719      NaN\n",
              "4 2021-04-12 11:26:00  60000.000000  2.269179      NaN"
            ]
          },
          "metadata": {
            "tags": []
          },
          "execution_count": 31
        }
      ]
    },
    {
      "cell_type": "code",
      "metadata": {
        "colab": {
          "base_uri": "https://localhost:8080/"
        },
        "id": "EtL6tlDY0nJt",
        "outputId": "a3ac95ed-aef9-498d-a92c-593ed037721d"
      },
      "source": [
        "newdf.isna().sum()"
      ],
      "execution_count": 46,
      "outputs": [
        {
          "output_type": "execute_result",
          "data": {
            "text/plain": [
              "time           0\n",
              "close          0\n",
              "volume         0\n",
              "polarity    1406\n",
              "dtype: int64"
            ]
          },
          "metadata": {
            "tags": []
          },
          "execution_count": 46
        }
      ]
    },
    {
      "cell_type": "code",
      "metadata": {
        "id": "f89SsVad2y3u"
      },
      "source": [
        "x=newdf[[\"close\",\"volume\",\"polarity\"]]"
      ],
      "execution_count": 49,
      "outputs": []
    },
    {
      "cell_type": "code",
      "metadata": {
        "colab": {
          "base_uri": "https://localhost:8080/",
          "height": 204
        },
        "id": "8bHkTw0T2zDJ",
        "outputId": "ab3dc2fc-126e-4914-eaa9-f00fc955b4e1"
      },
      "source": [
        "x.head()"
      ],
      "execution_count": 50,
      "outputs": [
        {
          "output_type": "execute_result",
          "data": {
            "text/html": [
              "<div>\n",
              "<style scoped>\n",
              "    .dataframe tbody tr th:only-of-type {\n",
              "        vertical-align: middle;\n",
              "    }\n",
              "\n",
              "    .dataframe tbody tr th {\n",
              "        vertical-align: top;\n",
              "    }\n",
              "\n",
              "    .dataframe thead th {\n",
              "        text-align: right;\n",
              "    }\n",
              "</style>\n",
              "<table border=\"1\" class=\"dataframe\">\n",
              "  <thead>\n",
              "    <tr style=\"text-align: right;\">\n",
              "      <th></th>\n",
              "      <th>close</th>\n",
              "      <th>volume</th>\n",
              "      <th>polarity</th>\n",
              "    </tr>\n",
              "  </thead>\n",
              "  <tbody>\n",
              "    <tr>\n",
              "      <th>0</th>\n",
              "      <td>60030.669608</td>\n",
              "      <td>0.060630</td>\n",
              "      <td>NaN</td>\n",
              "    </tr>\n",
              "    <tr>\n",
              "      <th>1</th>\n",
              "      <td>60012.000000</td>\n",
              "      <td>0.909728</td>\n",
              "      <td>NaN</td>\n",
              "    </tr>\n",
              "    <tr>\n",
              "      <th>2</th>\n",
              "      <td>60013.000000</td>\n",
              "      <td>0.390078</td>\n",
              "      <td>NaN</td>\n",
              "    </tr>\n",
              "    <tr>\n",
              "      <th>3</th>\n",
              "      <td>60000.000000</td>\n",
              "      <td>1.960719</td>\n",
              "      <td>NaN</td>\n",
              "    </tr>\n",
              "    <tr>\n",
              "      <th>4</th>\n",
              "      <td>60000.000000</td>\n",
              "      <td>2.269179</td>\n",
              "      <td>NaN</td>\n",
              "    </tr>\n",
              "  </tbody>\n",
              "</table>\n",
              "</div>"
            ],
            "text/plain": [
              "          close    volume polarity\n",
              "0  60030.669608  0.060630      NaN\n",
              "1  60012.000000  0.909728      NaN\n",
              "2  60013.000000  0.390078      NaN\n",
              "3  60000.000000  1.960719      NaN\n",
              "4  60000.000000  2.269179      NaN"
            ]
          },
          "metadata": {
            "tags": []
          },
          "execution_count": 50
        }
      ]
    },
    {
      "cell_type": "code",
      "metadata": {
        "id": "mqmvBXyP0nJt"
      },
      "source": [
        "imputer = KNNImputer(n_neighbors=3)\n",
        "xtrans=imputer.fit_transform(x)"
      ],
      "execution_count": 51,
      "outputs": []
    },
    {
      "cell_type": "code",
      "metadata": {
        "colab": {
          "base_uri": "https://localhost:8080/"
        },
        "id": "qYLoz1vz0nJt",
        "outputId": "4c38f5f2-c9ec-4259-8dc9-a6ee89ae5a87"
      },
      "source": [
        "xtrans"
      ],
      "execution_count": 52,
      "outputs": [
        {
          "output_type": "execute_result",
          "data": {
            "text/plain": [
              "array([[6.00306696e+04, 6.06301500e-02, 2.27272727e-02],\n",
              "       [6.00120000e+04, 9.09728010e-01, 5.60606061e-02],\n",
              "       [6.00130000e+04, 3.90078250e-01, 5.60606061e-02],\n",
              "       ...,\n",
              "       [5.66666365e+04, 1.55966913e+00, 4.00000000e-01],\n",
              "       [5.65740000e+04, 1.18755128e+01, 1.83333333e-01],\n",
              "       [5.65530000e+04, 4.97533980e+00, 5.00000000e-02]])"
            ]
          },
          "metadata": {
            "tags": []
          },
          "execution_count": 52
        }
      ]
    },
    {
      "cell_type": "code",
      "metadata": {
        "id": "MDcWjB_C0nJt"
      },
      "source": [
        "xknn=pd.DataFrame(xtrans,columns=[\"Close\",\"Volume\",\"Polarity\"])"
      ],
      "execution_count": 55,
      "outputs": []
    },
    {
      "cell_type": "code",
      "metadata": {
        "colab": {
          "base_uri": "https://localhost:8080/",
          "height": 204
        },
        "id": "YGunJdLa0nJt",
        "outputId": "f9e002a4-1260-453e-b2f1-e388c4a56afd"
      },
      "source": [
        "xknn.head()"
      ],
      "execution_count": 56,
      "outputs": [
        {
          "output_type": "execute_result",
          "data": {
            "text/html": [
              "<div>\n",
              "<style scoped>\n",
              "    .dataframe tbody tr th:only-of-type {\n",
              "        vertical-align: middle;\n",
              "    }\n",
              "\n",
              "    .dataframe tbody tr th {\n",
              "        vertical-align: top;\n",
              "    }\n",
              "\n",
              "    .dataframe thead th {\n",
              "        text-align: right;\n",
              "    }\n",
              "</style>\n",
              "<table border=\"1\" class=\"dataframe\">\n",
              "  <thead>\n",
              "    <tr style=\"text-align: right;\">\n",
              "      <th></th>\n",
              "      <th>Close</th>\n",
              "      <th>Volume</th>\n",
              "      <th>Polarity</th>\n",
              "    </tr>\n",
              "  </thead>\n",
              "  <tbody>\n",
              "    <tr>\n",
              "      <th>0</th>\n",
              "      <td>60030.669608</td>\n",
              "      <td>0.060630</td>\n",
              "      <td>0.022727</td>\n",
              "    </tr>\n",
              "    <tr>\n",
              "      <th>1</th>\n",
              "      <td>60012.000000</td>\n",
              "      <td>0.909728</td>\n",
              "      <td>0.056061</td>\n",
              "    </tr>\n",
              "    <tr>\n",
              "      <th>2</th>\n",
              "      <td>60013.000000</td>\n",
              "      <td>0.390078</td>\n",
              "      <td>0.056061</td>\n",
              "    </tr>\n",
              "    <tr>\n",
              "      <th>3</th>\n",
              "      <td>60000.000000</td>\n",
              "      <td>1.960719</td>\n",
              "      <td>0.083333</td>\n",
              "    </tr>\n",
              "    <tr>\n",
              "      <th>4</th>\n",
              "      <td>60000.000000</td>\n",
              "      <td>2.269179</td>\n",
              "      <td>0.083333</td>\n",
              "    </tr>\n",
              "  </tbody>\n",
              "</table>\n",
              "</div>"
            ],
            "text/plain": [
              "          Close    Volume  Polarity\n",
              "0  60030.669608  0.060630  0.022727\n",
              "1  60012.000000  0.909728  0.056061\n",
              "2  60013.000000  0.390078  0.056061\n",
              "3  60000.000000  1.960719  0.083333\n",
              "4  60000.000000  2.269179  0.083333"
            ]
          },
          "metadata": {
            "tags": []
          },
          "execution_count": 56
        }
      ]
    },
    {
      "cell_type": "code",
      "metadata": {
        "id": "wM-FJPxY0nJt"
      },
      "source": [
        "final_df=pd.concat([newdf,xknn],axis=1)"
      ],
      "execution_count": 61,
      "outputs": []
    },
    {
      "cell_type": "code",
      "metadata": {
        "colab": {
          "base_uri": "https://localhost:8080/",
          "height": 204
        },
        "id": "DHjBv2VS0nJt",
        "outputId": "27737230-ea89-4cd2-ec5d-0d3ce4afec7e"
      },
      "source": [
        "final_df.head()"
      ],
      "execution_count": 62,
      "outputs": [
        {
          "output_type": "execute_result",
          "data": {
            "text/html": [
              "<div>\n",
              "<style scoped>\n",
              "    .dataframe tbody tr th:only-of-type {\n",
              "        vertical-align: middle;\n",
              "    }\n",
              "\n",
              "    .dataframe tbody tr th {\n",
              "        vertical-align: top;\n",
              "    }\n",
              "\n",
              "    .dataframe thead th {\n",
              "        text-align: right;\n",
              "    }\n",
              "</style>\n",
              "<table border=\"1\" class=\"dataframe\">\n",
              "  <thead>\n",
              "    <tr style=\"text-align: right;\">\n",
              "      <th></th>\n",
              "      <th>time</th>\n",
              "      <th>close</th>\n",
              "      <th>volume</th>\n",
              "      <th>polarity</th>\n",
              "      <th>Close</th>\n",
              "      <th>Volume</th>\n",
              "      <th>Polarity</th>\n",
              "    </tr>\n",
              "  </thead>\n",
              "  <tbody>\n",
              "    <tr>\n",
              "      <th>0</th>\n",
              "      <td>2021-04-12 11:22:00</td>\n",
              "      <td>60030.669608</td>\n",
              "      <td>0.060630</td>\n",
              "      <td>NaN</td>\n",
              "      <td>60030.669608</td>\n",
              "      <td>0.060630</td>\n",
              "      <td>0.022727</td>\n",
              "    </tr>\n",
              "    <tr>\n",
              "      <th>1</th>\n",
              "      <td>2021-04-12 11:23:00</td>\n",
              "      <td>60012.000000</td>\n",
              "      <td>0.909728</td>\n",
              "      <td>NaN</td>\n",
              "      <td>60012.000000</td>\n",
              "      <td>0.909728</td>\n",
              "      <td>0.056061</td>\n",
              "    </tr>\n",
              "    <tr>\n",
              "      <th>2</th>\n",
              "      <td>2021-04-12 11:24:00</td>\n",
              "      <td>60013.000000</td>\n",
              "      <td>0.390078</td>\n",
              "      <td>NaN</td>\n",
              "      <td>60013.000000</td>\n",
              "      <td>0.390078</td>\n",
              "      <td>0.056061</td>\n",
              "    </tr>\n",
              "    <tr>\n",
              "      <th>3</th>\n",
              "      <td>2021-04-12 11:25:00</td>\n",
              "      <td>60000.000000</td>\n",
              "      <td>1.960719</td>\n",
              "      <td>NaN</td>\n",
              "      <td>60000.000000</td>\n",
              "      <td>1.960719</td>\n",
              "      <td>0.083333</td>\n",
              "    </tr>\n",
              "    <tr>\n",
              "      <th>4</th>\n",
              "      <td>2021-04-12 11:26:00</td>\n",
              "      <td>60000.000000</td>\n",
              "      <td>2.269179</td>\n",
              "      <td>NaN</td>\n",
              "      <td>60000.000000</td>\n",
              "      <td>2.269179</td>\n",
              "      <td>0.083333</td>\n",
              "    </tr>\n",
              "  </tbody>\n",
              "</table>\n",
              "</div>"
            ],
            "text/plain": [
              "                 time         close    volume  ...         Close    Volume  Polarity\n",
              "0 2021-04-12 11:22:00  60030.669608  0.060630  ...  60030.669608  0.060630  0.022727\n",
              "1 2021-04-12 11:23:00  60012.000000  0.909728  ...  60012.000000  0.909728  0.056061\n",
              "2 2021-04-12 11:24:00  60013.000000  0.390078  ...  60013.000000  0.390078  0.056061\n",
              "3 2021-04-12 11:25:00  60000.000000  1.960719  ...  60000.000000  1.960719  0.083333\n",
              "4 2021-04-12 11:26:00  60000.000000  2.269179  ...  60000.000000  2.269179  0.083333\n",
              "\n",
              "[5 rows x 7 columns]"
            ]
          },
          "metadata": {
            "tags": []
          },
          "execution_count": 62
        }
      ]
    },
    {
      "cell_type": "code",
      "metadata": {
        "id": "jCBVCkKp4D4q"
      },
      "source": [
        "final_df.drop(columns=[\"close\",\"volume\",\"polarity\"],inplace=True)"
      ],
      "execution_count": 63,
      "outputs": []
    },
    {
      "cell_type": "code",
      "metadata": {
        "colab": {
          "base_uri": "https://localhost:8080/",
          "height": 204
        },
        "id": "stYF52Oi4QI_",
        "outputId": "6187486f-ac8f-4657-bb8f-3841bef9d671"
      },
      "source": [
        "final_df.tail()"
      ],
      "execution_count": 64,
      "outputs": [
        {
          "output_type": "execute_result",
          "data": {
            "text/html": [
              "<div>\n",
              "<style scoped>\n",
              "    .dataframe tbody tr th:only-of-type {\n",
              "        vertical-align: middle;\n",
              "    }\n",
              "\n",
              "    .dataframe tbody tr th {\n",
              "        vertical-align: top;\n",
              "    }\n",
              "\n",
              "    .dataframe thead th {\n",
              "        text-align: right;\n",
              "    }\n",
              "</style>\n",
              "<table border=\"1\" class=\"dataframe\">\n",
              "  <thead>\n",
              "    <tr style=\"text-align: right;\">\n",
              "      <th></th>\n",
              "      <th>time</th>\n",
              "      <th>Close</th>\n",
              "      <th>Volume</th>\n",
              "      <th>Polarity</th>\n",
              "    </tr>\n",
              "  </thead>\n",
              "  <tbody>\n",
              "    <tr>\n",
              "      <th>9995</th>\n",
              "      <td>2021-04-19 10:00:00</td>\n",
              "      <td>56779.155929</td>\n",
              "      <td>1.862801</td>\n",
              "      <td>0.088889</td>\n",
              "    </tr>\n",
              "    <tr>\n",
              "      <th>9996</th>\n",
              "      <td>2021-04-19 10:01:00</td>\n",
              "      <td>56694.000000</td>\n",
              "      <td>2.271022</td>\n",
              "      <td>0.266667</td>\n",
              "    </tr>\n",
              "    <tr>\n",
              "      <th>9997</th>\n",
              "      <td>2021-04-19 10:02:00</td>\n",
              "      <td>56666.636456</td>\n",
              "      <td>1.559669</td>\n",
              "      <td>0.400000</td>\n",
              "    </tr>\n",
              "    <tr>\n",
              "      <th>9998</th>\n",
              "      <td>2021-04-19 10:03:00</td>\n",
              "      <td>56574.000000</td>\n",
              "      <td>11.875513</td>\n",
              "      <td>0.183333</td>\n",
              "    </tr>\n",
              "    <tr>\n",
              "      <th>9999</th>\n",
              "      <td>2021-04-19 10:04:00</td>\n",
              "      <td>56553.000000</td>\n",
              "      <td>4.975340</td>\n",
              "      <td>0.050000</td>\n",
              "    </tr>\n",
              "  </tbody>\n",
              "</table>\n",
              "</div>"
            ],
            "text/plain": [
              "                    time         Close     Volume  Polarity\n",
              "9995 2021-04-19 10:00:00  56779.155929   1.862801  0.088889\n",
              "9996 2021-04-19 10:01:00  56694.000000   2.271022  0.266667\n",
              "9997 2021-04-19 10:02:00  56666.636456   1.559669  0.400000\n",
              "9998 2021-04-19 10:03:00  56574.000000  11.875513  0.183333\n",
              "9999 2021-04-19 10:04:00  56553.000000   4.975340  0.050000"
            ]
          },
          "metadata": {
            "tags": []
          },
          "execution_count": 64
        }
      ]
    },
    {
      "cell_type": "code",
      "metadata": {
        "colab": {
          "base_uri": "https://localhost:8080/"
        },
        "id": "PJLce7Yx4Seq",
        "outputId": "5f6ac13c-bae8-483e-de6a-5ec6ab997991"
      },
      "source": [
        "final_df.isna().sum()"
      ],
      "execution_count": 65,
      "outputs": [
        {
          "output_type": "execute_result",
          "data": {
            "text/plain": [
              "time        0\n",
              "Close       0\n",
              "Volume      0\n",
              "Polarity    0\n",
              "dtype: int64"
            ]
          },
          "metadata": {
            "tags": []
          },
          "execution_count": 65
        }
      ]
    },
    {
      "cell_type": "code",
      "metadata": {
        "id": "vvJMvjvV4WKa"
      },
      "source": [
        "final_df.to_csv(\"finaldata.csv\")"
      ],
      "execution_count": 66,
      "outputs": []
    },
    {
      "cell_type": "code",
      "metadata": {
        "id": "-OVwSqBG4caN"
      },
      "source": [
        ""
      ],
      "execution_count": null,
      "outputs": []
    }
  ]
}