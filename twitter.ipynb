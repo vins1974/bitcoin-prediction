{
 "cells": [
  {
   "cell_type": "code",
   "execution_count": 1,
   "id": "adjustable-mechanism",
   "metadata": {},
   "outputs": [
    {
     "data": {
      "text/plain": [
       "'3.10.0'"
      ]
     },
     "execution_count": 1,
     "metadata": {},
     "output_type": "execute_result"
    }
   ],
   "source": [
    "import tweepy\n",
    "import pandas as pd\n",
    "pd.set_option('display.max_rows', None)\n",
    "pd.set_option('display.max_columns', None)\n",
    "pd.set_option('display.width', None)\n",
    "import time\n",
    "import datetime\n",
    "# pd.set_option('display.max_colwidth', -1)\n",
    "tweepy.__version__"
   ]
  },
  {
   "cell_type": "code",
   "execution_count": 2,
   "id": "improved-uruguay",
   "metadata": {},
   "outputs": [],
   "source": [
    "consumer_key=\"AnlrMw88AVC7MkQDWYegpUFUP\"\n",
    "consumer_secret=\"ZFC7Ddxww4sbebgNy5qddUjvMUiKaF6QCYUPD8DwP43AAlWwjA\"\n",
    "access_token=\"95877051-ei1CoqW4adQeAVycIXIvfosmlZ7e6B4EfpQkxMqcp\"\n",
    "access_token_secret=\"E9OAvKeIcILhTICAJmWuzfx7oSwR84NihnlRukrr6uBSN\""
   ]
  },
  {
   "cell_type": "code",
   "execution_count": 3,
   "id": "accurate-worker",
   "metadata": {},
   "outputs": [],
   "source": [
    "auth=tweepy.OAuthHandler(consumer_key,consumer_secret)\n",
    "auth.set_access_token(access_token,access_token_secret)\n",
    "api=tweepy.API(auth)"
   ]
  },
  {
   "cell_type": "code",
   "execution_count": 4,
   "id": "accepted-phenomenon",
   "metadata": {},
   "outputs": [],
   "source": [
    "startDate = datetime.datetime(2021, 3, 20, 0, 0, 0)\n",
    "# endDate =   datetime.datetime(2021, 3, 24, 0, 0, 0)"
   ]
  },
  {
   "cell_type": "code",
   "execution_count": 5,
   "id": "published-dubai",
   "metadata": {},
   "outputs": [],
   "source": [
    "df = pd.DataFrame(columns = [\"tweets\",\"time\",\"likes\",\"no:rt\"])"
   ]
  },
  {
   "cell_type": "code",
   "execution_count": 6,
   "id": "compressed-volleyball",
   "metadata": {},
   "outputs": [],
   "source": [
    "def stream(data, file_name):\n",
    "    i = 0\n",
    "    for tweet in tweepy.Cursor(api.search, q=data, count=100, lang='en',since=startDate).items():\n",
    "        print(i, end='\\r')\n",
    "        df.loc[i, 'tweets'] = tweet.text\n",
    "        df.loc[i, 'time'] = tweet.created_at\n",
    "        df.loc[i, 'likes'] = tweet.favorite_count\n",
    "        df.loc[i, 'no:rt'] = tweet.retweet_count\n",
    "        \n",
    "        df.to_csv('{}.csv'.format(file_name))\n",
    "        i+=1\n",
    "        if i == 10000:\n",
    "            break\n",
    "        else:\n",
    "            pass"
   ]
  },
  {
   "cell_type": "code",
   "execution_count": 7,
   "id": "further-sweden",
   "metadata": {},
   "outputs": [
    {
     "name": "stdout",
     "output_type": "stream",
     "text": [
      "9999\r"
     ]
    }
   ],
   "source": [
    "stream(data = ['Bitcoin'], file_name = 'twitterdata')"
   ]
  },
  {
   "cell_type": "code",
   "execution_count": 8,
   "id": "animated-mortgage",
   "metadata": {},
   "outputs": [
    {
     "data": {
      "text/html": [
       "<div>\n",
       "<style scoped>\n",
       "    .dataframe tbody tr th:only-of-type {\n",
       "        vertical-align: middle;\n",
       "    }\n",
       "\n",
       "    .dataframe tbody tr th {\n",
       "        vertical-align: top;\n",
       "    }\n",
       "\n",
       "    .dataframe thead th {\n",
       "        text-align: right;\n",
       "    }\n",
       "</style>\n",
       "<table border=\"1\" class=\"dataframe\">\n",
       "  <thead>\n",
       "    <tr style=\"text-align: right;\">\n",
       "      <th></th>\n",
       "      <th>tweets</th>\n",
       "      <th>time</th>\n",
       "      <th>likes</th>\n",
       "      <th>no:rt</th>\n",
       "    </tr>\n",
       "  </thead>\n",
       "  <tbody>\n",
       "    <tr>\n",
       "      <th>0</th>\n",
       "      <td>RT @MocktailSwap: Get ready for the Best Farmi...</td>\n",
       "      <td>2021-04-19 09:16:33</td>\n",
       "      <td>0</td>\n",
       "      <td>822</td>\n",
       "    </tr>\n",
       "    <tr>\n",
       "      <th>1</th>\n",
       "      <td>The current price of Bitcoin is $57008.00.\\nTh...</td>\n",
       "      <td>2021-04-19 09:15:02</td>\n",
       "      <td>0</td>\n",
       "      <td>0</td>\n",
       "    </tr>\n",
       "    <tr>\n",
       "      <th>2</th>\n",
       "      <td>RT @JunkoSu22993224: If Chainlink Hits $50.00 ...</td>\n",
       "      <td>2021-04-19 09:14:54</td>\n",
       "      <td>0</td>\n",
       "      <td>624</td>\n",
       "    </tr>\n",
       "    <tr>\n",
       "      <th>3</th>\n",
       "      <td>RT @MocktailSwap: Get ready for the Best Farmi...</td>\n",
       "      <td>2021-04-19 09:14:43</td>\n",
       "      <td>0</td>\n",
       "      <td>822</td>\n",
       "    </tr>\n",
       "    <tr>\n",
       "      <th>4</th>\n",
       "      <td>RT @MocktailSwap: Get ready for the Best Staki...</td>\n",
       "      <td>2021-04-19 09:14:38</td>\n",
       "      <td>0</td>\n",
       "      <td>315</td>\n",
       "    </tr>\n",
       "  </tbody>\n",
       "</table>\n",
       "</div>"
      ],
      "text/plain": [
       "                                              tweets                 time  \\\n",
       "0  RT @MocktailSwap: Get ready for the Best Farmi...  2021-04-19 09:16:33   \n",
       "1  The current price of Bitcoin is $57008.00.\\nTh...  2021-04-19 09:15:02   \n",
       "2  RT @JunkoSu22993224: If Chainlink Hits $50.00 ...  2021-04-19 09:14:54   \n",
       "3  RT @MocktailSwap: Get ready for the Best Farmi...  2021-04-19 09:14:43   \n",
       "4  RT @MocktailSwap: Get ready for the Best Staki...  2021-04-19 09:14:38   \n",
       "\n",
       "  likes no:rt  \n",
       "0     0   822  \n",
       "1     0     0  \n",
       "2     0   624  \n",
       "3     0   822  \n",
       "4     0   315  "
      ]
     },
     "execution_count": 8,
     "metadata": {},
     "output_type": "execute_result"
    }
   ],
   "source": [
    "df.head()"
   ]
  },
  {
   "cell_type": "code",
   "execution_count": 9,
   "id": "expected-penalty",
   "metadata": {},
   "outputs": [
    {
     "data": {
      "text/html": [
       "<div>\n",
       "<style scoped>\n",
       "    .dataframe tbody tr th:only-of-type {\n",
       "        vertical-align: middle;\n",
       "    }\n",
       "\n",
       "    .dataframe tbody tr th {\n",
       "        vertical-align: top;\n",
       "    }\n",
       "\n",
       "    .dataframe thead th {\n",
       "        text-align: right;\n",
       "    }\n",
       "</style>\n",
       "<table border=\"1\" class=\"dataframe\">\n",
       "  <thead>\n",
       "    <tr style=\"text-align: right;\">\n",
       "      <th></th>\n",
       "      <th>tweets</th>\n",
       "      <th>time</th>\n",
       "      <th>likes</th>\n",
       "      <th>no:rt</th>\n",
       "    </tr>\n",
       "  </thead>\n",
       "  <tbody>\n",
       "    <tr>\n",
       "      <th>9995</th>\n",
       "      <td>The current price of bitcoin is $60,105.00. It...</td>\n",
       "      <td>2021-04-12 21:03:50</td>\n",
       "      <td>0</td>\n",
       "      <td>0</td>\n",
       "    </tr>\n",
       "    <tr>\n",
       "      <th>9996</th>\n",
       "      <td>New Bitcoin block 00..840be452159338efb634b29c...</td>\n",
       "      <td>2021-04-12 21:01:00</td>\n",
       "      <td>0</td>\n",
       "      <td>1</td>\n",
       "    </tr>\n",
       "    <tr>\n",
       "      <th>9997</th>\n",
       "      <td>on the 04/12/2021 at 09:00 1BTC was worth $600...</td>\n",
       "      <td>2021-04-12 21:00:39</td>\n",
       "      <td>0</td>\n",
       "      <td>0</td>\n",
       "    </tr>\n",
       "    <tr>\n",
       "      <th>9998</th>\n",
       "      <td>Top 5 Cryptocurrencies - Current Prices\\n\\nBit...</td>\n",
       "      <td>2021-04-12 21:00:32</td>\n",
       "      <td>1</td>\n",
       "      <td>0</td>\n",
       "    </tr>\n",
       "    <tr>\n",
       "      <th>9999</th>\n",
       "      <td>📉 Biggest Losers (1 hr) 📉\\nBitcoin Standard Ha...</td>\n",
       "      <td>2021-04-12 21:00:30</td>\n",
       "      <td>0</td>\n",
       "      <td>0</td>\n",
       "    </tr>\n",
       "  </tbody>\n",
       "</table>\n",
       "</div>"
      ],
      "text/plain": [
       "                                                 tweets                 time  \\\n",
       "9995  The current price of bitcoin is $60,105.00. It...  2021-04-12 21:03:50   \n",
       "9996  New Bitcoin block 00..840be452159338efb634b29c...  2021-04-12 21:01:00   \n",
       "9997  on the 04/12/2021 at 09:00 1BTC was worth $600...  2021-04-12 21:00:39   \n",
       "9998  Top 5 Cryptocurrencies - Current Prices\\n\\nBit...  2021-04-12 21:00:32   \n",
       "9999  📉 Biggest Losers (1 hr) 📉\\nBitcoin Standard Ha...  2021-04-12 21:00:30   \n",
       "\n",
       "     likes no:rt  \n",
       "9995     0     0  \n",
       "9996     0     1  \n",
       "9997     0     0  \n",
       "9998     1     0  \n",
       "9999     0     0  "
      ]
     },
     "execution_count": 9,
     "metadata": {},
     "output_type": "execute_result"
    }
   ],
   "source": [
    "df.tail()"
   ]
  },
  {
   "cell_type": "code",
   "execution_count": null,
   "id": "wicked-twenty",
   "metadata": {},
   "outputs": [],
   "source": []
  }
 ],
 "metadata": {
  "kernelspec": {
   "display_name": "Python 3",
   "language": "python",
   "name": "python3"
  },
  "language_info": {
   "codemirror_mode": {
    "name": "ipython",
    "version": 3
   },
   "file_extension": ".py",
   "mimetype": "text/x-python",
   "name": "python",
   "nbconvert_exporter": "python",
   "pygments_lexer": "ipython3",
   "version": "3.8.6"
  }
 },
 "nbformat": 4,
 "nbformat_minor": 5
}
