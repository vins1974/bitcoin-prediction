{
 "cells": [
  {
   "cell_type": "code",
   "execution_count": 70,
   "metadata": {},
   "outputs": [],
   "source": [
    "import pandas as pd\n",
    "import numpy as np\n",
    "import matplotlib.pyplot as plt\n",
    "import plotly.offline as py\n",
    "import plotly.graph_objs as go\n",
    "import warnings\n",
    "warnings.filterwarnings(\"ignore\")\n",
    "from sklearn.preprocessing import MinMaxScaler"
   ]
  },
  {
   "cell_type": "code",
   "execution_count": 71,
   "metadata": {},
   "outputs": [],
   "source": [
    "bitcoin = pd.read_csv('bitcoin.txt')\n",
    "twitter = pd.read_csv('twitter_eda.txt')"
   ]
  },
  {
   "cell_type": "markdown",
   "metadata": {},
   "source": [
    "## Bitcoin dataset"
   ]
  },
  {
   "cell_type": "code",
   "execution_count": 72,
   "metadata": {},
   "outputs": [
    {
     "data": {
      "text/html": [
       "<div>\n",
       "<style scoped>\n",
       "    .dataframe tbody tr th:only-of-type {\n",
       "        vertical-align: middle;\n",
       "    }\n",
       "\n",
       "    .dataframe tbody tr th {\n",
       "        vertical-align: top;\n",
       "    }\n",
       "\n",
       "    .dataframe thead th {\n",
       "        text-align: right;\n",
       "    }\n",
       "</style>\n",
       "<table border=\"1\" class=\"dataframe\">\n",
       "  <thead>\n",
       "    <tr style=\"text-align: right;\">\n",
       "      <th></th>\n",
       "      <th>Unnamed: 0</th>\n",
       "      <th>time</th>\n",
       "      <th>open</th>\n",
       "      <th>close</th>\n",
       "      <th>high</th>\n",
       "      <th>low</th>\n",
       "      <th>volume</th>\n",
       "    </tr>\n",
       "  </thead>\n",
       "  <tbody>\n",
       "    <tr>\n",
       "      <td>9990</td>\n",
       "      <td>9990</td>\n",
       "      <td>2021-04-12 11:31:00</td>\n",
       "      <td>59939.000000</td>\n",
       "      <td>59903.000000</td>\n",
       "      <td>59939.000000</td>\n",
       "      <td>59903.000</td>\n",
       "      <td>3.147370</td>\n",
       "    </tr>\n",
       "    <tr>\n",
       "      <td>9991</td>\n",
       "      <td>9991</td>\n",
       "      <td>2021-04-12 11:30:00</td>\n",
       "      <td>59946.036204</td>\n",
       "      <td>59939.443000</td>\n",
       "      <td>59946.036204</td>\n",
       "      <td>59939.443</td>\n",
       "      <td>0.536182</td>\n",
       "    </tr>\n",
       "    <tr>\n",
       "      <td>9992</td>\n",
       "      <td>9992</td>\n",
       "      <td>2021-04-12 11:29:00</td>\n",
       "      <td>59946.000000</td>\n",
       "      <td>59963.000000</td>\n",
       "      <td>59966.000000</td>\n",
       "      <td>59946.000</td>\n",
       "      <td>0.633691</td>\n",
       "    </tr>\n",
       "    <tr>\n",
       "      <td>9993</td>\n",
       "      <td>9993</td>\n",
       "      <td>2021-04-12 11:28:00</td>\n",
       "      <td>59974.000000</td>\n",
       "      <td>59946.000000</td>\n",
       "      <td>59974.217028</td>\n",
       "      <td>59946.000</td>\n",
       "      <td>1.013063</td>\n",
       "    </tr>\n",
       "    <tr>\n",
       "      <td>9994</td>\n",
       "      <td>9994</td>\n",
       "      <td>2021-04-12 11:27:00</td>\n",
       "      <td>60000.482297</td>\n",
       "      <td>59974.000000</td>\n",
       "      <td>60000.482297</td>\n",
       "      <td>59974.000</td>\n",
       "      <td>1.806383</td>\n",
       "    </tr>\n",
       "    <tr>\n",
       "      <td>9995</td>\n",
       "      <td>9995</td>\n",
       "      <td>2021-04-12 11:26:00</td>\n",
       "      <td>60000.000000</td>\n",
       "      <td>60000.000000</td>\n",
       "      <td>60000.482297</td>\n",
       "      <td>60000.000</td>\n",
       "      <td>2.269179</td>\n",
       "    </tr>\n",
       "    <tr>\n",
       "      <td>9996</td>\n",
       "      <td>9996</td>\n",
       "      <td>2021-04-12 11:25:00</td>\n",
       "      <td>60013.000000</td>\n",
       "      <td>60000.000000</td>\n",
       "      <td>60014.000000</td>\n",
       "      <td>60000.000</td>\n",
       "      <td>1.960719</td>\n",
       "    </tr>\n",
       "    <tr>\n",
       "      <td>9997</td>\n",
       "      <td>9997</td>\n",
       "      <td>2021-04-12 11:24:00</td>\n",
       "      <td>60013.000000</td>\n",
       "      <td>60013.000000</td>\n",
       "      <td>60013.934448</td>\n",
       "      <td>60013.000</td>\n",
       "      <td>0.390078</td>\n",
       "    </tr>\n",
       "    <tr>\n",
       "      <td>9998</td>\n",
       "      <td>9998</td>\n",
       "      <td>2021-04-12 11:23:00</td>\n",
       "      <td>60031.000000</td>\n",
       "      <td>60012.000000</td>\n",
       "      <td>60031.000000</td>\n",
       "      <td>60012.000</td>\n",
       "      <td>0.909728</td>\n",
       "    </tr>\n",
       "    <tr>\n",
       "      <td>9999</td>\n",
       "      <td>9999</td>\n",
       "      <td>2021-04-12 11:22:00</td>\n",
       "      <td>60025.000000</td>\n",
       "      <td>60030.669608</td>\n",
       "      <td>60031.000000</td>\n",
       "      <td>60025.000</td>\n",
       "      <td>0.060630</td>\n",
       "    </tr>\n",
       "  </tbody>\n",
       "</table>\n",
       "</div>"
      ],
      "text/plain": [
       "      Unnamed: 0                 time          open         close  \\\n",
       "9990        9990  2021-04-12 11:31:00  59939.000000  59903.000000   \n",
       "9991        9991  2021-04-12 11:30:00  59946.036204  59939.443000   \n",
       "9992        9992  2021-04-12 11:29:00  59946.000000  59963.000000   \n",
       "9993        9993  2021-04-12 11:28:00  59974.000000  59946.000000   \n",
       "9994        9994  2021-04-12 11:27:00  60000.482297  59974.000000   \n",
       "9995        9995  2021-04-12 11:26:00  60000.000000  60000.000000   \n",
       "9996        9996  2021-04-12 11:25:00  60013.000000  60000.000000   \n",
       "9997        9997  2021-04-12 11:24:00  60013.000000  60013.000000   \n",
       "9998        9998  2021-04-12 11:23:00  60031.000000  60012.000000   \n",
       "9999        9999  2021-04-12 11:22:00  60025.000000  60030.669608   \n",
       "\n",
       "              high        low    volume  \n",
       "9990  59939.000000  59903.000  3.147370  \n",
       "9991  59946.036204  59939.443  0.536182  \n",
       "9992  59966.000000  59946.000  0.633691  \n",
       "9993  59974.217028  59946.000  1.013063  \n",
       "9994  60000.482297  59974.000  1.806383  \n",
       "9995  60000.482297  60000.000  2.269179  \n",
       "9996  60014.000000  60000.000  1.960719  \n",
       "9997  60013.934448  60013.000  0.390078  \n",
       "9998  60031.000000  60012.000  0.909728  \n",
       "9999  60031.000000  60025.000  0.060630  "
      ]
     },
     "execution_count": 72,
     "metadata": {},
     "output_type": "execute_result"
    }
   ],
   "source": [
    "bitcoin.tail(10)"
   ]
  },
  {
   "cell_type": "code",
   "execution_count": 73,
   "metadata": {},
   "outputs": [
    {
     "name": "stdout",
     "output_type": "stream",
     "text": [
      "<class 'pandas.core.frame.DataFrame'>\n",
      "RangeIndex: 10000 entries, 0 to 9999\n",
      "Data columns (total 7 columns):\n",
      "Unnamed: 0    10000 non-null int64\n",
      "time          10000 non-null object\n",
      "open          10000 non-null float64\n",
      "close         10000 non-null float64\n",
      "high          10000 non-null float64\n",
      "low           10000 non-null float64\n",
      "volume        10000 non-null float64\n",
      "dtypes: float64(5), int64(1), object(1)\n",
      "memory usage: 547.0+ KB\n"
     ]
    }
   ],
   "source": [
    "bitcoin.info()"
   ]
  },
  {
   "cell_type": "code",
   "execution_count": 74,
   "metadata": {},
   "outputs": [],
   "source": [
    "bitcoin[['date', 'time']] = bitcoin.time.str.split(' ', expand = True)\n",
    "bitcoin['time'] = bitcoin[['date', 'time']].apply(lambda x: ' '.join(x), axis = 1)\n",
    "bitcoin['time'] = pd.to_datetime(bitcoin['time'])"
   ]
  },
  {
   "cell_type": "code",
   "execution_count": 75,
   "metadata": {},
   "outputs": [
    {
     "data": {
      "text/html": [
       "<div>\n",
       "<style scoped>\n",
       "    .dataframe tbody tr th:only-of-type {\n",
       "        vertical-align: middle;\n",
       "    }\n",
       "\n",
       "    .dataframe tbody tr th {\n",
       "        vertical-align: top;\n",
       "    }\n",
       "\n",
       "    .dataframe thead th {\n",
       "        text-align: right;\n",
       "    }\n",
       "</style>\n",
       "<table border=\"1\" class=\"dataframe\">\n",
       "  <thead>\n",
       "    <tr style=\"text-align: right;\">\n",
       "      <th></th>\n",
       "      <th>Unnamed: 0</th>\n",
       "      <th>time</th>\n",
       "      <th>open</th>\n",
       "      <th>close</th>\n",
       "      <th>high</th>\n",
       "      <th>low</th>\n",
       "      <th>volume</th>\n",
       "      <th>date</th>\n",
       "    </tr>\n",
       "  </thead>\n",
       "  <tbody>\n",
       "    <tr>\n",
       "      <td>0</td>\n",
       "      <td>0</td>\n",
       "      <td>2021-04-19 10:04:00</td>\n",
       "      <td>56572.0</td>\n",
       "      <td>56553.000000</td>\n",
       "      <td>56628.000000</td>\n",
       "      <td>56552.000000</td>\n",
       "      <td>4.975340</td>\n",
       "      <td>2021-04-19</td>\n",
       "    </tr>\n",
       "    <tr>\n",
       "      <td>1</td>\n",
       "      <td>1</td>\n",
       "      <td>2021-04-19 10:03:00</td>\n",
       "      <td>56666.0</td>\n",
       "      <td>56574.000000</td>\n",
       "      <td>56666.000000</td>\n",
       "      <td>56551.649294</td>\n",
       "      <td>11.875513</td>\n",
       "      <td>2021-04-19</td>\n",
       "    </tr>\n",
       "    <tr>\n",
       "      <td>2</td>\n",
       "      <td>2</td>\n",
       "      <td>2021-04-19 10:02:00</td>\n",
       "      <td>56694.0</td>\n",
       "      <td>56666.636456</td>\n",
       "      <td>56701.000000</td>\n",
       "      <td>56666.000000</td>\n",
       "      <td>1.559669</td>\n",
       "      <td>2021-04-19</td>\n",
       "    </tr>\n",
       "    <tr>\n",
       "      <td>3</td>\n",
       "      <td>3</td>\n",
       "      <td>2021-04-19 10:01:00</td>\n",
       "      <td>56778.0</td>\n",
       "      <td>56694.000000</td>\n",
       "      <td>56778.000000</td>\n",
       "      <td>56694.000000</td>\n",
       "      <td>2.271022</td>\n",
       "      <td>2021-04-19</td>\n",
       "    </tr>\n",
       "    <tr>\n",
       "      <td>4</td>\n",
       "      <td>4</td>\n",
       "      <td>2021-04-19 10:00:00</td>\n",
       "      <td>56719.0</td>\n",
       "      <td>56779.155929</td>\n",
       "      <td>56808.657034</td>\n",
       "      <td>56719.000000</td>\n",
       "      <td>1.862801</td>\n",
       "      <td>2021-04-19</td>\n",
       "    </tr>\n",
       "  </tbody>\n",
       "</table>\n",
       "</div>"
      ],
      "text/plain": [
       "   Unnamed: 0                time     open         close          high  \\\n",
       "0           0 2021-04-19 10:04:00  56572.0  56553.000000  56628.000000   \n",
       "1           1 2021-04-19 10:03:00  56666.0  56574.000000  56666.000000   \n",
       "2           2 2021-04-19 10:02:00  56694.0  56666.636456  56701.000000   \n",
       "3           3 2021-04-19 10:01:00  56778.0  56694.000000  56778.000000   \n",
       "4           4 2021-04-19 10:00:00  56719.0  56779.155929  56808.657034   \n",
       "\n",
       "            low     volume        date  \n",
       "0  56552.000000   4.975340  2021-04-19  \n",
       "1  56551.649294  11.875513  2021-04-19  \n",
       "2  56666.000000   1.559669  2021-04-19  \n",
       "3  56694.000000   2.271022  2021-04-19  \n",
       "4  56719.000000   1.862801  2021-04-19  "
      ]
     },
     "execution_count": 75,
     "metadata": {},
     "output_type": "execute_result"
    }
   ],
   "source": [
    "bitcoin.head()"
   ]
  },
  {
   "cell_type": "code",
   "execution_count": 76,
   "metadata": {},
   "outputs": [],
   "source": [
    "#Reversing the dataset to match the time series of twitter data\n",
    "bitcoin = bitcoin.loc[::-1].reset_index(drop = True)"
   ]
  },
  {
   "cell_type": "markdown",
   "metadata": {},
   "source": [
    "## Twitter Dataset"
   ]
  },
  {
   "cell_type": "code",
   "execution_count": 77,
   "metadata": {},
   "outputs": [
    {
     "data": {
      "text/plain": [
       "Unnamed: 0      0\n",
       "time            0\n",
       "likes           0\n",
       "no:rt           0\n",
       "clean_tweet     1\n",
       "sentiment       0\n",
       "polarity        0\n",
       "subjectivity    0\n",
       "dtype: int64"
      ]
     },
     "execution_count": 77,
     "metadata": {},
     "output_type": "execute_result"
    }
   ],
   "source": [
    "twitter.isnull().sum()"
   ]
  },
  {
   "cell_type": "code",
   "execution_count": 78,
   "metadata": {},
   "outputs": [],
   "source": [
    "twitter[['date', 'time']] = twitter.time.str.split(', ', expand = True)\n",
    "twitter['time'] = twitter[['date', 'time']].apply(lambda x: ' '.join(x), axis = 1)\n",
    "twitter['time'] = pd.to_datetime(twitter['time'])"
   ]
  },
  {
   "cell_type": "code",
   "execution_count": 79,
   "metadata": {},
   "outputs": [
    {
     "data": {
      "text/html": [
       "<div>\n",
       "<style scoped>\n",
       "    .dataframe tbody tr th:only-of-type {\n",
       "        vertical-align: middle;\n",
       "    }\n",
       "\n",
       "    .dataframe tbody tr th {\n",
       "        vertical-align: top;\n",
       "    }\n",
       "\n",
       "    .dataframe thead th {\n",
       "        text-align: right;\n",
       "    }\n",
       "</style>\n",
       "<table border=\"1\" class=\"dataframe\">\n",
       "  <thead>\n",
       "    <tr style=\"text-align: right;\">\n",
       "      <th></th>\n",
       "      <th>Unnamed: 0</th>\n",
       "      <th>time</th>\n",
       "      <th>likes</th>\n",
       "      <th>no:rt</th>\n",
       "      <th>clean_tweet</th>\n",
       "      <th>sentiment</th>\n",
       "      <th>polarity</th>\n",
       "      <th>subjectivity</th>\n",
       "      <th>date</th>\n",
       "    </tr>\n",
       "  </thead>\n",
       "  <tbody>\n",
       "    <tr>\n",
       "      <td>0</td>\n",
       "      <td>0</td>\n",
       "      <td>2021-04-12 21:00:00</td>\n",
       "      <td>0</td>\n",
       "      <td>0</td>\n",
       "      <td>Biggest Losers 1 hr Bitcoin Standard Hashrate ...</td>\n",
       "      <td>negative</td>\n",
       "      <td>-0.100000</td>\n",
       "      <td>0.100000</td>\n",
       "      <td>2021-04-12</td>\n",
       "    </tr>\n",
       "    <tr>\n",
       "      <td>1</td>\n",
       "      <td>1</td>\n",
       "      <td>2021-04-12 21:00:00</td>\n",
       "      <td>1</td>\n",
       "      <td>0</td>\n",
       "      <td>Top 5 Cryptocurrencies Current Prices Bitcoin ...</td>\n",
       "      <td>positive</td>\n",
       "      <td>0.250000</td>\n",
       "      <td>0.450000</td>\n",
       "      <td>2021-04-12</td>\n",
       "    </tr>\n",
       "    <tr>\n",
       "      <td>2</td>\n",
       "      <td>2</td>\n",
       "      <td>2021-04-12 21:00:00</td>\n",
       "      <td>0</td>\n",
       "      <td>0</td>\n",
       "      <td>on the 04 12 2021 at 09 00 1BTC was worth 6006...</td>\n",
       "      <td>positive</td>\n",
       "      <td>0.300000</td>\n",
       "      <td>0.100000</td>\n",
       "      <td>2021-04-12</td>\n",
       "    </tr>\n",
       "    <tr>\n",
       "      <td>3</td>\n",
       "      <td>3</td>\n",
       "      <td>2021-04-12 21:01:00</td>\n",
       "      <td>0</td>\n",
       "      <td>1</td>\n",
       "      <td>New Bitcoin block 00 840be452159338efb634b29c6...</td>\n",
       "      <td>positive</td>\n",
       "      <td>0.068182</td>\n",
       "      <td>0.602273</td>\n",
       "      <td>2021-04-12</td>\n",
       "    </tr>\n",
       "    <tr>\n",
       "      <td>4</td>\n",
       "      <td>4</td>\n",
       "      <td>2021-04-12 21:03:00</td>\n",
       "      <td>0</td>\n",
       "      <td>0</td>\n",
       "      <td>The current price of bitcoin is 60 105 00 It h...</td>\n",
       "      <td>neutral</td>\n",
       "      <td>0.000000</td>\n",
       "      <td>0.233333</td>\n",
       "      <td>2021-04-12</td>\n",
       "    </tr>\n",
       "    <tr>\n",
       "      <td>5</td>\n",
       "      <td>5</td>\n",
       "      <td>2021-04-12 21:08:00</td>\n",
       "      <td>0</td>\n",
       "      <td>8</td>\n",
       "      <td>RT How to Use the BZ Telegram Bot to Trade Bit...</td>\n",
       "      <td>positive</td>\n",
       "      <td>0.500000</td>\n",
       "      <td>0.625000</td>\n",
       "      <td>2021-04-12</td>\n",
       "    </tr>\n",
       "    <tr>\n",
       "      <td>6</td>\n",
       "      <td>6</td>\n",
       "      <td>2021-04-12 21:09:00</td>\n",
       "      <td>0</td>\n",
       "      <td>624</td>\n",
       "      <td>RT If Chainlink Hits 50 00 This Week Giving aw...</td>\n",
       "      <td>neutral</td>\n",
       "      <td>0.000000</td>\n",
       "      <td>0.000000</td>\n",
       "      <td>2021-04-12</td>\n",
       "    </tr>\n",
       "    <tr>\n",
       "      <td>7</td>\n",
       "      <td>7</td>\n",
       "      <td>2021-04-12 21:15:00</td>\n",
       "      <td>1</td>\n",
       "      <td>0</td>\n",
       "      <td>The current price of Bitcoin is 60038 00 The c...</td>\n",
       "      <td>neutral</td>\n",
       "      <td>0.000000</td>\n",
       "      <td>0.400000</td>\n",
       "      <td>2021-04-12</td>\n",
       "    </tr>\n",
       "    <tr>\n",
       "      <td>8</td>\n",
       "      <td>8</td>\n",
       "      <td>2021-04-12 21:15:00</td>\n",
       "      <td>0</td>\n",
       "      <td>624</td>\n",
       "      <td>RT If Chainlink Hits 50 00 This Week Giving aw...</td>\n",
       "      <td>neutral</td>\n",
       "      <td>0.000000</td>\n",
       "      <td>0.000000</td>\n",
       "      <td>2021-04-12</td>\n",
       "    </tr>\n",
       "    <tr>\n",
       "      <td>9</td>\n",
       "      <td>9</td>\n",
       "      <td>2021-04-12 21:20:00</td>\n",
       "      <td>0</td>\n",
       "      <td>0</td>\n",
       "      <td>1 Bitcoin price is 59971 16 0 14 1h 2 Ethereum...</td>\n",
       "      <td>neutral</td>\n",
       "      <td>0.000000</td>\n",
       "      <td>0.000000</td>\n",
       "      <td>2021-04-12</td>\n",
       "    </tr>\n",
       "  </tbody>\n",
       "</table>\n",
       "</div>"
      ],
      "text/plain": [
       "   Unnamed: 0                time  likes  no:rt  \\\n",
       "0           0 2021-04-12 21:00:00      0      0   \n",
       "1           1 2021-04-12 21:00:00      1      0   \n",
       "2           2 2021-04-12 21:00:00      0      0   \n",
       "3           3 2021-04-12 21:01:00      0      1   \n",
       "4           4 2021-04-12 21:03:00      0      0   \n",
       "5           5 2021-04-12 21:08:00      0      8   \n",
       "6           6 2021-04-12 21:09:00      0    624   \n",
       "7           7 2021-04-12 21:15:00      1      0   \n",
       "8           8 2021-04-12 21:15:00      0    624   \n",
       "9           9 2021-04-12 21:20:00      0      0   \n",
       "\n",
       "                                         clean_tweet sentiment  polarity  \\\n",
       "0  Biggest Losers 1 hr Bitcoin Standard Hashrate ...  negative -0.100000   \n",
       "1  Top 5 Cryptocurrencies Current Prices Bitcoin ...  positive  0.250000   \n",
       "2  on the 04 12 2021 at 09 00 1BTC was worth 6006...  positive  0.300000   \n",
       "3  New Bitcoin block 00 840be452159338efb634b29c6...  positive  0.068182   \n",
       "4  The current price of bitcoin is 60 105 00 It h...   neutral  0.000000   \n",
       "5  RT How to Use the BZ Telegram Bot to Trade Bit...  positive  0.500000   \n",
       "6  RT If Chainlink Hits 50 00 This Week Giving aw...   neutral  0.000000   \n",
       "7  The current price of Bitcoin is 60038 00 The c...   neutral  0.000000   \n",
       "8  RT If Chainlink Hits 50 00 This Week Giving aw...   neutral  0.000000   \n",
       "9  1 Bitcoin price is 59971 16 0 14 1h 2 Ethereum...   neutral  0.000000   \n",
       "\n",
       "   subjectivity        date  \n",
       "0      0.100000  2021-04-12  \n",
       "1      0.450000  2021-04-12  \n",
       "2      0.100000  2021-04-12  \n",
       "3      0.602273  2021-04-12  \n",
       "4      0.233333  2021-04-12  \n",
       "5      0.625000  2021-04-12  \n",
       "6      0.000000  2021-04-12  \n",
       "7      0.400000  2021-04-12  \n",
       "8      0.000000  2021-04-12  \n",
       "9      0.000000  2021-04-12  "
      ]
     },
     "execution_count": 79,
     "metadata": {},
     "output_type": "execute_result"
    }
   ],
   "source": [
    "twitter.head(10)"
   ]
  },
  {
   "cell_type": "code",
   "execution_count": 80,
   "metadata": {},
   "outputs": [
    {
     "name": "stdout",
     "output_type": "stream",
     "text": [
      "<class 'pandas.core.frame.DataFrame'>\n",
      "RangeIndex: 10000 entries, 0 to 9999\n",
      "Data columns (total 9 columns):\n",
      "Unnamed: 0      10000 non-null int64\n",
      "time            10000 non-null datetime64[ns]\n",
      "likes           10000 non-null int64\n",
      "no:rt           10000 non-null int64\n",
      "clean_tweet     9999 non-null object\n",
      "sentiment       10000 non-null object\n",
      "polarity        10000 non-null float64\n",
      "subjectivity    10000 non-null float64\n",
      "date            10000 non-null object\n",
      "dtypes: datetime64[ns](1), float64(2), int64(3), object(3)\n",
      "memory usage: 703.2+ KB\n"
     ]
    }
   ],
   "source": [
    "twitter.info()"
   ]
  },
  {
   "cell_type": "code",
   "execution_count": 81,
   "metadata": {},
   "outputs": [],
   "source": [
    "twitter.drop(columns=\"Unnamed: 0\",inplace=True)\n",
    "bitcoin.drop(columns=\"Unnamed: 0\",inplace=True)"
   ]
  },
  {
   "cell_type": "code",
   "execution_count": 82,
   "metadata": {},
   "outputs": [],
   "source": [
    "merged = pd.merge_asof(bitcoin, twitter, on = 'time', by = 'date', tolerance = pd.Timedelta('4m'))"
   ]
  },
  {
   "cell_type": "code",
   "execution_count": 83,
   "metadata": {},
   "outputs": [
    {
     "data": {
      "text/html": [
       "<div>\n",
       "<style scoped>\n",
       "    .dataframe tbody tr th:only-of-type {\n",
       "        vertical-align: middle;\n",
       "    }\n",
       "\n",
       "    .dataframe tbody tr th {\n",
       "        vertical-align: top;\n",
       "    }\n",
       "\n",
       "    .dataframe thead th {\n",
       "        text-align: right;\n",
       "    }\n",
       "</style>\n",
       "<table border=\"1\" class=\"dataframe\">\n",
       "  <thead>\n",
       "    <tr style=\"text-align: right;\">\n",
       "      <th></th>\n",
       "      <th>time</th>\n",
       "      <th>open</th>\n",
       "      <th>close</th>\n",
       "      <th>high</th>\n",
       "      <th>low</th>\n",
       "      <th>volume</th>\n",
       "      <th>date</th>\n",
       "      <th>likes</th>\n",
       "      <th>no:rt</th>\n",
       "      <th>clean_tweet</th>\n",
       "      <th>sentiment</th>\n",
       "      <th>polarity</th>\n",
       "      <th>subjectivity</th>\n",
       "    </tr>\n",
       "  </thead>\n",
       "  <tbody>\n",
       "    <tr>\n",
       "      <td>0</td>\n",
       "      <td>2021-04-12 11:22:00</td>\n",
       "      <td>60025.0</td>\n",
       "      <td>60030.669608</td>\n",
       "      <td>60031.000000</td>\n",
       "      <td>60025.0</td>\n",
       "      <td>0.060630</td>\n",
       "      <td>2021-04-12</td>\n",
       "      <td>NaN</td>\n",
       "      <td>NaN</td>\n",
       "      <td>NaN</td>\n",
       "      <td>NaN</td>\n",
       "      <td>NaN</td>\n",
       "      <td>NaN</td>\n",
       "    </tr>\n",
       "    <tr>\n",
       "      <td>1</td>\n",
       "      <td>2021-04-12 11:23:00</td>\n",
       "      <td>60031.0</td>\n",
       "      <td>60012.000000</td>\n",
       "      <td>60031.000000</td>\n",
       "      <td>60012.0</td>\n",
       "      <td>0.909728</td>\n",
       "      <td>2021-04-12</td>\n",
       "      <td>NaN</td>\n",
       "      <td>NaN</td>\n",
       "      <td>NaN</td>\n",
       "      <td>NaN</td>\n",
       "      <td>NaN</td>\n",
       "      <td>NaN</td>\n",
       "    </tr>\n",
       "    <tr>\n",
       "      <td>2</td>\n",
       "      <td>2021-04-12 11:24:00</td>\n",
       "      <td>60013.0</td>\n",
       "      <td>60013.000000</td>\n",
       "      <td>60013.934448</td>\n",
       "      <td>60013.0</td>\n",
       "      <td>0.390078</td>\n",
       "      <td>2021-04-12</td>\n",
       "      <td>NaN</td>\n",
       "      <td>NaN</td>\n",
       "      <td>NaN</td>\n",
       "      <td>NaN</td>\n",
       "      <td>NaN</td>\n",
       "      <td>NaN</td>\n",
       "    </tr>\n",
       "    <tr>\n",
       "      <td>3</td>\n",
       "      <td>2021-04-12 11:25:00</td>\n",
       "      <td>60013.0</td>\n",
       "      <td>60000.000000</td>\n",
       "      <td>60014.000000</td>\n",
       "      <td>60000.0</td>\n",
       "      <td>1.960719</td>\n",
       "      <td>2021-04-12</td>\n",
       "      <td>NaN</td>\n",
       "      <td>NaN</td>\n",
       "      <td>NaN</td>\n",
       "      <td>NaN</td>\n",
       "      <td>NaN</td>\n",
       "      <td>NaN</td>\n",
       "    </tr>\n",
       "    <tr>\n",
       "      <td>4</td>\n",
       "      <td>2021-04-12 11:26:00</td>\n",
       "      <td>60000.0</td>\n",
       "      <td>60000.000000</td>\n",
       "      <td>60000.482297</td>\n",
       "      <td>60000.0</td>\n",
       "      <td>2.269179</td>\n",
       "      <td>2021-04-12</td>\n",
       "      <td>NaN</td>\n",
       "      <td>NaN</td>\n",
       "      <td>NaN</td>\n",
       "      <td>NaN</td>\n",
       "      <td>NaN</td>\n",
       "      <td>NaN</td>\n",
       "    </tr>\n",
       "  </tbody>\n",
       "</table>\n",
       "</div>"
      ],
      "text/plain": [
       "                 time     open         close          high      low    volume  \\\n",
       "0 2021-04-12 11:22:00  60025.0  60030.669608  60031.000000  60025.0  0.060630   \n",
       "1 2021-04-12 11:23:00  60031.0  60012.000000  60031.000000  60012.0  0.909728   \n",
       "2 2021-04-12 11:24:00  60013.0  60013.000000  60013.934448  60013.0  0.390078   \n",
       "3 2021-04-12 11:25:00  60013.0  60000.000000  60014.000000  60000.0  1.960719   \n",
       "4 2021-04-12 11:26:00  60000.0  60000.000000  60000.482297  60000.0  2.269179   \n",
       "\n",
       "         date  likes  no:rt clean_tweet sentiment  polarity  subjectivity  \n",
       "0  2021-04-12    NaN    NaN         NaN       NaN       NaN           NaN  \n",
       "1  2021-04-12    NaN    NaN         NaN       NaN       NaN           NaN  \n",
       "2  2021-04-12    NaN    NaN         NaN       NaN       NaN           NaN  \n",
       "3  2021-04-12    NaN    NaN         NaN       NaN       NaN           NaN  \n",
       "4  2021-04-12    NaN    NaN         NaN       NaN       NaN           NaN  "
      ]
     },
     "execution_count": 83,
     "metadata": {},
     "output_type": "execute_result"
    }
   ],
   "source": [
    "merged.head()"
   ]
  },
  {
   "cell_type": "code",
   "execution_count": 84,
   "metadata": {},
   "outputs": [
    {
     "data": {
      "text/plain": [
       "time               0\n",
       "open               0\n",
       "close              0\n",
       "high               0\n",
       "low                0\n",
       "volume             0\n",
       "date               0\n",
       "likes           1406\n",
       "no:rt           1406\n",
       "clean_tweet     1410\n",
       "sentiment       1406\n",
       "polarity        1406\n",
       "subjectivity    1406\n",
       "dtype: int64"
      ]
     },
     "execution_count": 84,
     "metadata": {},
     "output_type": "execute_result"
    }
   ],
   "source": [
    "merged.isnull().sum()"
   ]
  },
  {
   "cell_type": "code",
   "execution_count": 85,
   "metadata": {},
   "outputs": [
    {
     "data": {
      "text/plain": [
       "(10000, 13)"
      ]
     },
     "execution_count": 85,
     "metadata": {},
     "output_type": "execute_result"
    }
   ],
   "source": [
    "merged.shape"
   ]
  },
  {
   "cell_type": "code",
   "execution_count": 86,
   "metadata": {},
   "outputs": [],
   "source": [
    "merged.drop(['likes', 'no:rt'], axis =1, inplace = True)"
   ]
  },
  {
   "cell_type": "code",
   "execution_count": 87,
   "metadata": {},
   "outputs": [
    {
     "data": {
      "text/html": [
       "<div>\n",
       "<style scoped>\n",
       "    .dataframe tbody tr th:only-of-type {\n",
       "        vertical-align: middle;\n",
       "    }\n",
       "\n",
       "    .dataframe tbody tr th {\n",
       "        vertical-align: top;\n",
       "    }\n",
       "\n",
       "    .dataframe thead th {\n",
       "        text-align: right;\n",
       "    }\n",
       "</style>\n",
       "<table border=\"1\" class=\"dataframe\">\n",
       "  <thead>\n",
       "    <tr style=\"text-align: right;\">\n",
       "      <th></th>\n",
       "      <th>time</th>\n",
       "      <th>open</th>\n",
       "      <th>close</th>\n",
       "      <th>high</th>\n",
       "      <th>low</th>\n",
       "      <th>volume</th>\n",
       "      <th>date</th>\n",
       "      <th>clean_tweet</th>\n",
       "      <th>sentiment</th>\n",
       "      <th>polarity</th>\n",
       "      <th>subjectivity</th>\n",
       "    </tr>\n",
       "  </thead>\n",
       "  <tbody>\n",
       "    <tr>\n",
       "      <td>0</td>\n",
       "      <td>2021-04-12 11:22:00</td>\n",
       "      <td>60025.0</td>\n",
       "      <td>60030.669608</td>\n",
       "      <td>60031.000000</td>\n",
       "      <td>60025.0</td>\n",
       "      <td>0.060630</td>\n",
       "      <td>2021-04-12</td>\n",
       "      <td>Empty</td>\n",
       "      <td>neutral</td>\n",
       "      <td>0.0</td>\n",
       "      <td>0.0</td>\n",
       "    </tr>\n",
       "    <tr>\n",
       "      <td>1</td>\n",
       "      <td>2021-04-12 11:23:00</td>\n",
       "      <td>60031.0</td>\n",
       "      <td>60012.000000</td>\n",
       "      <td>60031.000000</td>\n",
       "      <td>60012.0</td>\n",
       "      <td>0.909728</td>\n",
       "      <td>2021-04-12</td>\n",
       "      <td>Empty</td>\n",
       "      <td>neutral</td>\n",
       "      <td>0.0</td>\n",
       "      <td>0.0</td>\n",
       "    </tr>\n",
       "    <tr>\n",
       "      <td>2</td>\n",
       "      <td>2021-04-12 11:24:00</td>\n",
       "      <td>60013.0</td>\n",
       "      <td>60013.000000</td>\n",
       "      <td>60013.934448</td>\n",
       "      <td>60013.0</td>\n",
       "      <td>0.390078</td>\n",
       "      <td>2021-04-12</td>\n",
       "      <td>Empty</td>\n",
       "      <td>neutral</td>\n",
       "      <td>0.0</td>\n",
       "      <td>0.0</td>\n",
       "    </tr>\n",
       "    <tr>\n",
       "      <td>3</td>\n",
       "      <td>2021-04-12 11:25:00</td>\n",
       "      <td>60013.0</td>\n",
       "      <td>60000.000000</td>\n",
       "      <td>60014.000000</td>\n",
       "      <td>60000.0</td>\n",
       "      <td>1.960719</td>\n",
       "      <td>2021-04-12</td>\n",
       "      <td>Empty</td>\n",
       "      <td>neutral</td>\n",
       "      <td>0.0</td>\n",
       "      <td>0.0</td>\n",
       "    </tr>\n",
       "    <tr>\n",
       "      <td>4</td>\n",
       "      <td>2021-04-12 11:26:00</td>\n",
       "      <td>60000.0</td>\n",
       "      <td>60000.000000</td>\n",
       "      <td>60000.482297</td>\n",
       "      <td>60000.0</td>\n",
       "      <td>2.269179</td>\n",
       "      <td>2021-04-12</td>\n",
       "      <td>Empty</td>\n",
       "      <td>neutral</td>\n",
       "      <td>0.0</td>\n",
       "      <td>0.0</td>\n",
       "    </tr>\n",
       "  </tbody>\n",
       "</table>\n",
       "</div>"
      ],
      "text/plain": [
       "                 time     open         close          high      low    volume  \\\n",
       "0 2021-04-12 11:22:00  60025.0  60030.669608  60031.000000  60025.0  0.060630   \n",
       "1 2021-04-12 11:23:00  60031.0  60012.000000  60031.000000  60012.0  0.909728   \n",
       "2 2021-04-12 11:24:00  60013.0  60013.000000  60013.934448  60013.0  0.390078   \n",
       "3 2021-04-12 11:25:00  60013.0  60000.000000  60014.000000  60000.0  1.960719   \n",
       "4 2021-04-12 11:26:00  60000.0  60000.000000  60000.482297  60000.0  2.269179   \n",
       "\n",
       "         date clean_tweet sentiment  polarity  subjectivity  \n",
       "0  2021-04-12       Empty   neutral       0.0           0.0  \n",
       "1  2021-04-12       Empty   neutral       0.0           0.0  \n",
       "2  2021-04-12       Empty   neutral       0.0           0.0  \n",
       "3  2021-04-12       Empty   neutral       0.0           0.0  \n",
       "4  2021-04-12       Empty   neutral       0.0           0.0  "
      ]
     },
     "execution_count": 87,
     "metadata": {},
     "output_type": "execute_result"
    }
   ],
   "source": [
    "merged['clean_tweet'].fillna('Empty', inplace = True)\n",
    "merged['sentiment'].fillna('neutral', inplace = True)\n",
    "merged['polarity'].fillna(0, inplace = True)\n",
    "merged['subjectivity'].fillna(0, inplace = True)\n",
    "merged.head()"
   ]
  },
  {
   "cell_type": "code",
   "execution_count": 89,
   "metadata": {},
   "outputs": [],
   "source": [
    "merged.drop(['time', 'date'], axis =1, inplace = True)"
   ]
  },
  {
   "cell_type": "code",
   "execution_count": 91,
   "metadata": {},
   "outputs": [],
   "source": [
    "def getSentiment(score):\n",
    "    if score < 0:\n",
    "        return 0 #indicates negative\n",
    "    elif score == 0:\n",
    "        return 1  #indicates neutral\n",
    "    else:\n",
    "        return 2 #indicates positived"
   ]
  },
  {
   "cell_type": "code",
   "execution_count": 93,
   "metadata": {},
   "outputs": [
    {
     "data": {
      "text/html": [
       "<div>\n",
       "<style scoped>\n",
       "    .dataframe tbody tr th:only-of-type {\n",
       "        vertical-align: middle;\n",
       "    }\n",
       "\n",
       "    .dataframe tbody tr th {\n",
       "        vertical-align: top;\n",
       "    }\n",
       "\n",
       "    .dataframe thead th {\n",
       "        text-align: right;\n",
       "    }\n",
       "</style>\n",
       "<table border=\"1\" class=\"dataframe\">\n",
       "  <thead>\n",
       "    <tr style=\"text-align: right;\">\n",
       "      <th></th>\n",
       "      <th>open</th>\n",
       "      <th>close</th>\n",
       "      <th>high</th>\n",
       "      <th>low</th>\n",
       "      <th>volume</th>\n",
       "      <th>clean_tweet</th>\n",
       "      <th>sentiment</th>\n",
       "      <th>polarity</th>\n",
       "      <th>subjectivity</th>\n",
       "      <th>sentiment_score</th>\n",
       "    </tr>\n",
       "  </thead>\n",
       "  <tbody>\n",
       "    <tr>\n",
       "      <td>0</td>\n",
       "      <td>60025.0</td>\n",
       "      <td>60030.669608</td>\n",
       "      <td>60031.000000</td>\n",
       "      <td>60025.0</td>\n",
       "      <td>0.060630</td>\n",
       "      <td>Empty</td>\n",
       "      <td>neutral</td>\n",
       "      <td>0.0</td>\n",
       "      <td>0.0</td>\n",
       "      <td>1</td>\n",
       "    </tr>\n",
       "    <tr>\n",
       "      <td>1</td>\n",
       "      <td>60031.0</td>\n",
       "      <td>60012.000000</td>\n",
       "      <td>60031.000000</td>\n",
       "      <td>60012.0</td>\n",
       "      <td>0.909728</td>\n",
       "      <td>Empty</td>\n",
       "      <td>neutral</td>\n",
       "      <td>0.0</td>\n",
       "      <td>0.0</td>\n",
       "      <td>1</td>\n",
       "    </tr>\n",
       "    <tr>\n",
       "      <td>2</td>\n",
       "      <td>60013.0</td>\n",
       "      <td>60013.000000</td>\n",
       "      <td>60013.934448</td>\n",
       "      <td>60013.0</td>\n",
       "      <td>0.390078</td>\n",
       "      <td>Empty</td>\n",
       "      <td>neutral</td>\n",
       "      <td>0.0</td>\n",
       "      <td>0.0</td>\n",
       "      <td>1</td>\n",
       "    </tr>\n",
       "    <tr>\n",
       "      <td>3</td>\n",
       "      <td>60013.0</td>\n",
       "      <td>60000.000000</td>\n",
       "      <td>60014.000000</td>\n",
       "      <td>60000.0</td>\n",
       "      <td>1.960719</td>\n",
       "      <td>Empty</td>\n",
       "      <td>neutral</td>\n",
       "      <td>0.0</td>\n",
       "      <td>0.0</td>\n",
       "      <td>1</td>\n",
       "    </tr>\n",
       "    <tr>\n",
       "      <td>4</td>\n",
       "      <td>60000.0</td>\n",
       "      <td>60000.000000</td>\n",
       "      <td>60000.482297</td>\n",
       "      <td>60000.0</td>\n",
       "      <td>2.269179</td>\n",
       "      <td>Empty</td>\n",
       "      <td>neutral</td>\n",
       "      <td>0.0</td>\n",
       "      <td>0.0</td>\n",
       "      <td>1</td>\n",
       "    </tr>\n",
       "  </tbody>\n",
       "</table>\n",
       "</div>"
      ],
      "text/plain": [
       "      open         close          high      low    volume clean_tweet  \\\n",
       "0  60025.0  60030.669608  60031.000000  60025.0  0.060630       Empty   \n",
       "1  60031.0  60012.000000  60031.000000  60012.0  0.909728       Empty   \n",
       "2  60013.0  60013.000000  60013.934448  60013.0  0.390078       Empty   \n",
       "3  60013.0  60000.000000  60014.000000  60000.0  1.960719       Empty   \n",
       "4  60000.0  60000.000000  60000.482297  60000.0  2.269179       Empty   \n",
       "\n",
       "  sentiment  polarity  subjectivity  sentiment_score  \n",
       "0   neutral       0.0           0.0                1  \n",
       "1   neutral       0.0           0.0                1  \n",
       "2   neutral       0.0           0.0                1  \n",
       "3   neutral       0.0           0.0                1  \n",
       "4   neutral       0.0           0.0                1  "
      ]
     },
     "execution_count": 93,
     "metadata": {},
     "output_type": "execute_result"
    }
   ],
   "source": [
    "merged['sentiment_score'] = merged['polarity'].apply(getSentiment)\n",
    "merged.head()"
   ]
  },
  {
   "cell_type": "code",
   "execution_count": 96,
   "metadata": {},
   "outputs": [
    {
     "data": {
      "image/png": "[encoded data removed]",
      "text/plain": [
       "<Figure size 432x288 with 1 Axes>"
      ]
     },
     "metadata": {
      "needs_background": "light"
     },
     "output_type": "display_data"
    }
   ],
   "source": [
    "import seaborn as sns\n",
    "sns.countplot(merged[\"sentiment\"])\n",
    "plt.title(\"Summary of Counts for Total tweets\");"
   ]
  },
  {
   "cell_type": "code",
   "execution_count": 97,
   "metadata": {},
   "outputs": [],
   "source": [
    "for i in range(1,len(bitcoin['close'])):\n",
    "    merged.at[i,'price_difference']=bitcoin.at[i,'close']-bitcoin.at[i-1,'close']"
   ]
  },
  {
   "cell_type": "code",
   "execution_count": 98,
   "metadata": {},
   "outputs": [],
   "source": [
    "merged.at[0,'price_difference']=0.0"
   ]
  },
  {
   "cell_type": "code",
   "execution_count": 100,
   "metadata": {},
   "outputs": [
    {
     "data": {
      "text/html": [
       "<div>\n",
       "<style scoped>\n",
       "    .dataframe tbody tr th:only-of-type {\n",
       "        vertical-align: middle;\n",
       "    }\n",
       "\n",
       "    .dataframe tbody tr th {\n",
       "        vertical-align: top;\n",
       "    }\n",
       "\n",
       "    .dataframe thead th {\n",
       "        text-align: right;\n",
       "    }\n",
       "</style>\n",
       "<table border=\"1\" class=\"dataframe\">\n",
       "  <thead>\n",
       "    <tr style=\"text-align: right;\">\n",
       "      <th></th>\n",
       "      <th>open</th>\n",
       "      <th>close</th>\n",
       "      <th>high</th>\n",
       "      <th>low</th>\n",
       "      <th>volume</th>\n",
       "      <th>clean_tweet</th>\n",
       "      <th>sentiment</th>\n",
       "      <th>polarity</th>\n",
       "      <th>subjectivity</th>\n",
       "      <th>sentiment_score</th>\n",
       "      <th>price_difference</th>\n",
       "    </tr>\n",
       "  </thead>\n",
       "  <tbody>\n",
       "    <tr>\n",
       "      <td>0</td>\n",
       "      <td>60025.0</td>\n",
       "      <td>60030.669608</td>\n",
       "      <td>60031.0</td>\n",
       "      <td>60025.0</td>\n",
       "      <td>0.060630</td>\n",
       "      <td>Empty</td>\n",
       "      <td>neutral</td>\n",
       "      <td>0.0</td>\n",
       "      <td>0.0</td>\n",
       "      <td>1</td>\n",
       "      <td>0.000000</td>\n",
       "    </tr>\n",
       "    <tr>\n",
       "      <td>1</td>\n",
       "      <td>60031.0</td>\n",
       "      <td>60012.000000</td>\n",
       "      <td>60031.0</td>\n",
       "      <td>60012.0</td>\n",
       "      <td>0.909728</td>\n",
       "      <td>Empty</td>\n",
       "      <td>neutral</td>\n",
       "      <td>0.0</td>\n",
       "      <td>0.0</td>\n",
       "      <td>1</td>\n",
       "      <td>-18.669608</td>\n",
       "    </tr>\n",
       "  </tbody>\n",
       "</table>\n",
       "</div>"
      ],
      "text/plain": [
       "      open         close     high      low    volume clean_tweet sentiment  \\\n",
       "0  60025.0  60030.669608  60031.0  60025.0  0.060630       Empty   neutral   \n",
       "1  60031.0  60012.000000  60031.0  60012.0  0.909728       Empty   neutral   \n",
       "\n",
       "   polarity  subjectivity  sentiment_score  price_difference  \n",
       "0       0.0           0.0                1          0.000000  \n",
       "1       0.0           0.0                1        -18.669608  "
      ]
     },
     "execution_count": 100,
     "metadata": {},
     "output_type": "execute_result"
    }
   ],
   "source": [
    "merged.head(2)"
   ]
  },
  {
   "cell_type": "code",
   "execution_count": 101,
   "metadata": {},
   "outputs": [
    {
     "data": {
      "text/html": [
       "<div>\n",
       "<style scoped>\n",
       "    .dataframe tbody tr th:only-of-type {\n",
       "        vertical-align: middle;\n",
       "    }\n",
       "\n",
       "    .dataframe tbody tr th {\n",
       "        vertical-align: top;\n",
       "    }\n",
       "\n",
       "    .dataframe thead th {\n",
       "        text-align: right;\n",
       "    }\n",
       "</style>\n",
       "<table border=\"1\" class=\"dataframe\">\n",
       "  <thead>\n",
       "    <tr style=\"text-align: right;\">\n",
       "      <th></th>\n",
       "      <th>open</th>\n",
       "      <th>close</th>\n",
       "      <th>high</th>\n",
       "      <th>low</th>\n",
       "      <th>volume</th>\n",
       "      <th>clean_tweet</th>\n",
       "      <th>sentiment</th>\n",
       "      <th>polarity</th>\n",
       "      <th>subjectivity</th>\n",
       "      <th>sentiment_score</th>\n",
       "      <th>price_difference</th>\n",
       "      <th>target</th>\n",
       "    </tr>\n",
       "  </thead>\n",
       "  <tbody>\n",
       "    <tr>\n",
       "      <td>0</td>\n",
       "      <td>60025.0</td>\n",
       "      <td>60030.669608</td>\n",
       "      <td>60031.000000</td>\n",
       "      <td>60025.0</td>\n",
       "      <td>0.060630</td>\n",
       "      <td>Empty</td>\n",
       "      <td>neutral</td>\n",
       "      <td>0.0</td>\n",
       "      <td>0.0</td>\n",
       "      <td>1</td>\n",
       "      <td>0.000000</td>\n",
       "      <td>0</td>\n",
       "    </tr>\n",
       "    <tr>\n",
       "      <td>1</td>\n",
       "      <td>60031.0</td>\n",
       "      <td>60012.000000</td>\n",
       "      <td>60031.000000</td>\n",
       "      <td>60012.0</td>\n",
       "      <td>0.909728</td>\n",
       "      <td>Empty</td>\n",
       "      <td>neutral</td>\n",
       "      <td>0.0</td>\n",
       "      <td>0.0</td>\n",
       "      <td>1</td>\n",
       "      <td>-18.669608</td>\n",
       "      <td>0</td>\n",
       "    </tr>\n",
       "    <tr>\n",
       "      <td>2</td>\n",
       "      <td>60013.0</td>\n",
       "      <td>60013.000000</td>\n",
       "      <td>60013.934448</td>\n",
       "      <td>60013.0</td>\n",
       "      <td>0.390078</td>\n",
       "      <td>Empty</td>\n",
       "      <td>neutral</td>\n",
       "      <td>0.0</td>\n",
       "      <td>0.0</td>\n",
       "      <td>1</td>\n",
       "      <td>1.000000</td>\n",
       "      <td>1</td>\n",
       "    </tr>\n",
       "    <tr>\n",
       "      <td>3</td>\n",
       "      <td>60013.0</td>\n",
       "      <td>60000.000000</td>\n",
       "      <td>60014.000000</td>\n",
       "      <td>60000.0</td>\n",
       "      <td>1.960719</td>\n",
       "      <td>Empty</td>\n",
       "      <td>neutral</td>\n",
       "      <td>0.0</td>\n",
       "      <td>0.0</td>\n",
       "      <td>1</td>\n",
       "      <td>-13.000000</td>\n",
       "      <td>0</td>\n",
       "    </tr>\n",
       "    <tr>\n",
       "      <td>4</td>\n",
       "      <td>60000.0</td>\n",
       "      <td>60000.000000</td>\n",
       "      <td>60000.482297</td>\n",
       "      <td>60000.0</td>\n",
       "      <td>2.269179</td>\n",
       "      <td>Empty</td>\n",
       "      <td>neutral</td>\n",
       "      <td>0.0</td>\n",
       "      <td>0.0</td>\n",
       "      <td>1</td>\n",
       "      <td>0.000000</td>\n",
       "      <td>0</td>\n",
       "    </tr>\n",
       "  </tbody>\n",
       "</table>\n",
       "</div>"
      ],
      "text/plain": [
       "      open         close          high      low    volume clean_tweet  \\\n",
       "0  60025.0  60030.669608  60031.000000  60025.0  0.060630       Empty   \n",
       "1  60031.0  60012.000000  60031.000000  60012.0  0.909728       Empty   \n",
       "2  60013.0  60013.000000  60013.934448  60013.0  0.390078       Empty   \n",
       "3  60013.0  60000.000000  60014.000000  60000.0  1.960719       Empty   \n",
       "4  60000.0  60000.000000  60000.482297  60000.0  2.269179       Empty   \n",
       "\n",
       "  sentiment  polarity  subjectivity  sentiment_score  price_difference  target  \n",
       "0   neutral       0.0           0.0                1          0.000000       0  \n",
       "1   neutral       0.0           0.0                1        -18.669608       0  \n",
       "2   neutral       0.0           0.0                1          1.000000       1  \n",
       "3   neutral       0.0           0.0                1        -13.000000       0  \n",
       "4   neutral       0.0           0.0                1          0.000000       0  "
      ]
     },
     "execution_count": 101,
     "metadata": {},
     "output_type": "execute_result"
    }
   ],
   "source": [
    "merged['target'] = 0\n",
    "for i in range(10000):\n",
    "    if merged.price_difference[i] > 0:\n",
    "        merged['target'][i] = 1 \n",
    "        \n",
    "# 0 - price goes down\n",
    "# 1 - price goes up\n",
    "\n",
    "merged.head()"
   ]
  },
  {
   "cell_type": "code",
   "execution_count": 103,
   "metadata": {},
   "outputs": [],
   "source": [
    "features = merged[['open','high','low','close','volume','polarity','subjectivity','sentiment_score']]\n",
    "X = np.array(features)\n",
    "y = np.array(merged['target'])"
   ]
  },
  {
   "cell_type": "code",
   "execution_count": 104,
   "metadata": {},
   "outputs": [],
   "source": [
    "from sklearn.model_selection import train_test_split\n",
    "X_train, X_test, y_train, y_test = train_test_split(X, y, test_size=0.2, random_state = 0)"
   ]
  },
  {
   "cell_type": "markdown",
   "metadata": {},
   "source": [
    "## Decision Tree"
   ]
  },
  {
   "cell_type": "code",
   "execution_count": 105,
   "metadata": {},
   "outputs": [
    {
     "data": {
      "text/plain": [
       "DecisionTreeClassifier(class_weight=None, criterion='entropy', max_depth=8,\n",
       "                       max_features=None, max_leaf_nodes=None,\n",
       "                       min_impurity_decrease=0.0, min_impurity_split=None,\n",
       "                       min_samples_leaf=100, min_samples_split=6,\n",
       "                       min_weight_fraction_leaf=0.0, presort=False,\n",
       "                       random_state=42, splitter='best')"
      ]
     },
     "execution_count": 105,
     "metadata": {},
     "output_type": "execute_result"
    }
   ],
   "source": [
    "from sklearn.tree import DecisionTreeClassifier\n",
    "\n",
    "clf = DecisionTreeClassifier(criterion='entropy', max_depth=8,\n",
    "                                        min_samples_leaf=100,\n",
    "                                        min_samples_split=6,\n",
    "                                        random_state=42)\n",
    "clf.fit(X_train,y_train)"
   ]
  },
  {
   "cell_type": "code",
   "execution_count": 106,
   "metadata": {},
   "outputs": [],
   "source": [
    "y_predicted = clf.predict(X_test)"
   ]
  },
  {
   "cell_type": "code",
   "execution_count": 107,
   "metadata": {},
   "outputs": [
    {
     "name": "stdout",
     "output_type": "stream",
     "text": [
      "              precision    recall  f1-score   support\n",
      "\n",
      "           0       0.55      0.47      0.51       986\n",
      "           1       0.55      0.62      0.58      1014\n",
      "\n",
      "    accuracy                           0.55      2000\n",
      "   macro avg       0.55      0.55      0.54      2000\n",
      "weighted avg       0.55      0.55      0.54      2000\n",
      "\n"
     ]
    }
   ],
   "source": [
    "from sklearn.metrics import classification_report, confusion_matrix,accuracy_score\n",
    "print( classification_report(y_test, y_predicted) )"
   ]
  },
  {
   "cell_type": "code",
   "execution_count": 108,
   "metadata": {},
   "outputs": [
    {
     "data": {
      "text/plain": [
       "54.75"
      ]
     },
     "execution_count": 108,
     "metadata": {},
     "output_type": "execute_result"
    }
   ],
   "source": [
    "accuracy_score(y_test,y_predicted)*100"
   ]
  },
  {
   "cell_type": "code",
   "execution_count": 109,
   "metadata": {},
   "outputs": [],
   "source": [
    "from sklearn.discriminant_analysis import LinearDiscriminantAnalysis\n",
    "model = LinearDiscriminantAnalysis().fit(X_train, y_train)"
   ]
  },
  {
   "cell_type": "code",
   "execution_count": 110,
   "metadata": {},
   "outputs": [
    {
     "data": {
      "text/plain": [
       "array([0, 0, 0, ..., 1, 1, 0], dtype=int64)"
      ]
     },
     "execution_count": 110,
     "metadata": {},
     "output_type": "execute_result"
    }
   ],
   "source": [
    "predictions = model.predict(X_test)\n",
    "predictions"
   ]
  },
  {
   "cell_type": "code",
   "execution_count": 111,
   "metadata": {},
   "outputs": [
    {
     "name": "stdout",
     "output_type": "stream",
     "text": [
      "              precision    recall  f1-score   support\n",
      "\n",
      "           0       0.76      0.96      0.85       986\n",
      "           1       0.95      0.70      0.81      1014\n",
      "\n",
      "    accuracy                           0.83      2000\n",
      "   macro avg       0.86      0.83      0.83      2000\n",
      "weighted avg       0.86      0.83      0.83      2000\n",
      "\n"
     ]
    }
   ],
   "source": [
    "print( classification_report(y_test, predictions) )"
   ]
  },
  {
   "cell_type": "code",
   "execution_count": 112,
   "metadata": {},
   "outputs": [
    {
     "data": {
      "text/plain": [
       "83.25"
      ]
     },
     "execution_count": 112,
     "metadata": {},
     "output_type": "execute_result"
    }
   ],
   "source": [
    "accuracy_score(y_test,predictions)*100"
   ]
  },
  {
   "cell_type": "code",
   "execution_count": 113,
   "metadata": {},
   "outputs": [],
   "source": [
    "import pickle"
   ]
  },
  {
   "cell_type": "markdown",
   "metadata": {},
   "source": [
    "## Dumping the model into a pickle file"
   ]
  },
  {
   "cell_type": "code",
   "execution_count": 114,
   "metadata": {},
   "outputs": [],
   "source": [
    "pickle.dump(model,open(\"model.pkl\",\"wb\"))"
   ]
  },
  {
   "cell_type": "code",
   "execution_count": null,
   "metadata": {},
   "outputs": [],
   "source": []
  }
 ],
 "metadata": {
  "kernelspec": {
   "display_name": "Python 3",
   "language": "python",
   "name": "python3"
  },
  "language_info": {
   "codemirror_mode": {
    "name": "ipython",
    "version": 3
   },
   "file_extension": ".py",
   "mimetype": "text/x-python",
   "name": "python",
   "nbconvert_exporter": "python",
   "pygments_lexer": "ipython3",
   "version": "3.7.4"
  }
 },
 "nbformat": 4,
 "nbformat_minor": 2
}
