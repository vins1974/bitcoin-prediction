{
 "cells": [
  {
   "cell_type": "code",
   "execution_count": 132,
   "metadata": {},
   "outputs": [],
   "source": [
    "import pandas as pd\n",
    "import numpy as np\n",
    "import matplotlib.pyplot as plt\n",
    "import plotly.offline as py\n",
    "import plotly.graph_objs as go\n",
    "import warnings\n",
    "warnings.filterwarnings(\"ignore\")\n",
    "from sklearn.preprocessing import MinMaxScaler\n",
    "import numpy as np\n",
    "from sklearn.impute import KNNImputer\n",
    "from sklearn.experimental import enable_iterative_imputer\n",
    "from sklearn.impute import IterativeImputer"
   ]
  },
  {
   "cell_type": "code",
   "execution_count": 92,
   "metadata": {},
   "outputs": [],
   "source": [
    "bitcoin = pd.read_csv('btc_eda.csv')\n",
    "twitter = pd.read_csv('twitter_eda.csv')"
   ]
  },
  {
   "cell_type": "markdown",
   "metadata": {},
   "source": [
    "## Bitcoin dataset"
   ]
  },
  {
   "cell_type": "code",
   "execution_count": 93,
   "metadata": {},
   "outputs": [
    {
     "data": {
      "text/html": [
       "<div>\n",
       "<style scoped>\n",
       "    .dataframe tbody tr th:only-of-type {\n",
       "        vertical-align: middle;\n",
       "    }\n",
       "\n",
       "    .dataframe tbody tr th {\n",
       "        vertical-align: top;\n",
       "    }\n",
       "\n",
       "    .dataframe thead th {\n",
       "        text-align: right;\n",
       "    }\n",
       "</style>\n",
       "<table border=\"1\" class=\"dataframe\">\n",
       "  <thead>\n",
       "    <tr style=\"text-align: right;\">\n",
       "      <th></th>\n",
       "      <th>Unnamed: 0</th>\n",
       "      <th>time</th>\n",
       "      <th>close</th>\n",
       "      <th>volume</th>\n",
       "    </tr>\n",
       "  </thead>\n",
       "  <tbody>\n",
       "    <tr>\n",
       "      <th>9990</th>\n",
       "      <td>9990</td>\n",
       "      <td>2021-04-12, 11:31</td>\n",
       "      <td>59903.000000</td>\n",
       "      <td>3.147370</td>\n",
       "    </tr>\n",
       "    <tr>\n",
       "      <th>9991</th>\n",
       "      <td>9991</td>\n",
       "      <td>2021-04-12, 11:30</td>\n",
       "      <td>59939.443000</td>\n",
       "      <td>0.536182</td>\n",
       "    </tr>\n",
       "    <tr>\n",
       "      <th>9992</th>\n",
       "      <td>9992</td>\n",
       "      <td>2021-04-12, 11:29</td>\n",
       "      <td>59963.000000</td>\n",
       "      <td>0.633691</td>\n",
       "    </tr>\n",
       "    <tr>\n",
       "      <th>9993</th>\n",
       "      <td>9993</td>\n",
       "      <td>2021-04-12, 11:28</td>\n",
       "      <td>59946.000000</td>\n",
       "      <td>1.013063</td>\n",
       "    </tr>\n",
       "    <tr>\n",
       "      <th>9994</th>\n",
       "      <td>9994</td>\n",
       "      <td>2021-04-12, 11:27</td>\n",
       "      <td>59974.000000</td>\n",
       "      <td>1.806383</td>\n",
       "    </tr>\n",
       "    <tr>\n",
       "      <th>9995</th>\n",
       "      <td>9995</td>\n",
       "      <td>2021-04-12, 11:26</td>\n",
       "      <td>60000.000000</td>\n",
       "      <td>2.269179</td>\n",
       "    </tr>\n",
       "    <tr>\n",
       "      <th>9996</th>\n",
       "      <td>9996</td>\n",
       "      <td>2021-04-12, 11:25</td>\n",
       "      <td>60000.000000</td>\n",
       "      <td>1.960719</td>\n",
       "    </tr>\n",
       "    <tr>\n",
       "      <th>9997</th>\n",
       "      <td>9997</td>\n",
       "      <td>2021-04-12, 11:24</td>\n",
       "      <td>60013.000000</td>\n",
       "      <td>0.390078</td>\n",
       "    </tr>\n",
       "    <tr>\n",
       "      <th>9998</th>\n",
       "      <td>9998</td>\n",
       "      <td>2021-04-12, 11:23</td>\n",
       "      <td>60012.000000</td>\n",
       "      <td>0.909728</td>\n",
       "    </tr>\n",
       "    <tr>\n",
       "      <th>9999</th>\n",
       "      <td>9999</td>\n",
       "      <td>2021-04-12, 11:22</td>\n",
       "      <td>60030.669608</td>\n",
       "      <td>0.060630</td>\n",
       "    </tr>\n",
       "  </tbody>\n",
       "</table>\n",
       "</div>"
      ],
      "text/plain": [
       "      Unnamed: 0               time         close    volume\n",
       "9990        9990  2021-04-12, 11:31  59903.000000  3.147370\n",
       "9991        9991  2021-04-12, 11:30  59939.443000  0.536182\n",
       "9992        9992  2021-04-12, 11:29  59963.000000  0.633691\n",
       "9993        9993  2021-04-12, 11:28  59946.000000  1.013063\n",
       "9994        9994  2021-04-12, 11:27  59974.000000  1.806383\n",
       "9995        9995  2021-04-12, 11:26  60000.000000  2.269179\n",
       "9996        9996  2021-04-12, 11:25  60000.000000  1.960719\n",
       "9997        9997  2021-04-12, 11:24  60013.000000  0.390078\n",
       "9998        9998  2021-04-12, 11:23  60012.000000  0.909728\n",
       "9999        9999  2021-04-12, 11:22  60030.669608  0.060630"
      ]
     },
     "execution_count": 93,
     "metadata": {},
     "output_type": "execute_result"
    }
   ],
   "source": [
    "bitcoin.tail(10)"
   ]
  },
  {
   "cell_type": "code",
   "execution_count": 94,
   "metadata": {},
   "outputs": [
    {
     "data": {
      "text/plain": [
       "(10000, 4)"
      ]
     },
     "execution_count": 94,
     "metadata": {},
     "output_type": "execute_result"
    }
   ],
   "source": [
    "bitcoin.shape"
   ]
  },
  {
   "cell_type": "code",
   "execution_count": 95,
   "metadata": {},
   "outputs": [
    {
     "name": "stdout",
     "output_type": "stream",
     "text": [
      "<class 'pandas.core.frame.DataFrame'>\n",
      "RangeIndex: 10000 entries, 0 to 9999\n",
      "Data columns (total 4 columns):\n",
      " #   Column      Non-Null Count  Dtype  \n",
      "---  ------      --------------  -----  \n",
      " 0   Unnamed: 0  10000 non-null  int64  \n",
      " 1   time        10000 non-null  object \n",
      " 2   close       10000 non-null  float64\n",
      " 3   volume      10000 non-null  float64\n",
      "dtypes: float64(2), int64(1), object(1)\n",
      "memory usage: 312.6+ KB\n"
     ]
    }
   ],
   "source": [
    "bitcoin.info()"
   ]
  },
  {
   "cell_type": "code",
   "execution_count": 96,
   "metadata": {},
   "outputs": [],
   "source": [
    "bitcoin[['date', 'time']] = bitcoin.time.str.split(', ', expand = True)\n",
    "bitcoin['time'] = bitcoin[['date', 'time']].apply(lambda x: ' '.join(x), axis = 1)\n",
    "bitcoin['time'] = pd.to_datetime(bitcoin['time'])"
   ]
  },
  {
   "cell_type": "code",
   "execution_count": 97,
   "metadata": {
    "scrolled": true
   },
   "outputs": [
    {
     "data": {
      "text/html": [
       "<div>\n",
       "<style scoped>\n",
       "    .dataframe tbody tr th:only-of-type {\n",
       "        vertical-align: middle;\n",
       "    }\n",
       "\n",
       "    .dataframe tbody tr th {\n",
       "        vertical-align: top;\n",
       "    }\n",
       "\n",
       "    .dataframe thead th {\n",
       "        text-align: right;\n",
       "    }\n",
       "</style>\n",
       "<table border=\"1\" class=\"dataframe\">\n",
       "  <thead>\n",
       "    <tr style=\"text-align: right;\">\n",
       "      <th></th>\n",
       "      <th>Unnamed: 0</th>\n",
       "      <th>time</th>\n",
       "      <th>close</th>\n",
       "      <th>volume</th>\n",
       "      <th>date</th>\n",
       "    </tr>\n",
       "  </thead>\n",
       "  <tbody>\n",
       "    <tr>\n",
       "      <th>0</th>\n",
       "      <td>0</td>\n",
       "      <td>2021-04-19 10:04:00</td>\n",
       "      <td>56553.000000</td>\n",
       "      <td>4.975340</td>\n",
       "      <td>2021-04-19</td>\n",
       "    </tr>\n",
       "    <tr>\n",
       "      <th>1</th>\n",
       "      <td>1</td>\n",
       "      <td>2021-04-19 10:03:00</td>\n",
       "      <td>56574.000000</td>\n",
       "      <td>11.875513</td>\n",
       "      <td>2021-04-19</td>\n",
       "    </tr>\n",
       "    <tr>\n",
       "      <th>2</th>\n",
       "      <td>2</td>\n",
       "      <td>2021-04-19 10:02:00</td>\n",
       "      <td>56666.636456</td>\n",
       "      <td>1.559669</td>\n",
       "      <td>2021-04-19</td>\n",
       "    </tr>\n",
       "    <tr>\n",
       "      <th>3</th>\n",
       "      <td>3</td>\n",
       "      <td>2021-04-19 10:01:00</td>\n",
       "      <td>56694.000000</td>\n",
       "      <td>2.271022</td>\n",
       "      <td>2021-04-19</td>\n",
       "    </tr>\n",
       "    <tr>\n",
       "      <th>4</th>\n",
       "      <td>4</td>\n",
       "      <td>2021-04-19 10:00:00</td>\n",
       "      <td>56779.155929</td>\n",
       "      <td>1.862801</td>\n",
       "      <td>2021-04-19</td>\n",
       "    </tr>\n",
       "  </tbody>\n",
       "</table>\n",
       "</div>"
      ],
      "text/plain": [
       "   Unnamed: 0                time         close     volume        date\n",
       "0           0 2021-04-19 10:04:00  56553.000000   4.975340  2021-04-19\n",
       "1           1 2021-04-19 10:03:00  56574.000000  11.875513  2021-04-19\n",
       "2           2 2021-04-19 10:02:00  56666.636456   1.559669  2021-04-19\n",
       "3           3 2021-04-19 10:01:00  56694.000000   2.271022  2021-04-19\n",
       "4           4 2021-04-19 10:00:00  56779.155929   1.862801  2021-04-19"
      ]
     },
     "execution_count": 97,
     "metadata": {},
     "output_type": "execute_result"
    }
   ],
   "source": [
    "bitcoin.head()"
   ]
  },
  {
   "cell_type": "code",
   "execution_count": 98,
   "metadata": {},
   "outputs": [],
   "source": [
    "#Reversing the dataset to match the time series of twitter data\n",
    "bitcoin = bitcoin.loc[::-1].reset_index(drop = True)"
   ]
  },
  {
   "cell_type": "markdown",
   "metadata": {},
   "source": [
    "## Twitter dataset"
   ]
  },
  {
   "cell_type": "code",
   "execution_count": 99,
   "metadata": {},
   "outputs": [
    {
     "data": {
      "text/html": [
       "<div>\n",
       "<style scoped>\n",
       "    .dataframe tbody tr th:only-of-type {\n",
       "        vertical-align: middle;\n",
       "    }\n",
       "\n",
       "    .dataframe tbody tr th {\n",
       "        vertical-align: top;\n",
       "    }\n",
       "\n",
       "    .dataframe thead th {\n",
       "        text-align: right;\n",
       "    }\n",
       "</style>\n",
       "<table border=\"1\" class=\"dataframe\">\n",
       "  <thead>\n",
       "    <tr style=\"text-align: right;\">\n",
       "      <th></th>\n",
       "      <th>Unnamed: 0</th>\n",
       "      <th>time</th>\n",
       "      <th>likes</th>\n",
       "      <th>no:rt</th>\n",
       "      <th>clean_tweet</th>\n",
       "      <th>sentiment</th>\n",
       "      <th>polarity</th>\n",
       "      <th>subjectivity</th>\n",
       "    </tr>\n",
       "  </thead>\n",
       "  <tbody>\n",
       "    <tr>\n",
       "      <th>0</th>\n",
       "      <td>0</td>\n",
       "      <td>2021-04-12, 21:00</td>\n",
       "      <td>0</td>\n",
       "      <td>0</td>\n",
       "      <td>Biggest Losers 1 hr Bitcoin Standard Hashrate ...</td>\n",
       "      <td>negative</td>\n",
       "      <td>-0.100000</td>\n",
       "      <td>0.100000</td>\n",
       "    </tr>\n",
       "    <tr>\n",
       "      <th>1</th>\n",
       "      <td>1</td>\n",
       "      <td>2021-04-12, 21:00</td>\n",
       "      <td>1</td>\n",
       "      <td>0</td>\n",
       "      <td>Top 5 Cryptocurrencies Current Prices Bitcoin ...</td>\n",
       "      <td>positive</td>\n",
       "      <td>0.250000</td>\n",
       "      <td>0.450000</td>\n",
       "    </tr>\n",
       "    <tr>\n",
       "      <th>2</th>\n",
       "      <td>2</td>\n",
       "      <td>2021-04-12, 21:00</td>\n",
       "      <td>0</td>\n",
       "      <td>0</td>\n",
       "      <td>on the 04 12 2021 at 09 00 1BTC was worth 6006...</td>\n",
       "      <td>positive</td>\n",
       "      <td>0.300000</td>\n",
       "      <td>0.100000</td>\n",
       "    </tr>\n",
       "    <tr>\n",
       "      <th>3</th>\n",
       "      <td>3</td>\n",
       "      <td>2021-04-12, 21:01</td>\n",
       "      <td>0</td>\n",
       "      <td>1</td>\n",
       "      <td>New Bitcoin block 00 840be452159338efb634b29c6...</td>\n",
       "      <td>positive</td>\n",
       "      <td>0.068182</td>\n",
       "      <td>0.602273</td>\n",
       "    </tr>\n",
       "    <tr>\n",
       "      <th>4</th>\n",
       "      <td>4</td>\n",
       "      <td>2021-04-12, 21:03</td>\n",
       "      <td>0</td>\n",
       "      <td>0</td>\n",
       "      <td>The current price of bitcoin is 60 105 00 It h...</td>\n",
       "      <td>neutral</td>\n",
       "      <td>0.000000</td>\n",
       "      <td>0.233333</td>\n",
       "    </tr>\n",
       "    <tr>\n",
       "      <th>5</th>\n",
       "      <td>5</td>\n",
       "      <td>2021-04-12, 21:08</td>\n",
       "      <td>0</td>\n",
       "      <td>8</td>\n",
       "      <td>RT How to Use the BZ Telegram Bot to Trade Bit...</td>\n",
       "      <td>positive</td>\n",
       "      <td>0.500000</td>\n",
       "      <td>0.625000</td>\n",
       "    </tr>\n",
       "    <tr>\n",
       "      <th>6</th>\n",
       "      <td>6</td>\n",
       "      <td>2021-04-12, 21:09</td>\n",
       "      <td>0</td>\n",
       "      <td>624</td>\n",
       "      <td>RT If Chainlink Hits 50 00 This Week Giving aw...</td>\n",
       "      <td>neutral</td>\n",
       "      <td>0.000000</td>\n",
       "      <td>0.000000</td>\n",
       "    </tr>\n",
       "    <tr>\n",
       "      <th>7</th>\n",
       "      <td>7</td>\n",
       "      <td>2021-04-12, 21:15</td>\n",
       "      <td>1</td>\n",
       "      <td>0</td>\n",
       "      <td>The current price of Bitcoin is 60038 00 The c...</td>\n",
       "      <td>neutral</td>\n",
       "      <td>0.000000</td>\n",
       "      <td>0.400000</td>\n",
       "    </tr>\n",
       "    <tr>\n",
       "      <th>8</th>\n",
       "      <td>8</td>\n",
       "      <td>2021-04-12, 21:15</td>\n",
       "      <td>0</td>\n",
       "      <td>624</td>\n",
       "      <td>RT If Chainlink Hits 50 00 This Week Giving aw...</td>\n",
       "      <td>neutral</td>\n",
       "      <td>0.000000</td>\n",
       "      <td>0.000000</td>\n",
       "    </tr>\n",
       "    <tr>\n",
       "      <th>9</th>\n",
       "      <td>9</td>\n",
       "      <td>2021-04-12, 21:20</td>\n",
       "      <td>0</td>\n",
       "      <td>0</td>\n",
       "      <td>1 Bitcoin price is 59971 16 0 14 1h 2 Ethereum...</td>\n",
       "      <td>neutral</td>\n",
       "      <td>0.000000</td>\n",
       "      <td>0.000000</td>\n",
       "    </tr>\n",
       "  </tbody>\n",
       "</table>\n",
       "</div>"
      ],
      "text/plain": [
       "   Unnamed: 0               time  likes  no:rt  \\\n",
       "0           0  2021-04-12, 21:00      0      0   \n",
       "1           1  2021-04-12, 21:00      1      0   \n",
       "2           2  2021-04-12, 21:00      0      0   \n",
       "3           3  2021-04-12, 21:01      0      1   \n",
       "4           4  2021-04-12, 21:03      0      0   \n",
       "5           5  2021-04-12, 21:08      0      8   \n",
       "6           6  2021-04-12, 21:09      0    624   \n",
       "7           7  2021-04-12, 21:15      1      0   \n",
       "8           8  2021-04-12, 21:15      0    624   \n",
       "9           9  2021-04-12, 21:20      0      0   \n",
       "\n",
       "                                         clean_tweet sentiment  polarity  \\\n",
       "0  Biggest Losers 1 hr Bitcoin Standard Hashrate ...  negative -0.100000   \n",
       "1  Top 5 Cryptocurrencies Current Prices Bitcoin ...  positive  0.250000   \n",
       "2  on the 04 12 2021 at 09 00 1BTC was worth 6006...  positive  0.300000   \n",
       "3  New Bitcoin block 00 840be452159338efb634b29c6...  positive  0.068182   \n",
       "4  The current price of bitcoin is 60 105 00 It h...   neutral  0.000000   \n",
       "5  RT How to Use the BZ Telegram Bot to Trade Bit...  positive  0.500000   \n",
       "6  RT If Chainlink Hits 50 00 This Week Giving aw...   neutral  0.000000   \n",
       "7  The current price of Bitcoin is 60038 00 The c...   neutral  0.000000   \n",
       "8  RT If Chainlink Hits 50 00 This Week Giving aw...   neutral  0.000000   \n",
       "9  1 Bitcoin price is 59971 16 0 14 1h 2 Ethereum...   neutral  0.000000   \n",
       "\n",
       "   subjectivity  \n",
       "0      0.100000  \n",
       "1      0.450000  \n",
       "2      0.100000  \n",
       "3      0.602273  \n",
       "4      0.233333  \n",
       "5      0.625000  \n",
       "6      0.000000  \n",
       "7      0.400000  \n",
       "8      0.000000  \n",
       "9      0.000000  "
      ]
     },
     "execution_count": 99,
     "metadata": {},
     "output_type": "execute_result"
    }
   ],
   "source": [
    "twitter.head(10)"
   ]
  },
  {
   "cell_type": "code",
   "execution_count": 100,
   "metadata": {},
   "outputs": [
    {
     "data": {
      "text/plain": [
       "(10000, 8)"
      ]
     },
     "execution_count": 100,
     "metadata": {},
     "output_type": "execute_result"
    }
   ],
   "source": [
    "twitter.shape"
   ]
  },
  {
   "cell_type": "code",
   "execution_count": 102,
   "metadata": {},
   "outputs": [
    {
     "name": "stdout",
     "output_type": "stream",
     "text": [
      "<class 'pandas.core.frame.DataFrame'>\n",
      "RangeIndex: 10000 entries, 0 to 9999\n",
      "Data columns (total 8 columns):\n",
      " #   Column        Non-Null Count  Dtype  \n",
      "---  ------        --------------  -----  \n",
      " 0   Unnamed: 0    10000 non-null  int64  \n",
      " 1   time          10000 non-null  object \n",
      " 2   likes         10000 non-null  int64  \n",
      " 3   no:rt         10000 non-null  int64  \n",
      " 4   clean_tweet   9999 non-null   object \n",
      " 5   sentiment     10000 non-null  object \n",
      " 6   polarity      10000 non-null  float64\n",
      " 7   subjectivity  10000 non-null  float64\n",
      "dtypes: float64(2), int64(3), object(3)\n",
      "memory usage: 625.1+ KB\n"
     ]
    }
   ],
   "source": [
    "twitter.info()"
   ]
  },
  {
   "cell_type": "code",
   "execution_count": 103,
   "metadata": {},
   "outputs": [],
   "source": [
    "twitter[\"polarity\"]=twitter[\"polarity\"].astype(str)"
   ]
  },
  {
   "cell_type": "code",
   "execution_count": 104,
   "metadata": {},
   "outputs": [
    {
     "name": "stdout",
     "output_type": "stream",
     "text": [
      "<class 'pandas.core.frame.DataFrame'>\n",
      "RangeIndex: 10000 entries, 0 to 9999\n",
      "Data columns (total 8 columns):\n",
      " #   Column        Non-Null Count  Dtype  \n",
      "---  ------        --------------  -----  \n",
      " 0   Unnamed: 0    10000 non-null  int64  \n",
      " 1   time          10000 non-null  object \n",
      " 2   likes         10000 non-null  int64  \n",
      " 3   no:rt         10000 non-null  int64  \n",
      " 4   clean_tweet   9999 non-null   object \n",
      " 5   sentiment     10000 non-null  object \n",
      " 6   polarity      10000 non-null  object \n",
      " 7   subjectivity  10000 non-null  float64\n",
      "dtypes: float64(1), int64(3), object(4)\n",
      "memory usage: 625.1+ KB\n"
     ]
    }
   ],
   "source": [
    "twitter.info()"
   ]
  },
  {
   "cell_type": "code",
   "execution_count": 105,
   "metadata": {},
   "outputs": [],
   "source": [
    "twitter[['date', 'time']] = twitter.time.str.split(', ', expand = True)\n",
    "twitter['time'] = twitter[['date', 'time']].apply(lambda x: ' '.join(x), axis = 1)\n",
    "twitter['time'] = pd.to_datetime(twitter['time'])"
   ]
  },
  {
   "cell_type": "code",
   "execution_count": 106,
   "metadata": {},
   "outputs": [
    {
     "data": {
      "text/html": [
       "<div>\n",
       "<style scoped>\n",
       "    .dataframe tbody tr th:only-of-type {\n",
       "        vertical-align: middle;\n",
       "    }\n",
       "\n",
       "    .dataframe tbody tr th {\n",
       "        vertical-align: top;\n",
       "    }\n",
       "\n",
       "    .dataframe thead th {\n",
       "        text-align: right;\n",
       "    }\n",
       "</style>\n",
       "<table border=\"1\" class=\"dataframe\">\n",
       "  <thead>\n",
       "    <tr style=\"text-align: right;\">\n",
       "      <th></th>\n",
       "      <th>Unnamed: 0</th>\n",
       "      <th>time</th>\n",
       "      <th>likes</th>\n",
       "      <th>no:rt</th>\n",
       "      <th>clean_tweet</th>\n",
       "      <th>sentiment</th>\n",
       "      <th>polarity</th>\n",
       "      <th>subjectivity</th>\n",
       "      <th>date</th>\n",
       "    </tr>\n",
       "  </thead>\n",
       "  <tbody>\n",
       "    <tr>\n",
       "      <th>0</th>\n",
       "      <td>0</td>\n",
       "      <td>2021-04-12 21:00:00</td>\n",
       "      <td>0</td>\n",
       "      <td>0</td>\n",
       "      <td>Biggest Losers 1 hr Bitcoin Standard Hashrate ...</td>\n",
       "      <td>negative</td>\n",
       "      <td>-0.1</td>\n",
       "      <td>0.100000</td>\n",
       "      <td>2021-04-12</td>\n",
       "    </tr>\n",
       "    <tr>\n",
       "      <th>1</th>\n",
       "      <td>1</td>\n",
       "      <td>2021-04-12 21:00:00</td>\n",
       "      <td>1</td>\n",
       "      <td>0</td>\n",
       "      <td>Top 5 Cryptocurrencies Current Prices Bitcoin ...</td>\n",
       "      <td>positive</td>\n",
       "      <td>0.25</td>\n",
       "      <td>0.450000</td>\n",
       "      <td>2021-04-12</td>\n",
       "    </tr>\n",
       "    <tr>\n",
       "      <th>2</th>\n",
       "      <td>2</td>\n",
       "      <td>2021-04-12 21:00:00</td>\n",
       "      <td>0</td>\n",
       "      <td>0</td>\n",
       "      <td>on the 04 12 2021 at 09 00 1BTC was worth 6006...</td>\n",
       "      <td>positive</td>\n",
       "      <td>0.3</td>\n",
       "      <td>0.100000</td>\n",
       "      <td>2021-04-12</td>\n",
       "    </tr>\n",
       "    <tr>\n",
       "      <th>3</th>\n",
       "      <td>3</td>\n",
       "      <td>2021-04-12 21:01:00</td>\n",
       "      <td>0</td>\n",
       "      <td>1</td>\n",
       "      <td>New Bitcoin block 00 840be452159338efb634b29c6...</td>\n",
       "      <td>positive</td>\n",
       "      <td>0.0681818181818181</td>\n",
       "      <td>0.602273</td>\n",
       "      <td>2021-04-12</td>\n",
       "    </tr>\n",
       "    <tr>\n",
       "      <th>4</th>\n",
       "      <td>4</td>\n",
       "      <td>2021-04-12 21:03:00</td>\n",
       "      <td>0</td>\n",
       "      <td>0</td>\n",
       "      <td>The current price of bitcoin is 60 105 00 It h...</td>\n",
       "      <td>neutral</td>\n",
       "      <td>0.0</td>\n",
       "      <td>0.233333</td>\n",
       "      <td>2021-04-12</td>\n",
       "    </tr>\n",
       "  </tbody>\n",
       "</table>\n",
       "</div>"
      ],
      "text/plain": [
       "   Unnamed: 0                time  likes  no:rt  \\\n",
       "0           0 2021-04-12 21:00:00      0      0   \n",
       "1           1 2021-04-12 21:00:00      1      0   \n",
       "2           2 2021-04-12 21:00:00      0      0   \n",
       "3           3 2021-04-12 21:01:00      0      1   \n",
       "4           4 2021-04-12 21:03:00      0      0   \n",
       "\n",
       "                                         clean_tweet sentiment  \\\n",
       "0  Biggest Losers 1 hr Bitcoin Standard Hashrate ...  negative   \n",
       "1  Top 5 Cryptocurrencies Current Prices Bitcoin ...  positive   \n",
       "2  on the 04 12 2021 at 09 00 1BTC was worth 6006...  positive   \n",
       "3  New Bitcoin block 00 840be452159338efb634b29c6...  positive   \n",
       "4  The current price of bitcoin is 60 105 00 It h...   neutral   \n",
       "\n",
       "             polarity  subjectivity        date  \n",
       "0                -0.1      0.100000  2021-04-12  \n",
       "1                0.25      0.450000  2021-04-12  \n",
       "2                 0.3      0.100000  2021-04-12  \n",
       "3  0.0681818181818181      0.602273  2021-04-12  \n",
       "4                 0.0      0.233333  2021-04-12  "
      ]
     },
     "execution_count": 106,
     "metadata": {},
     "output_type": "execute_result"
    }
   ],
   "source": [
    "twitter.head()"
   ]
  },
  {
   "cell_type": "code",
   "execution_count": 107,
   "metadata": {},
   "outputs": [
    {
     "name": "stdout",
     "output_type": "stream",
     "text": [
      "<class 'pandas.core.frame.DataFrame'>\n",
      "RangeIndex: 10000 entries, 0 to 9999\n",
      "Data columns (total 9 columns):\n",
      " #   Column        Non-Null Count  Dtype         \n",
      "---  ------        --------------  -----         \n",
      " 0   Unnamed: 0    10000 non-null  int64         \n",
      " 1   time          10000 non-null  datetime64[ns]\n",
      " 2   likes         10000 non-null  int64         \n",
      " 3   no:rt         10000 non-null  int64         \n",
      " 4   clean_tweet   9999 non-null   object        \n",
      " 5   sentiment     10000 non-null  object        \n",
      " 6   polarity      10000 non-null  object        \n",
      " 7   subjectivity  10000 non-null  float64       \n",
      " 8   date          10000 non-null  object        \n",
      "dtypes: datetime64[ns](1), float64(1), int64(3), object(4)\n",
      "memory usage: 703.2+ KB\n"
     ]
    }
   ],
   "source": [
    "twitter.info()"
   ]
  },
  {
   "cell_type": "code",
   "execution_count": 108,
   "metadata": {},
   "outputs": [],
   "source": [
    "twitter.drop(columns=\"Unnamed: 0\",inplace=True)\n",
    "bitcoin.drop(columns=\"Unnamed: 0\",inplace=True)"
   ]
  },
  {
   "cell_type": "markdown",
   "metadata": {},
   "source": [
    "- Bitcoin data starts at 11:22 am on 12/apr\n",
    "- twitter data starts at 21:00 pm on 12/apr\n",
    "- bitcoin data is moroe immportant for prediction\n",
    "- therefore we want even data from 11am to 9pm\n"
   ]
  },
  {
   "cell_type": "code",
   "execution_count": 109,
   "metadata": {},
   "outputs": [],
   "source": [
    "merged = pd.merge_asof(bitcoin, twitter, on = 'time', by = 'date', tolerance = pd.Timedelta('4m'))"
   ]
  },
  {
   "cell_type": "code",
   "execution_count": 110,
   "metadata": {},
   "outputs": [
    {
     "data": {
      "text/plain": [
       "time               0\n",
       "close              0\n",
       "volume             0\n",
       "date               0\n",
       "likes              0\n",
       "no:rt              0\n",
       "clean_tweet     1410\n",
       "sentiment       1406\n",
       "polarity        1406\n",
       "subjectivity       0\n",
       "dtype: int64"
      ]
     },
     "execution_count": 110,
     "metadata": {},
     "output_type": "execute_result"
    }
   ],
   "source": [
    "merged.isna().sum()"
   ]
  },
  {
   "cell_type": "code",
   "execution_count": 111,
   "metadata": {},
   "outputs": [
    {
     "data": {
      "text/html": [
       "<div>\n",
       "<style scoped>\n",
       "    .dataframe tbody tr th:only-of-type {\n",
       "        vertical-align: middle;\n",
       "    }\n",
       "\n",
       "    .dataframe tbody tr th {\n",
       "        vertical-align: top;\n",
       "    }\n",
       "\n",
       "    .dataframe thead th {\n",
       "        text-align: right;\n",
       "    }\n",
       "</style>\n",
       "<table border=\"1\" class=\"dataframe\">\n",
       "  <thead>\n",
       "    <tr style=\"text-align: right;\">\n",
       "      <th></th>\n",
       "      <th>time</th>\n",
       "      <th>close</th>\n",
       "      <th>volume</th>\n",
       "      <th>date</th>\n",
       "      <th>likes</th>\n",
       "      <th>no:rt</th>\n",
       "      <th>clean_tweet</th>\n",
       "      <th>sentiment</th>\n",
       "      <th>polarity</th>\n",
       "      <th>subjectivity</th>\n",
       "    </tr>\n",
       "  </thead>\n",
       "  <tbody>\n",
       "    <tr>\n",
       "      <th>0</th>\n",
       "      <td>2021-04-12 11:22:00</td>\n",
       "      <td>60030.669608</td>\n",
       "      <td>0.060630</td>\n",
       "      <td>2021-04-12</td>\n",
       "      <td>NaN</td>\n",
       "      <td>NaN</td>\n",
       "      <td>NaN</td>\n",
       "      <td>NaN</td>\n",
       "      <td>NaN</td>\n",
       "      <td>NaN</td>\n",
       "    </tr>\n",
       "    <tr>\n",
       "      <th>1</th>\n",
       "      <td>2021-04-12 11:23:00</td>\n",
       "      <td>60012.000000</td>\n",
       "      <td>0.909728</td>\n",
       "      <td>2021-04-12</td>\n",
       "      <td>NaN</td>\n",
       "      <td>NaN</td>\n",
       "      <td>NaN</td>\n",
       "      <td>NaN</td>\n",
       "      <td>NaN</td>\n",
       "      <td>NaN</td>\n",
       "    </tr>\n",
       "    <tr>\n",
       "      <th>2</th>\n",
       "      <td>2021-04-12 11:24:00</td>\n",
       "      <td>60013.000000</td>\n",
       "      <td>0.390078</td>\n",
       "      <td>2021-04-12</td>\n",
       "      <td>NaN</td>\n",
       "      <td>NaN</td>\n",
       "      <td>NaN</td>\n",
       "      <td>NaN</td>\n",
       "      <td>NaN</td>\n",
       "      <td>NaN</td>\n",
       "    </tr>\n",
       "    <tr>\n",
       "      <th>3</th>\n",
       "      <td>2021-04-12 11:25:00</td>\n",
       "      <td>60000.000000</td>\n",
       "      <td>1.960719</td>\n",
       "      <td>2021-04-12</td>\n",
       "      <td>NaN</td>\n",
       "      <td>NaN</td>\n",
       "      <td>NaN</td>\n",
       "      <td>NaN</td>\n",
       "      <td>NaN</td>\n",
       "      <td>NaN</td>\n",
       "    </tr>\n",
       "    <tr>\n",
       "      <th>4</th>\n",
       "      <td>2021-04-12 11:26:00</td>\n",
       "      <td>60000.000000</td>\n",
       "      <td>2.269179</td>\n",
       "      <td>2021-04-12</td>\n",
       "      <td>NaN</td>\n",
       "      <td>NaN</td>\n",
       "      <td>NaN</td>\n",
       "      <td>NaN</td>\n",
       "      <td>NaN</td>\n",
       "      <td>NaN</td>\n",
       "    </tr>\n",
       "  </tbody>\n",
       "</table>\n",
       "</div>"
      ],
      "text/plain": [
       "                 time         close    volume        date  likes  no:rt  \\\n",
       "0 2021-04-12 11:22:00  60030.669608  0.060630  2021-04-12    NaN    NaN   \n",
       "1 2021-04-12 11:23:00  60012.000000  0.909728  2021-04-12    NaN    NaN   \n",
       "2 2021-04-12 11:24:00  60013.000000  0.390078  2021-04-12    NaN    NaN   \n",
       "3 2021-04-12 11:25:00  60000.000000  1.960719  2021-04-12    NaN    NaN   \n",
       "4 2021-04-12 11:26:00  60000.000000  2.269179  2021-04-12    NaN    NaN   \n",
       "\n",
       "  clean_tweet sentiment polarity  subjectivity  \n",
       "0         NaN       NaN      NaN           NaN  \n",
       "1         NaN       NaN      NaN           NaN  \n",
       "2         NaN       NaN      NaN           NaN  \n",
       "3         NaN       NaN      NaN           NaN  \n",
       "4         NaN       NaN      NaN           NaN  "
      ]
     },
     "execution_count": 111,
     "metadata": {},
     "output_type": "execute_result"
    }
   ],
   "source": [
    "merged.head()"
   ]
  },
  {
   "cell_type": "code",
   "execution_count": 112,
   "metadata": {},
   "outputs": [
    {
     "data": {
      "text/plain": [
       "time            datetime64[ns]\n",
       "close                  float64\n",
       "volume                 float64\n",
       "date                    object\n",
       "likes                  float64\n",
       "no:rt                  float64\n",
       "clean_tweet             object\n",
       "sentiment               object\n",
       "polarity                object\n",
       "subjectivity           float64\n",
       "dtype: object"
      ]
     },
     "execution_count": 112,
     "metadata": {},
     "output_type": "execute_result"
    }
   ],
   "source": [
    "merged.dtypes"
   ]
  },
  {
   "cell_type": "code",
   "execution_count": 113,
   "metadata": {},
   "outputs": [
    {
     "data": {
      "text/html": [
       "<div>\n",
       "<style scoped>\n",
       "    .dataframe tbody tr th:only-of-type {\n",
       "        vertical-align: middle;\n",
       "    }\n",
       "\n",
       "    .dataframe tbody tr th {\n",
       "        vertical-align: top;\n",
       "    }\n",
       "\n",
       "    .dataframe thead th {\n",
       "        text-align: right;\n",
       "    }\n",
       "</style>\n",
       "<table border=\"1\" class=\"dataframe\">\n",
       "  <thead>\n",
       "    <tr style=\"text-align: right;\">\n",
       "      <th></th>\n",
       "      <th>time</th>\n",
       "      <th>close</th>\n",
       "      <th>volume</th>\n",
       "      <th>date</th>\n",
       "      <th>likes</th>\n",
       "      <th>no:rt</th>\n",
       "      <th>clean_tweet</th>\n",
       "      <th>sentiment</th>\n",
       "      <th>polarity</th>\n",
       "      <th>subjectivity</th>\n",
       "    </tr>\n",
       "  </thead>\n",
       "  <tbody>\n",
       "    <tr>\n",
       "      <th>0</th>\n",
       "      <td>2021-04-12 11:22:00</td>\n",
       "      <td>60030.669608</td>\n",
       "      <td>0.060630</td>\n",
       "      <td>2021-04-12</td>\n",
       "      <td>NaN</td>\n",
       "      <td>NaN</td>\n",
       "      <td>Empty</td>\n",
       "      <td>neutral</td>\n",
       "      <td>NaN</td>\n",
       "      <td>NaN</td>\n",
       "    </tr>\n",
       "    <tr>\n",
       "      <th>1</th>\n",
       "      <td>2021-04-12 11:23:00</td>\n",
       "      <td>60012.000000</td>\n",
       "      <td>0.909728</td>\n",
       "      <td>2021-04-12</td>\n",
       "      <td>NaN</td>\n",
       "      <td>NaN</td>\n",
       "      <td>Empty</td>\n",
       "      <td>neutral</td>\n",
       "      <td>NaN</td>\n",
       "      <td>NaN</td>\n",
       "    </tr>\n",
       "    <tr>\n",
       "      <th>2</th>\n",
       "      <td>2021-04-12 11:24:00</td>\n",
       "      <td>60013.000000</td>\n",
       "      <td>0.390078</td>\n",
       "      <td>2021-04-12</td>\n",
       "      <td>NaN</td>\n",
       "      <td>NaN</td>\n",
       "      <td>Empty</td>\n",
       "      <td>neutral</td>\n",
       "      <td>NaN</td>\n",
       "      <td>NaN</td>\n",
       "    </tr>\n",
       "    <tr>\n",
       "      <th>3</th>\n",
       "      <td>2021-04-12 11:25:00</td>\n",
       "      <td>60000.000000</td>\n",
       "      <td>1.960719</td>\n",
       "      <td>2021-04-12</td>\n",
       "      <td>NaN</td>\n",
       "      <td>NaN</td>\n",
       "      <td>Empty</td>\n",
       "      <td>neutral</td>\n",
       "      <td>NaN</td>\n",
       "      <td>NaN</td>\n",
       "    </tr>\n",
       "    <tr>\n",
       "      <th>4</th>\n",
       "      <td>2021-04-12 11:26:00</td>\n",
       "      <td>60000.000000</td>\n",
       "      <td>2.269179</td>\n",
       "      <td>2021-04-12</td>\n",
       "      <td>NaN</td>\n",
       "      <td>NaN</td>\n",
       "      <td>Empty</td>\n",
       "      <td>neutral</td>\n",
       "      <td>NaN</td>\n",
       "      <td>NaN</td>\n",
       "    </tr>\n",
       "  </tbody>\n",
       "</table>\n",
       "</div>"
      ],
      "text/plain": [
       "                 time         close    volume        date  likes  no:rt  \\\n",
       "0 2021-04-12 11:22:00  60030.669608  0.060630  2021-04-12    NaN    NaN   \n",
       "1 2021-04-12 11:23:00  60012.000000  0.909728  2021-04-12    NaN    NaN   \n",
       "2 2021-04-12 11:24:00  60013.000000  0.390078  2021-04-12    NaN    NaN   \n",
       "3 2021-04-12 11:25:00  60000.000000  1.960719  2021-04-12    NaN    NaN   \n",
       "4 2021-04-12 11:26:00  60000.000000  2.269179  2021-04-12    NaN    NaN   \n",
       "\n",
       "  clean_tweet sentiment polarity  subjectivity  \n",
       "0       Empty   neutral      NaN           NaN  \n",
       "1       Empty   neutral      NaN           NaN  \n",
       "2       Empty   neutral      NaN           NaN  \n",
       "3       Empty   neutral      NaN           NaN  \n",
       "4       Empty   neutral      NaN           NaN  "
      ]
     },
     "execution_count": 113,
     "metadata": {},
     "output_type": "execute_result"
    }
   ],
   "source": [
    "merged['likes'].fillna(0, inplace = True)\n",
    "merged['no:rt'].fillna(0, inplace = True)\n",
    "merged['clean_tweet'].fillna('Empty', inplace = True)\n",
    "merged['sentiment'].fillna('neutral', inplace = True)\n",
    "merged.head()"
   ]
  },
  {
   "cell_type": "code",
   "execution_count": 114,
   "metadata": {},
   "outputs": [
    {
     "data": {
      "text/plain": [
       "(10000, 10)"
      ]
     },
     "execution_count": 114,
     "metadata": {},
     "output_type": "execute_result"
    }
   ],
   "source": [
    "merged.shape"
   ]
  },
  {
   "cell_type": "code",
   "execution_count": 115,
   "metadata": {},
   "outputs": [],
   "source": [
    "newdf=merged.drop(columns=[\"date\",\"likes\",\"clean_tweet\",\"sentiment\",\"subjectivity\",\"no:rt\"])"
   ]
  },
  {
   "cell_type": "code",
   "execution_count": 116,
   "metadata": {},
   "outputs": [
    {
     "data": {
      "text/html": [
       "<div>\n",
       "<style scoped>\n",
       "    .dataframe tbody tr th:only-of-type {\n",
       "        vertical-align: middle;\n",
       "    }\n",
       "\n",
       "    .dataframe tbody tr th {\n",
       "        vertical-align: top;\n",
       "    }\n",
       "\n",
       "    .dataframe thead th {\n",
       "        text-align: right;\n",
       "    }\n",
       "</style>\n",
       "<table border=\"1\" class=\"dataframe\">\n",
       "  <thead>\n",
       "    <tr style=\"text-align: right;\">\n",
       "      <th></th>\n",
       "      <th>time</th>\n",
       "      <th>close</th>\n",
       "      <th>volume</th>\n",
       "      <th>polarity</th>\n",
       "    </tr>\n",
       "  </thead>\n",
       "  <tbody>\n",
       "    <tr>\n",
       "      <th>0</th>\n",
       "      <td>2021-04-12 11:22:00</td>\n",
       "      <td>60030.669608</td>\n",
       "      <td>0.060630</td>\n",
       "      <td>NaN</td>\n",
       "    </tr>\n",
       "    <tr>\n",
       "      <th>1</th>\n",
       "      <td>2021-04-12 11:23:00</td>\n",
       "      <td>60012.000000</td>\n",
       "      <td>0.909728</td>\n",
       "      <td>NaN</td>\n",
       "    </tr>\n",
       "    <tr>\n",
       "      <th>2</th>\n",
       "      <td>2021-04-12 11:24:00</td>\n",
       "      <td>60013.000000</td>\n",
       "      <td>0.390078</td>\n",
       "      <td>NaN</td>\n",
       "    </tr>\n",
       "    <tr>\n",
       "      <th>3</th>\n",
       "      <td>2021-04-12 11:25:00</td>\n",
       "      <td>60000.000000</td>\n",
       "      <td>1.960719</td>\n",
       "      <td>NaN</td>\n",
       "    </tr>\n",
       "    <tr>\n",
       "      <th>4</th>\n",
       "      <td>2021-04-12 11:26:00</td>\n",
       "      <td>60000.000000</td>\n",
       "      <td>2.269179</td>\n",
       "      <td>NaN</td>\n",
       "    </tr>\n",
       "  </tbody>\n",
       "</table>\n",
       "</div>"
      ],
      "text/plain": [
       "                 time         close    volume polarity\n",
       "0 2021-04-12 11:22:00  60030.669608  0.060630      NaN\n",
       "1 2021-04-12 11:23:00  60012.000000  0.909728      NaN\n",
       "2 2021-04-12 11:24:00  60013.000000  0.390078      NaN\n",
       "3 2021-04-12 11:25:00  60000.000000  1.960719      NaN\n",
       "4 2021-04-12 11:26:00  60000.000000  2.269179      NaN"
      ]
     },
     "execution_count": 116,
     "metadata": {},
     "output_type": "execute_result"
    }
   ],
   "source": [
    "newdf.head()"
   ]
  },
  {
   "cell_type": "code",
   "execution_count": 117,
   "metadata": {},
   "outputs": [
    {
     "data": {
      "text/plain": [
       "close          0\n",
       "volume         0\n",
       "polarity    1406\n",
       "dtype: int64"
      ]
     },
     "execution_count": 117,
     "metadata": {},
     "output_type": "execute_result"
    }
   ],
   "source": [
    "x=newdf[[\"close\",\"volume\",\"polarity\"]]\n",
    "x.isna().sum()"
   ]
  },
  {
   "cell_type": "code",
   "execution_count": 118,
   "metadata": {},
   "outputs": [
    {
     "data": {
      "text/plain": [
       "0.0                   3849\n",
       "0.1363636363636363    1872\n",
       "0.3999999999999999     667\n",
       "0.0681818181818181     266\n",
       "0.5                    221\n",
       "                      ... \n",
       "0.1999999999999999       1\n",
       "0.15625                  1\n",
       "0.225                    1\n",
       "0.034090909090909        1\n",
       "0.0014814814814814       1\n",
       "Name: polarity, Length: 138, dtype: int64"
      ]
     },
     "execution_count": 118,
     "metadata": {},
     "output_type": "execute_result"
    }
   ],
   "source": [
    "x[\"polarity\"].value_counts()\n",
    "# df['DataFrame Column'] = df['DataFrame Column'].fillna(0)"
   ]
  },
  {
   "cell_type": "code",
   "execution_count": 119,
   "metadata": {},
   "outputs": [
    {
     "data": {
      "text/html": [
       "<div>\n",
       "<style scoped>\n",
       "    .dataframe tbody tr th:only-of-type {\n",
       "        vertical-align: middle;\n",
       "    }\n",
       "\n",
       "    .dataframe tbody tr th {\n",
       "        vertical-align: top;\n",
       "    }\n",
       "\n",
       "    .dataframe thead th {\n",
       "        text-align: right;\n",
       "    }\n",
       "</style>\n",
       "<table border=\"1\" class=\"dataframe\">\n",
       "  <thead>\n",
       "    <tr style=\"text-align: right;\">\n",
       "      <th></th>\n",
       "      <th>close</th>\n",
       "      <th>volume</th>\n",
       "      <th>polarity</th>\n",
       "    </tr>\n",
       "  </thead>\n",
       "  <tbody>\n",
       "    <tr>\n",
       "      <th>0</th>\n",
       "      <td>60030.669608</td>\n",
       "      <td>0.060630</td>\n",
       "      <td>NaN</td>\n",
       "    </tr>\n",
       "    <tr>\n",
       "      <th>1</th>\n",
       "      <td>60012.000000</td>\n",
       "      <td>0.909728</td>\n",
       "      <td>NaN</td>\n",
       "    </tr>\n",
       "    <tr>\n",
       "      <th>2</th>\n",
       "      <td>60013.000000</td>\n",
       "      <td>0.390078</td>\n",
       "      <td>NaN</td>\n",
       "    </tr>\n",
       "    <tr>\n",
       "      <th>3</th>\n",
       "      <td>60000.000000</td>\n",
       "      <td>1.960719</td>\n",
       "      <td>NaN</td>\n",
       "    </tr>\n",
       "    <tr>\n",
       "      <th>4</th>\n",
       "      <td>60000.000000</td>\n",
       "      <td>2.269179</td>\n",
       "      <td>NaN</td>\n",
       "    </tr>\n",
       "  </tbody>\n",
       "</table>\n",
       "</div>"
      ],
      "text/plain": [
       "          close    volume polarity\n",
       "0  60030.669608  0.060630      NaN\n",
       "1  60012.000000  0.909728      NaN\n",
       "2  60013.000000  0.390078      NaN\n",
       "3  60000.000000  1.960719      NaN\n",
       "4  60000.000000  2.269179      NaN"
      ]
     },
     "execution_count": 119,
     "metadata": {},
     "output_type": "execute_result"
    }
   ],
   "source": [
    "x.head()"
   ]
  },
  {
   "cell_type": "code",
   "execution_count": 120,
   "metadata": {},
   "outputs": [
    {
     "data": {
      "text/plain": [
       "close       float64\n",
       "volume      float64\n",
       "polarity     object\n",
       "dtype: object"
      ]
     },
     "execution_count": 120,
     "metadata": {},
     "output_type": "execute_result"
    }
   ],
   "source": [
    "x.dtypes"
   ]
  },
  {
   "cell_type": "code",
   "execution_count": 121,
   "metadata": {},
   "outputs": [
    {
     "data": {
      "text/plain": [
       "138"
      ]
     },
     "execution_count": 121,
     "metadata": {},
     "output_type": "execute_result"
    }
   ],
   "source": [
    "x[\"polarity\"].nunique()"
   ]
  },
  {
   "cell_type": "code",
   "execution_count": 123,
   "metadata": {},
   "outputs": [
    {
     "data": {
      "text/plain": [
       "close          0\n",
       "volume         0\n",
       "polarity    1406\n",
       "dtype: int64"
      ]
     },
     "execution_count": 123,
     "metadata": {},
     "output_type": "execute_result"
    }
   ],
   "source": [
    "x.isna().sum()"
   ]
  },
  {
   "cell_type": "code",
   "execution_count": 127,
   "metadata": {},
   "outputs": [
    {
     "data": {
      "text/html": [
       "<div>\n",
       "<style scoped>\n",
       "    .dataframe tbody tr th:only-of-type {\n",
       "        vertical-align: middle;\n",
       "    }\n",
       "\n",
       "    .dataframe tbody tr th {\n",
       "        vertical-align: top;\n",
       "    }\n",
       "\n",
       "    .dataframe thead th {\n",
       "        text-align: right;\n",
       "    }\n",
       "</style>\n",
       "<table border=\"1\" class=\"dataframe\">\n",
       "  <thead>\n",
       "    <tr style=\"text-align: right;\">\n",
       "      <th></th>\n",
       "      <th>close</th>\n",
       "      <th>volume</th>\n",
       "      <th>polarity</th>\n",
       "    </tr>\n",
       "  </thead>\n",
       "  <tbody>\n",
       "    <tr>\n",
       "      <th>0</th>\n",
       "      <td>60030.669608</td>\n",
       "      <td>0.060630</td>\n",
       "      <td>NaN</td>\n",
       "    </tr>\n",
       "    <tr>\n",
       "      <th>1</th>\n",
       "      <td>60012.000000</td>\n",
       "      <td>0.909728</td>\n",
       "      <td>NaN</td>\n",
       "    </tr>\n",
       "    <tr>\n",
       "      <th>2</th>\n",
       "      <td>60013.000000</td>\n",
       "      <td>0.390078</td>\n",
       "      <td>NaN</td>\n",
       "    </tr>\n",
       "    <tr>\n",
       "      <th>3</th>\n",
       "      <td>60000.000000</td>\n",
       "      <td>1.960719</td>\n",
       "      <td>NaN</td>\n",
       "    </tr>\n",
       "    <tr>\n",
       "      <th>4</th>\n",
       "      <td>60000.000000</td>\n",
       "      <td>2.269179</td>\n",
       "      <td>NaN</td>\n",
       "    </tr>\n",
       "  </tbody>\n",
       "</table>\n",
       "</div>"
      ],
      "text/plain": [
       "          close    volume polarity\n",
       "0  60030.669608  0.060630      NaN\n",
       "1  60012.000000  0.909728      NaN\n",
       "2  60013.000000  0.390078      NaN\n",
       "3  60000.000000  1.960719      NaN\n",
       "4  60000.000000  2.269179      NaN"
      ]
     },
     "execution_count": 127,
     "metadata": {},
     "output_type": "execute_result"
    }
   ],
   "source": [
    "x.head()"
   ]
  },
  {
   "cell_type": "code",
   "execution_count": 134,
   "metadata": {},
   "outputs": [],
   "source": [
    "imputer = IterativeImputer()\n",
    "imputer.fit(x)\n",
    "xtrans = imputer.transform(x)"
   ]
  },
  {
   "cell_type": "code",
   "execution_count": 32,
   "metadata": {},
   "outputs": [],
   "source": [
    "merged.to_csv('twitter_bitcoin.csv')"
   ]
  }
 ],
 "metadata": {
  "kernelspec": {
   "display_name": "Python 3",
   "language": "python",
   "name": "python3"
  },
  "language_info": {
   "codemirror_mode": {
    "name": "ipython",
    "version": 3
   },
   "file_extension": ".py",
   "mimetype": "text/x-python",
   "name": "python",
   "nbconvert_exporter": "python",
   "pygments_lexer": "ipython3",
   "version": "3.8.6"
  }
 },
 "nbformat": 4,
 "nbformat_minor": 2
}
