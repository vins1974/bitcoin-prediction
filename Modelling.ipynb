{
  "nbformat": 4,
  "nbformat_minor": 0,
  "metadata": {
    "colab": {
      "name": "Modelling.ipynb",
      "provenance": [],
      "collapsed_sections": []
    },
    "kernelspec": {
      "name": "python3",
      "display_name": "Python 3"
    },
    "language_info": {
      "name": "python"
    }
  },
  "cells": [
    {
      "cell_type": "code",
      "metadata": {
        "id": "_Jt1tXTkODzS"
      },
      "source": [
        "import numpy as np\n",
        "\n",
        "import pandas as pd\n",
        "\n",
        "from pandas import Series, DataFrame\n",
        "\n",
        "import matplotlib.pyplot as plt\n",
        "\n",
        "%matplotlib inline\n",
        "\n",
        "twibit = pd.read_csv('/content/finaldata2.csv')"
      ],
      "execution_count": 6,
      "outputs": []
    },
    {
      "cell_type": "code",
      "metadata": {
        "id": "vP-8-TQBP-Vf"
      },
      "source": [
        "x = twibit[['Close','Volume','Polarity']]"
      ],
      "execution_count": 8,
      "outputs": []
    },
    {
      "cell_type": "code",
      "metadata": {
        "id": "zHvmS7yeP4N7"
      },
      "source": [
        "y = twibit.target"
      ],
      "execution_count": 9,
      "outputs": []
    },
    {
      "cell_type": "markdown",
      "metadata": {
        "id": "7ItY8k70TmzS"
      },
      "source": [
        "**Linear regression**"
      ]
    },
    {
      "cell_type": "code",
      "metadata": {
        "id": "E8_BImI6OspT"
      },
      "source": [
        "# importing linear regression\n",
        "from sklearn.linear_model import LinearRegression\n",
        "\n",
        "lreg = LinearRegression()"
      ],
      "execution_count": 10,
      "outputs": []
    },
    {
      "cell_type": "code",
      "metadata": {
        "id": "CaCLz5rGOtj5"
      },
      "source": [
        "# for cross validation\n",
        "\n",
        "from sklearn.model_selection import train_test_split\n",
        "\n",
        "\n",
        "x_train, x_cv, y_train, y_cv = train_test_split(x,y, test_size =0.3)"
      ],
      "execution_count": 12,
      "outputs": []
    },
    {
      "cell_type": "code",
      "metadata": {
        "colab": {
          "base_uri": "https://localhost:8080/"
        },
        "id": "tgX92c6vOyjm",
        "outputId": "c534e59d-afe3-499a-f930-87931cf43abb"
      },
      "source": [
        "# training a linear regression model on train\n",
        "\n",
        "lreg.fit(x_train,y_train)"
      ],
      "execution_count": 13,
      "outputs": [
        {
          "output_type": "execute_result",
          "data": {
            "text/plain": [
              "LinearRegression(copy_X=True, fit_intercept=True, n_jobs=None, normalize=False)"
            ]
          },
          "metadata": {
            "tags": []
          },
          "execution_count": 13
        }
      ]
    },
    {
      "cell_type": "code",
      "metadata": {
        "colab": {
          "base_uri": "https://localhost:8080/"
        },
        "id": "K71VdwL6O8sh",
        "outputId": "a18e68ef-10a7-415a-eb6c-515f2bfa45bf"
      },
      "source": [
        "# predicting on cv\n",
        "\n",
        "pred_cv = lreg.predict(x_cv)\n",
        "pred"
      ],
      "execution_count": 21,
      "outputs": [
        {
          "output_type": "execute_result",
          "data": {
            "text/plain": [
              "array([0.57829528, 0.57829528, 0.57829528, ..., 0.57829528, 0.57829528,\n",
              "       0.57829528])"
            ]
          },
          "metadata": {
            "tags": []
          },
          "execution_count": 21
        }
      ]
    },
    {
      "cell_type": "code",
      "metadata": {
        "colab": {
          "base_uri": "https://localhost:8080/"
        },
        "id": "Y4IbmI4CPAfg",
        "outputId": "cd52bdb2-27f0-40c0-dac5-61f026a34b1c"
      },
      "source": [
        "# calculating mse\n",
        "\n",
        "mse = np.mean((pred_cv - y_cv)**2)\n",
        "\n",
        "mse\n",
        "\n"
      ],
      "execution_count": 15,
      "outputs": [
        {
          "output_type": "execute_result",
          "data": {
            "text/plain": [
              "8582.470465270468"
            ]
          },
          "metadata": {
            "tags": []
          },
          "execution_count": 15
        }
      ]
    },
    {
      "cell_type": "code",
      "metadata": {
        "colab": {
          "base_uri": "https://localhost:8080/"
        },
        "id": "rAptlESYPEn2",
        "outputId": "0c42ad12-98fe-49b6-db80-c035507c2ace"
      },
      "source": [
        "\n",
        "# evaluation using r-square\n",
        "\n",
        "lreg.score(x_cv,y_cv)"
      ],
      "execution_count": 16,
      "outputs": [
        {
          "output_type": "execute_result",
          "data": {
            "text/plain": [
              "0.004304340732754763"
            ]
          },
          "metadata": {
            "tags": []
          },
          "execution_count": 16
        }
      ]
    },
    {
      "cell_type": "markdown",
      "metadata": {
        "id": "8CjJhpmETGyF"
      },
      "source": [
        "**Ridge Regression**"
      ]
    },
    {
      "cell_type": "code",
      "metadata": {
        "colab": {
          "base_uri": "https://localhost:8080/"
        },
        "id": "tevyKC2nTE56",
        "outputId": "f2133d14-5b93-4f46-955b-5fde2ec0fd61"
      },
      "source": [
        "from sklearn.linear_model import Ridge\n",
        "\n",
        "## training the model\n",
        "\n",
        "ridgeReg = Ridge(alpha=0.05, normalize=True)\n",
        "\n",
        "ridgeReg.fit(x_train,y_train)\n",
        "\n",
        "pred = ridgeReg.predict(x_cv)\n",
        "\n",
        "pred"
      ],
      "execution_count": 26,
      "outputs": [
        {
          "output_type": "execute_result",
          "data": {
            "text/plain": [
              "array([ 0.44359755,  1.1142751 ,  1.04983397, ..., -0.82335563,\n",
              "        1.33444067,  1.2136299 ])"
            ]
          },
          "metadata": {
            "tags": []
          },
          "execution_count": 26
        }
      ]
    },
    {
      "cell_type": "code",
      "metadata": {
        "colab": {
          "base_uri": "https://localhost:8080/"
        },
        "id": "yc4KxILaTU59",
        "outputId": "ddc2e1db-e9c6-4b54-c283-f8a34d75c35c"
      },
      "source": [
        "#calculating mse\n",
        "\n",
        "mse = np.mean((pred_cv - y_cv)**2)\n",
        "\n",
        "mse "
      ],
      "execution_count": 27,
      "outputs": [
        {
          "output_type": "execute_result",
          "data": {
            "text/plain": [
              "8588.593921805548"
            ]
          },
          "metadata": {
            "tags": []
          },
          "execution_count": 27
        }
      ]
    },
    {
      "cell_type": "code",
      "metadata": {
        "colab": {
          "base_uri": "https://localhost:8080/"
        },
        "id": "TX2dDV-NTZp_",
        "outputId": "eef70887-049f-4642-bc16-817f0e590041"
      },
      "source": [
        "## calculating score \n",
        "ridgeReg.score(x_cv,y_cv)"
      ],
      "execution_count": 28,
      "outputs": [
        {
          "output_type": "execute_result",
          "data": {
            "text/plain": [
              "0.0040332049382121316"
            ]
          },
          "metadata": {
            "tags": []
          },
          "execution_count": 28
        }
      ]
    },
    {
      "cell_type": "markdown",
      "metadata": {
        "id": "HUget5FrQ2M0"
      },
      "source": [
        "**Lasso regression**"
      ]
    },
    {
      "cell_type": "code",
      "metadata": {
        "colab": {
          "base_uri": "https://localhost:8080/"
        },
        "id": "hujgwXVTNmdl",
        "outputId": "b4b0551d-d04f-4107-887b-cb18e2da1763"
      },
      "source": [
        "from sklearn.linear_model import Lasso\n",
        "\n",
        "lassoReg = Lasso(alpha=0.3, normalize=True)\n",
        "\n",
        "lassoReg.fit(x_train,y_train)\n",
        "\n",
        "pred = lassoReg.predict(x_cv)\n",
        "\n",
        "pred"
      ],
      "execution_count": 20,
      "outputs": [
        {
          "output_type": "execute_result",
          "data": {
            "text/plain": [
              "array([0.57829528, 0.57829528, 0.57829528, ..., 0.57829528, 0.57829528,\n",
              "       0.57829528])"
            ]
          },
          "metadata": {
            "tags": []
          },
          "execution_count": 20
        }
      ]
    },
    {
      "cell_type": "code",
      "metadata": {
        "colab": {
          "base_uri": "https://localhost:8080/"
        },
        "id": "UD_5-_SeQhXh",
        "outputId": "23dcc2ee-4fd4-4b28-87af-234c79baecc6"
      },
      "source": [
        "# calculating mse\n",
        "\n",
        "mse = np.mean((pred_cv - y_cv)**2)\n",
        "mse"
      ],
      "execution_count": 18,
      "outputs": [
        {
          "output_type": "execute_result",
          "data": {
            "text/plain": [
              "8582.470465270468"
            ]
          },
          "metadata": {
            "tags": []
          },
          "execution_count": 18
        }
      ]
    },
    {
      "cell_type": "code",
      "metadata": {
        "colab": {
          "base_uri": "https://localhost:8080/"
        },
        "id": "WV7jdrNzQlgU",
        "outputId": "df0e69c8-3590-48dc-a9bd-4e46da36cea0"
      },
      "source": [
        "lassoReg.score(x_cv,y_cv)"
      ],
      "execution_count": 19,
      "outputs": [
        {
          "output_type": "execute_result",
          "data": {
            "text/plain": [
              "-0.0011054831756720507"
            ]
          },
          "metadata": {
            "tags": []
          },
          "execution_count": 19
        }
      ]
    },
    {
      "cell_type": "markdown",
      "metadata": {
        "id": "W-GFD-6iRJxL"
      },
      "source": [
        "**Elastic Net Regression**"
      ]
    },
    {
      "cell_type": "code",
      "metadata": {
        "colab": {
          "base_uri": "https://localhost:8080/"
        },
        "id": "I7RXVuKKRE-P",
        "outputId": "edba8c52-cf86-49cf-e513-b1c46d5f846c"
      },
      "source": [
        "from sklearn.linear_model import ElasticNet\n",
        "\n",
        "ENreg = ElasticNet(alpha=1, l1_ratio=0.5, normalize=False)\n",
        "\n",
        "ENreg.fit(x_train,y_train)\n",
        "\n",
        "pred_cv = ENreg.predict(x_cv)\n",
        "pred_cv"
      ],
      "execution_count": 23,
      "outputs": [
        {
          "output_type": "execute_result",
          "data": {
            "text/plain": [
              "array([0.6973733 , 0.64234325, 0.62703546, ..., 0.63162651, 0.7049507 ,\n",
              "       0.73251166])"
            ]
          },
          "metadata": {
            "tags": []
          },
          "execution_count": 23
        }
      ]
    },
    {
      "cell_type": "code",
      "metadata": {
        "colab": {
          "base_uri": "https://localhost:8080/"
        },
        "id": "rrCwZhxVRUcv",
        "outputId": "1a1b078d-8dbf-4a7f-f3f5-1175f0b67e32"
      },
      "source": [
        "#calculating mse\n",
        "\n",
        "mse = np.mean((pred_cv - y_cv)**2)\n",
        "\n",
        "mse \n"
      ],
      "execution_count": 24,
      "outputs": [
        {
          "output_type": "execute_result",
          "data": {
            "text/plain": [
              "8588.593921805548"
            ]
          },
          "metadata": {
            "tags": []
          },
          "execution_count": 24
        }
      ]
    },
    {
      "cell_type": "code",
      "metadata": {
        "colab": {
          "base_uri": "https://localhost:8080/"
        },
        "id": "qvcBCzsXRXTO",
        "outputId": "5c8b630d-dae4-480b-9f35-9f02c524d0fe"
      },
      "source": [
        "ENreg.score(x_cv,y_cv)"
      ],
      "execution_count": 25,
      "outputs": [
        {
          "output_type": "execute_result",
          "data": {
            "text/plain": [
              "0.0035939276743744974"
            ]
          },
          "metadata": {
            "tags": []
          },
          "execution_count": 25
        }
      ]
    }
  ]
}