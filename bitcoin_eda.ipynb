{
 "cells": [
  {
   "cell_type": "code",
   "execution_count": 23,
   "id": "level-mailman",
   "metadata": {},
   "outputs": [],
   "source": [
    "import matplotlib.pyplot as plt\n",
    "import pandas as pd\n",
    "import tensorflow as tf\n",
    "import numpy as np\n",
    "from sklearn.model_selection import train_test_split\n",
    "import plotly.offline as py\n",
    "import plotly.graph_objs as go"
   ]
  },
  {
   "cell_type": "code",
   "execution_count": 24,
   "id": "widespread-vitamin",
   "metadata": {},
   "outputs": [],
   "source": [
    "btc=pd.read_csv(\"bitcoin.csv\")"
   ]
  },
  {
   "cell_type": "code",
   "execution_count": 25,
   "id": "bulgarian-english",
   "metadata": {},
   "outputs": [
    {
     "data": {
      "text/html": [
       "<div>\n",
       "<style scoped>\n",
       "    .dataframe tbody tr th:only-of-type {\n",
       "        vertical-align: middle;\n",
       "    }\n",
       "\n",
       "    .dataframe tbody tr th {\n",
       "        vertical-align: top;\n",
       "    }\n",
       "\n",
       "    .dataframe thead th {\n",
       "        text-align: right;\n",
       "    }\n",
       "</style>\n",
       "<table border=\"1\" class=\"dataframe\">\n",
       "  <thead>\n",
       "    <tr style=\"text-align: right;\">\n",
       "      <th></th>\n",
       "      <th>Unnamed: 0</th>\n",
       "      <th>time</th>\n",
       "      <th>open</th>\n",
       "      <th>close</th>\n",
       "      <th>high</th>\n",
       "      <th>low</th>\n",
       "      <th>volume</th>\n",
       "    </tr>\n",
       "  </thead>\n",
       "  <tbody>\n",
       "    <tr>\n",
       "      <th>0</th>\n",
       "      <td>0</td>\n",
       "      <td>2021-04-19 10:04:00</td>\n",
       "      <td>56572.0</td>\n",
       "      <td>56553.000000</td>\n",
       "      <td>56628.000000</td>\n",
       "      <td>56552.000000</td>\n",
       "      <td>4.975340</td>\n",
       "    </tr>\n",
       "    <tr>\n",
       "      <th>1</th>\n",
       "      <td>1</td>\n",
       "      <td>2021-04-19 10:03:00</td>\n",
       "      <td>56666.0</td>\n",
       "      <td>56574.000000</td>\n",
       "      <td>56666.000000</td>\n",
       "      <td>56551.649294</td>\n",
       "      <td>11.875513</td>\n",
       "    </tr>\n",
       "    <tr>\n",
       "      <th>2</th>\n",
       "      <td>2</td>\n",
       "      <td>2021-04-19 10:02:00</td>\n",
       "      <td>56694.0</td>\n",
       "      <td>56666.636456</td>\n",
       "      <td>56701.000000</td>\n",
       "      <td>56666.000000</td>\n",
       "      <td>1.559669</td>\n",
       "    </tr>\n",
       "    <tr>\n",
       "      <th>3</th>\n",
       "      <td>3</td>\n",
       "      <td>2021-04-19 10:01:00</td>\n",
       "      <td>56778.0</td>\n",
       "      <td>56694.000000</td>\n",
       "      <td>56778.000000</td>\n",
       "      <td>56694.000000</td>\n",
       "      <td>2.271022</td>\n",
       "    </tr>\n",
       "    <tr>\n",
       "      <th>4</th>\n",
       "      <td>4</td>\n",
       "      <td>2021-04-19 10:00:00</td>\n",
       "      <td>56719.0</td>\n",
       "      <td>56779.155929</td>\n",
       "      <td>56808.657034</td>\n",
       "      <td>56719.000000</td>\n",
       "      <td>1.862801</td>\n",
       "    </tr>\n",
       "  </tbody>\n",
       "</table>\n",
       "</div>"
      ],
      "text/plain": [
       "   Unnamed: 0                 time     open         close          high  \\\n",
       "0           0  2021-04-19 10:04:00  56572.0  56553.000000  56628.000000   \n",
       "1           1  2021-04-19 10:03:00  56666.0  56574.000000  56666.000000   \n",
       "2           2  2021-04-19 10:02:00  56694.0  56666.636456  56701.000000   \n",
       "3           3  2021-04-19 10:01:00  56778.0  56694.000000  56778.000000   \n",
       "4           4  2021-04-19 10:00:00  56719.0  56779.155929  56808.657034   \n",
       "\n",
       "            low     volume  \n",
       "0  56552.000000   4.975340  \n",
       "1  56551.649294  11.875513  \n",
       "2  56666.000000   1.559669  \n",
       "3  56694.000000   2.271022  \n",
       "4  56719.000000   1.862801  "
      ]
     },
     "execution_count": 25,
     "metadata": {},
     "output_type": "execute_result"
    }
   ],
   "source": [
    "btc.head()"
   ]
  },
  {
   "cell_type": "code",
   "execution_count": 26,
   "id": "spiritual-produce",
   "metadata": {},
   "outputs": [],
   "source": [
    "btc.drop(columns=[\"Unnamed: 0\",\"open\",\"high\",\"low\"],inplace=True)"
   ]
  },
  {
   "cell_type": "code",
   "execution_count": 27,
   "id": "monetary-washer",
   "metadata": {},
   "outputs": [
    {
     "data": {
      "text/html": [
       "<div>\n",
       "<style scoped>\n",
       "    .dataframe tbody tr th:only-of-type {\n",
       "        vertical-align: middle;\n",
       "    }\n",
       "\n",
       "    .dataframe tbody tr th {\n",
       "        vertical-align: top;\n",
       "    }\n",
       "\n",
       "    .dataframe thead th {\n",
       "        text-align: right;\n",
       "    }\n",
       "</style>\n",
       "<table border=\"1\" class=\"dataframe\">\n",
       "  <thead>\n",
       "    <tr style=\"text-align: right;\">\n",
       "      <th></th>\n",
       "      <th>time</th>\n",
       "      <th>close</th>\n",
       "      <th>volume</th>\n",
       "    </tr>\n",
       "  </thead>\n",
       "  <tbody>\n",
       "    <tr>\n",
       "      <th>0</th>\n",
       "      <td>2021-04-19 10:04:00</td>\n",
       "      <td>56553.000000</td>\n",
       "      <td>4.975340</td>\n",
       "    </tr>\n",
       "    <tr>\n",
       "      <th>1</th>\n",
       "      <td>2021-04-19 10:03:00</td>\n",
       "      <td>56574.000000</td>\n",
       "      <td>11.875513</td>\n",
       "    </tr>\n",
       "    <tr>\n",
       "      <th>2</th>\n",
       "      <td>2021-04-19 10:02:00</td>\n",
       "      <td>56666.636456</td>\n",
       "      <td>1.559669</td>\n",
       "    </tr>\n",
       "    <tr>\n",
       "      <th>3</th>\n",
       "      <td>2021-04-19 10:01:00</td>\n",
       "      <td>56694.000000</td>\n",
       "      <td>2.271022</td>\n",
       "    </tr>\n",
       "    <tr>\n",
       "      <th>4</th>\n",
       "      <td>2021-04-19 10:00:00</td>\n",
       "      <td>56779.155929</td>\n",
       "      <td>1.862801</td>\n",
       "    </tr>\n",
       "  </tbody>\n",
       "</table>\n",
       "</div>"
      ],
      "text/plain": [
       "                  time         close     volume\n",
       "0  2021-04-19 10:04:00  56553.000000   4.975340\n",
       "1  2021-04-19 10:03:00  56574.000000  11.875513\n",
       "2  2021-04-19 10:02:00  56666.636456   1.559669\n",
       "3  2021-04-19 10:01:00  56694.000000   2.271022\n",
       "4  2021-04-19 10:00:00  56779.155929   1.862801"
      ]
     },
     "execution_count": 27,
     "metadata": {},
     "output_type": "execute_result"
    }
   ],
   "source": [
    "btc.head()"
   ]
  },
  {
   "cell_type": "code",
   "execution_count": 28,
   "id": "beautiful-fitness",
   "metadata": {},
   "outputs": [
    {
     "data": {
      "image/png": "[encoded data removed]",
      "text/plain": [
       "<Figure size 432x288 with 1 Axes>"
      ]
     },
     "metadata": {
      "needs_background": "light"
     },
     "output_type": "display_data"
    }
   ],
   "source": [
    "plt.plot(btc[\"time\"],btc[\"close\"])\n",
    "plt.xlabel(\"date\")\n",
    "plt.ylabel(\"closeprice\")\n",
    "plt.show()"
   ]
  },
  {
   "cell_type": "code",
   "execution_count": 29,
   "id": "fluid-stand",
   "metadata": {},
   "outputs": [],
   "source": [
    "from datetime import datetime\n",
    "btc[\"time\"] = pd.to_datetime(btc['time'])"
   ]
  },
  {
   "cell_type": "code",
   "execution_count": 30,
   "id": "moral-professional",
   "metadata": {},
   "outputs": [
    {
     "name": "stdout",
     "output_type": "stream",
     "text": [
      "<class 'pandas.core.frame.DataFrame'>\n",
      "RangeIndex: 10000 entries, 0 to 9999\n",
      "Data columns (total 3 columns):\n",
      " #   Column  Non-Null Count  Dtype         \n",
      "---  ------  --------------  -----         \n",
      " 0   time    10000 non-null  datetime64[ns]\n",
      " 1   close   10000 non-null  float64       \n",
      " 2   volume  10000 non-null  float64       \n",
      "dtypes: datetime64[ns](1), float64(2)\n",
      "memory usage: 234.5 KB\n"
     ]
    }
   ],
   "source": [
    "btc.info()"
   ]
  },
  {
   "cell_type": "code",
   "execution_count": 31,
   "id": "billion-beverage",
   "metadata": {},
   "outputs": [],
   "source": [
    "btc[\"time\"]=btc[\"time\"].dt.strftime(\"%Y-%m-%d, %H:%M\")"
   ]
  },
  {
   "cell_type": "code",
   "execution_count": 32,
   "id": "representative-generation",
   "metadata": {},
   "outputs": [
    {
     "data": {
      "text/html": [
       "<div>\n",
       "<style scoped>\n",
       "    .dataframe tbody tr th:only-of-type {\n",
       "        vertical-align: middle;\n",
       "    }\n",
       "\n",
       "    .dataframe tbody tr th {\n",
       "        vertical-align: top;\n",
       "    }\n",
       "\n",
       "    .dataframe thead th {\n",
       "        text-align: right;\n",
       "    }\n",
       "</style>\n",
       "<table border=\"1\" class=\"dataframe\">\n",
       "  <thead>\n",
       "    <tr style=\"text-align: right;\">\n",
       "      <th></th>\n",
       "      <th>time</th>\n",
       "      <th>close</th>\n",
       "      <th>volume</th>\n",
       "    </tr>\n",
       "  </thead>\n",
       "  <tbody>\n",
       "    <tr>\n",
       "      <th>0</th>\n",
       "      <td>2021-04-19, 10:04</td>\n",
       "      <td>56553.000000</td>\n",
       "      <td>4.975340</td>\n",
       "    </tr>\n",
       "    <tr>\n",
       "      <th>1</th>\n",
       "      <td>2021-04-19, 10:03</td>\n",
       "      <td>56574.000000</td>\n",
       "      <td>11.875513</td>\n",
       "    </tr>\n",
       "    <tr>\n",
       "      <th>2</th>\n",
       "      <td>2021-04-19, 10:02</td>\n",
       "      <td>56666.636456</td>\n",
       "      <td>1.559669</td>\n",
       "    </tr>\n",
       "    <tr>\n",
       "      <th>3</th>\n",
       "      <td>2021-04-19, 10:01</td>\n",
       "      <td>56694.000000</td>\n",
       "      <td>2.271022</td>\n",
       "    </tr>\n",
       "    <tr>\n",
       "      <th>4</th>\n",
       "      <td>2021-04-19, 10:00</td>\n",
       "      <td>56779.155929</td>\n",
       "      <td>1.862801</td>\n",
       "    </tr>\n",
       "  </tbody>\n",
       "</table>\n",
       "</div>"
      ],
      "text/plain": [
       "                time         close     volume\n",
       "0  2021-04-19, 10:04  56553.000000   4.975340\n",
       "1  2021-04-19, 10:03  56574.000000  11.875513\n",
       "2  2021-04-19, 10:02  56666.636456   1.559669\n",
       "3  2021-04-19, 10:01  56694.000000   2.271022\n",
       "4  2021-04-19, 10:00  56779.155929   1.862801"
      ]
     },
     "execution_count": 32,
     "metadata": {},
     "output_type": "execute_result"
    }
   ],
   "source": [
    "btc.head()"
   ]
  },
  {
   "cell_type": "code",
   "execution_count": 33,
   "id": "trained-likelihood",
   "metadata": {},
   "outputs": [],
   "source": [
    "btc.to_csv(\"btc_eda.csv\")"
   ]
  },
  {
   "cell_type": "code",
   "execution_count": null,
   "id": "varied-prospect",
   "metadata": {},
   "outputs": [],
   "source": []
  }
 ],
 "metadata": {
  "kernelspec": {
   "display_name": "Python 3",
   "language": "python",
   "name": "python3"
  },
  "language_info": {
   "codemirror_mode": {
    "name": "ipython",
    "version": 3
   },
   "file_extension": ".py",
   "mimetype": "text/x-python",
   "name": "python",
   "nbconvert_exporter": "python",
   "pygments_lexer": "ipython3",
   "version": "3.8.6"
  }
 },
 "nbformat": 4,
 "nbformat_minor": 5
}
